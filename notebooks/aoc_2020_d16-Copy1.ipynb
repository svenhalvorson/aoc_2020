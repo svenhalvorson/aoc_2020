{
 "cells": [
  {
   "cell_type": "markdown",
   "metadata": {},
   "source": [
    "## [Day 16](https://adventofcode.com/2020/day16)\n",
    "\n",
    "Alrighty then. The next assignment gives us some instructions for a valid ticket. We're given a set of characteristics and ranges of values they could occupy. The first one just asks us about which values in the below tickets could not occupy *any* of the ticket characteristics. My suspicion is that the second part will ask some thing about the 'your ticket' and what the arrangement of the values is with the seat/row/zone ect.\n"
   ]
  },
  {
   "cell_type": "code",
   "execution_count": 14,
   "metadata": {},
   "outputs": [
    {
     "data": {
      "text/plain": [
       "['departure location: 42-570 or 579-960',\n",
       " 'departure station: 45-101 or 118-967',\n",
       " 'departure platform: 36-374 or 394-958',\n",
       " 'departure track: 48-212 or 233-950',\n",
       " 'departure date: 41-481 or 492-953',\n",
       " 'departure time: 38-266 or 274-955',\n",
       " 'arrival location: 32-560 or 567-951',\n",
       " 'arrival station: 44-738 or 762-970',\n",
       " 'arrival platform: 40-675 or 685-949',\n",
       " 'arrival track: 25-320 or 344-954',\n",
       " 'class: 32-806 or 815-959',\n",
       " 'duration: 38-121 or 129-958',\n",
       " 'price: 35-692 or 706-957',\n",
       " 'route: 36-890 or 901-951',\n",
       " 'row: 35-282 or 288-964',\n",
       " 'seat: 35-445 or 469-954',\n",
       " 'train: 45-294 or 317-968',\n",
       " 'type: 44-240 or 265-960',\n",
       " 'wagon: 32-816 or 825-971',\n",
       " 'zone: 30-629 or 637-968',\n",
       " '',\n",
       " 'your ticket:',\n",
       " '79,149,97,163,59,151,101,89,173,139,167,61,73,71,137,53,83,157,131,67',\n",
       " '',\n",
       " 'nearby tickets:',\n",
       " '945,134,238,221,801,428,519,660,523,537,481,156,845,873,52,172,918,179,188,77',\n",
       " '689,374,471,415,317,722,768,556,557,526,812,508,673,350,481,525,915,788,374,655',\n",
       " '350,537,762,88,926,71,629,611,356,515,413,947,935,826,770,487,358,716,688,907',\n",
       " '767,512,167,728,581,539,819,427,869,709,936,841,275,765,419,275,75,147,790,780',\n",
       " '662,791,783,858,920,77,924,627,151,349,131,130,880,191,816,357,675,69,51,756']"
      ]
     },
     "execution_count": 14,
     "metadata": {},
     "output_type": "execute_result"
    }
   ],
   "source": [
    "import pandas as pd\n",
    "import numpy as np\n",
    "import re, itertools\n",
    "\n",
    "with open('../inputs/d16.txt') as imp:\n",
    "    tickets = imp.read().splitlines()\n",
    "tickets[:30]"
   ]
  },
  {
   "cell_type": "markdown",
   "metadata": {},
   "source": [
    "So I guess I'll just start by getting a ticket list, my ticket, and the sets of instructions. I am thinking that we will have to re-munge the data later for part 2 but I can't predict how so let's ignore it!"
   ]
  },
  {
   "cell_type": "code",
   "execution_count": 15,
   "metadata": {},
   "outputs": [
    {
     "data": {
      "text/plain": [
       "['departure location',\n",
       " 'departure station',\n",
       " 'departure platform',\n",
       " 'departure track',\n",
       " 'departure date',\n",
       " 'departure time',\n",
       " 'arrival location',\n",
       " 'arrival station',\n",
       " 'arrival platform',\n",
       " 'arrival track',\n",
       " 'class',\n",
       " 'duration',\n",
       " 'price',\n",
       " 'route',\n",
       " 'row',\n",
       " 'seat',\n",
       " 'train',\n",
       " 'type',\n",
       " 'wagon',\n",
       " 'zone']"
      ]
     },
     "execution_count": 15,
     "metadata": {},
     "output_type": "execute_result"
    }
   ],
   "source": [
    "# Let's copy our regular expression syntax from that other one to capture the ticket characteristics\n",
    "# first. Maybe this will be useful later:\n",
    "features, lowers, uppers = [], [], []\n",
    "for i in range(len(tickets)):\n",
    "    m = re.match(r\"(?P<feature>[a-zA-Z]+ ?[a-zA-Z]*): (?P<lower>\\d+-\\d+) or (?P<upper>\\d+-\\d+)\", tickets[i])\n",
    "    if m:\n",
    "        features.append(m.group('feature'))\n",
    "        lowers.append(m.group('lower'))\n",
    "        uppers.append(m.group('upper'))\n",
    "    else:\n",
    "        break\n",
    "features"
   ]
  },
  {
   "cell_type": "markdown",
   "metadata": {},
   "source": [
    "So I solved a problem kind of like this for a job but it will be good to try a problem like this with python. Again, this absolutely does not need pandas but let's do it anyways!!! What I'm going to do for part 1 is just form a single data set of the bounds, sort it, and then start to merge the rows if they overlap to make a more succinct set of possible values:"
   ]
  },
  {
   "cell_type": "code",
   "execution_count": 3,
   "metadata": {},
   "outputs": [
    {
     "data": {
      "text/html": [
       "<div>\n",
       "<style scoped>\n",
       "    .dataframe tbody tr th:only-of-type {\n",
       "        vertical-align: middle;\n",
       "    }\n",
       "\n",
       "    .dataframe tbody tr th {\n",
       "        vertical-align: top;\n",
       "    }\n",
       "\n",
       "    .dataframe thead th {\n",
       "        text-align: right;\n",
       "    }\n",
       "</style>\n",
       "<table border=\"1\" class=\"dataframe\">\n",
       "  <thead>\n",
       "    <tr style=\"text-align: right;\">\n",
       "      <th></th>\n",
       "      <th>feature</th>\n",
       "      <th>lower</th>\n",
       "      <th>upper</th>\n",
       "      <th>lower2</th>\n",
       "      <th>upper2</th>\n",
       "    </tr>\n",
       "  </thead>\n",
       "  <tbody>\n",
       "    <tr>\n",
       "      <th>0</th>\n",
       "      <td>departure location</td>\n",
       "      <td>42</td>\n",
       "      <td>570</td>\n",
       "      <td>579</td>\n",
       "      <td>960</td>\n",
       "    </tr>\n",
       "    <tr>\n",
       "      <th>1</th>\n",
       "      <td>departure station</td>\n",
       "      <td>45</td>\n",
       "      <td>101</td>\n",
       "      <td>118</td>\n",
       "      <td>967</td>\n",
       "    </tr>\n",
       "    <tr>\n",
       "      <th>2</th>\n",
       "      <td>departure platform</td>\n",
       "      <td>36</td>\n",
       "      <td>374</td>\n",
       "      <td>394</td>\n",
       "      <td>958</td>\n",
       "    </tr>\n",
       "    <tr>\n",
       "      <th>3</th>\n",
       "      <td>departure track</td>\n",
       "      <td>48</td>\n",
       "      <td>212</td>\n",
       "      <td>233</td>\n",
       "      <td>950</td>\n",
       "    </tr>\n",
       "    <tr>\n",
       "      <th>4</th>\n",
       "      <td>departure date</td>\n",
       "      <td>41</td>\n",
       "      <td>481</td>\n",
       "      <td>492</td>\n",
       "      <td>953</td>\n",
       "    </tr>\n",
       "  </tbody>\n",
       "</table>\n",
       "</div>"
      ],
      "text/plain": [
       "              feature  lower  upper  lower2  upper2\n",
       "0  departure location     42    570     579     960\n",
       "1   departure station     45    101     118     967\n",
       "2  departure platform     36    374     394     958\n",
       "3     departure track     48    212     233     950\n",
       "4      departure date     41    481     492     953"
      ]
     },
     "execution_count": 3,
     "metadata": {},
     "output_type": "execute_result"
    }
   ],
   "source": [
    "lowers2 = [int(x.split('-')[0]) for x in lowers]\n",
    "uppers2 = [int(x.split('-')[1]) for x in lowers]\n",
    "lowers = [int(x.split('-')[0]) for x in uppers]\n",
    "uppers = [int(x.split('-')[1]) for x in uppers]\n",
    "bounds_df = pd.DataFrame(\n",
    "    {'feature':features, \n",
    "     'lower':lowers2, \n",
    "     'upper':uppers2, \n",
    "     'lower2':lowers, \n",
    "     'upper2':uppers}\n",
    "    )\n",
    "# Yeah... I gotta figure out how to do those multi-liners better\n",
    "bounds_df.head()"
   ]
  },
  {
   "cell_type": "markdown",
   "metadata": {},
   "source": [
    "Now get the nearby tickets into a data frame:"
   ]
  },
  {
   "cell_type": "code",
   "execution_count": 4,
   "metadata": {},
   "outputs": [
    {
     "data": {
      "text/html": [
       "<div>\n",
       "<style scoped>\n",
       "    .dataframe tbody tr th:only-of-type {\n",
       "        vertical-align: middle;\n",
       "    }\n",
       "\n",
       "    .dataframe tbody tr th {\n",
       "        vertical-align: top;\n",
       "    }\n",
       "\n",
       "    .dataframe thead th {\n",
       "        text-align: right;\n",
       "    }\n",
       "</style>\n",
       "<table border=\"1\" class=\"dataframe\">\n",
       "  <thead>\n",
       "    <tr style=\"text-align: right;\">\n",
       "      <th></th>\n",
       "      <th>ticket_num</th>\n",
       "      <th>feature_id</th>\n",
       "      <th>value</th>\n",
       "    </tr>\n",
       "  </thead>\n",
       "  <tbody>\n",
       "    <tr>\n",
       "      <th>0</th>\n",
       "      <td>0</td>\n",
       "      <td>0</td>\n",
       "      <td>945</td>\n",
       "    </tr>\n",
       "    <tr>\n",
       "      <th>1</th>\n",
       "      <td>0</td>\n",
       "      <td>1</td>\n",
       "      <td>134</td>\n",
       "    </tr>\n",
       "    <tr>\n",
       "      <th>2</th>\n",
       "      <td>0</td>\n",
       "      <td>2</td>\n",
       "      <td>238</td>\n",
       "    </tr>\n",
       "    <tr>\n",
       "      <th>3</th>\n",
       "      <td>0</td>\n",
       "      <td>3</td>\n",
       "      <td>221</td>\n",
       "    </tr>\n",
       "    <tr>\n",
       "      <th>4</th>\n",
       "      <td>0</td>\n",
       "      <td>4</td>\n",
       "      <td>801</td>\n",
       "    </tr>\n",
       "    <tr>\n",
       "      <th>...</th>\n",
       "      <td>...</td>\n",
       "      <td>...</td>\n",
       "      <td>...</td>\n",
       "    </tr>\n",
       "    <tr>\n",
       "      <th>4795</th>\n",
       "      <td>239</td>\n",
       "      <td>15</td>\n",
       "      <td>23</td>\n",
       "    </tr>\n",
       "    <tr>\n",
       "      <th>4796</th>\n",
       "      <td>239</td>\n",
       "      <td>16</td>\n",
       "      <td>845</td>\n",
       "    </tr>\n",
       "    <tr>\n",
       "      <th>4797</th>\n",
       "      <td>239</td>\n",
       "      <td>17</td>\n",
       "      <td>552</td>\n",
       "    </tr>\n",
       "    <tr>\n",
       "      <th>4798</th>\n",
       "      <td>239</td>\n",
       "      <td>18</td>\n",
       "      <td>826</td>\n",
       "    </tr>\n",
       "    <tr>\n",
       "      <th>4799</th>\n",
       "      <td>239</td>\n",
       "      <td>19</td>\n",
       "      <td>93</td>\n",
       "    </tr>\n",
       "  </tbody>\n",
       "</table>\n",
       "<p>4800 rows × 3 columns</p>\n",
       "</div>"
      ],
      "text/plain": [
       "      ticket_num  feature_id  value\n",
       "0              0           0    945\n",
       "1              0           1    134\n",
       "2              0           2    238\n",
       "3              0           3    221\n",
       "4              0           4    801\n",
       "...          ...         ...    ...\n",
       "4795         239          15     23\n",
       "4796         239          16    845\n",
       "4797         239          17    552\n",
       "4798         239          18    826\n",
       "4799         239          19     93\n",
       "\n",
       "[4800 rows x 3 columns]"
      ]
     },
     "execution_count": 4,
     "metadata": {},
     "output_type": "execute_result"
    }
   ],
   "source": [
    "# Let's see if we can get a long version of nearby tickets \n",
    "nearby_tickets = tickets[tickets.index('nearby tickets:')+1:]\n",
    "tickets_df = pd.DataFrame({'ticket_num':[], 'feature_id':[], 'value':[]})\n",
    "tickets_df = tickets_df.astype('int')\n",
    "for ticket_num, ticket in enumerate(nearby_tickets):\n",
    "    values = [int(x) for x in ticket.split(',')]\n",
    "    new_ticket = pd.DataFrame({\n",
    "        'ticket_num':ticket_num,\n",
    "        'feature_id':list(range(len(values))),\n",
    "        'value':values\n",
    "    })\n",
    "    tickets_df = pd.concat([tickets_df, new_ticket], axis = 0)\n",
    "tickets_df.reset_index(drop = True, inplace = True)\n",
    "tickets_df"
   ]
  },
  {
   "cell_type": "markdown",
   "metadata": {},
   "source": [
    "Well gollee, we did our own `melt`.\n",
    "\n",
    "Last piece is:\n",
    "1. Cross join the nearby tickets and bounds\n",
    "2. Apply a filter on the values being out of range\n",
    "3. Group by the ticket num & feature ID\n",
    "4. Count, filter those with less than the max feature ID\n",
    "4. Sum the values "
   ]
  },
  {
   "cell_type": "code",
   "execution_count": 5,
   "metadata": {},
   "outputs": [
    {
     "data": {
      "text/html": [
       "<div>\n",
       "<style scoped>\n",
       "    .dataframe tbody tr th:only-of-type {\n",
       "        vertical-align: middle;\n",
       "    }\n",
       "\n",
       "    .dataframe tbody tr th {\n",
       "        vertical-align: top;\n",
       "    }\n",
       "\n",
       "    .dataframe thead th {\n",
       "        text-align: right;\n",
       "    }\n",
       "</style>\n",
       "<table border=\"1\" class=\"dataframe\">\n",
       "  <thead>\n",
       "    <tr style=\"text-align: right;\">\n",
       "      <th></th>\n",
       "      <th>ticket_num</th>\n",
       "      <th>feature_id</th>\n",
       "      <th>value</th>\n",
       "      <th>n</th>\n",
       "    </tr>\n",
       "  </thead>\n",
       "  <tbody>\n",
       "    <tr>\n",
       "      <th>0</th>\n",
       "      <td>0</td>\n",
       "      <td>3</td>\n",
       "      <td>221</td>\n",
       "      <td>1</td>\n",
       "    </tr>\n",
       "    <tr>\n",
       "      <th>1</th>\n",
       "      <td>1</td>\n",
       "      <td>10</td>\n",
       "      <td>812</td>\n",
       "      <td>1</td>\n",
       "    </tr>\n",
       "    <tr>\n",
       "      <th>2</th>\n",
       "      <td>2</td>\n",
       "      <td>15</td>\n",
       "      <td>487</td>\n",
       "      <td>1</td>\n",
       "    </tr>\n",
       "    <tr>\n",
       "      <th>3</th>\n",
       "      <td>3</td>\n",
       "      <td>6</td>\n",
       "      <td>819</td>\n",
       "      <td>1</td>\n",
       "    </tr>\n",
       "    <tr>\n",
       "      <th>4</th>\n",
       "      <td>4</td>\n",
       "      <td>19</td>\n",
       "      <td>756</td>\n",
       "      <td>1</td>\n",
       "    </tr>\n",
       "    <tr>\n",
       "      <th>...</th>\n",
       "      <td>...</td>\n",
       "      <td>...</td>\n",
       "      <td>...</td>\n",
       "      <td>...</td>\n",
       "    </tr>\n",
       "    <tr>\n",
       "      <th>235</th>\n",
       "      <td>235</td>\n",
       "      <td>1</td>\n",
       "      <td>758</td>\n",
       "      <td>1</td>\n",
       "    </tr>\n",
       "    <tr>\n",
       "      <th>236</th>\n",
       "      <td>236</td>\n",
       "      <td>1</td>\n",
       "      <td>467</td>\n",
       "      <td>1</td>\n",
       "    </tr>\n",
       "    <tr>\n",
       "      <th>237</th>\n",
       "      <td>237</td>\n",
       "      <td>0</td>\n",
       "      <td>897</td>\n",
       "      <td>1</td>\n",
       "    </tr>\n",
       "    <tr>\n",
       "      <th>238</th>\n",
       "      <td>238</td>\n",
       "      <td>15</td>\n",
       "      <td>283</td>\n",
       "      <td>1</td>\n",
       "    </tr>\n",
       "    <tr>\n",
       "      <th>239</th>\n",
       "      <td>239</td>\n",
       "      <td>15</td>\n",
       "      <td>23</td>\n",
       "      <td>20</td>\n",
       "    </tr>\n",
       "  </tbody>\n",
       "</table>\n",
       "<p>240 rows × 4 columns</p>\n",
       "</div>"
      ],
      "text/plain": [
       "     ticket_num  feature_id  value   n\n",
       "0             0           3    221   1\n",
       "1             1          10    812   1\n",
       "2             2          15    487   1\n",
       "3             3           6    819   1\n",
       "4             4          19    756   1\n",
       "..          ...         ...    ...  ..\n",
       "235         235           1    758   1\n",
       "236         236           1    467   1\n",
       "237         237           0    897   1\n",
       "238         238          15    283   1\n",
       "239         239          15     23  20\n",
       "\n",
       "[240 rows x 4 columns]"
      ]
     },
     "execution_count": 5,
     "metadata": {},
     "output_type": "execute_result"
    }
   ],
   "source": [
    "# see if we can fancy pants it\n",
    "max_tickets = tickets_df.feature_id.max() + 1\n",
    "ticket_counts = (tickets_df.assign(key = 1)\n",
    "                 .merge(bounds_df.assign(key = 1))\n",
    "                 .query('value < lower or value > upper2 or (upper < value < lower2)')\n",
    "                 .assign(n = 1)\n",
    "                 [['ticket_num', 'feature_id', 'value', 'n']]\n",
    "                 .groupby(['ticket_num', 'feature_id', 'value'])\n",
    "                 .count()\n",
    "                 .reset_index()\n",
    "                )\n",
    "ticket_counts"
   ]
  },
  {
   "cell_type": "code",
   "execution_count": 6,
   "metadata": {},
   "outputs": [
    {
     "data": {
      "text/plain": [
       "24980"
      ]
     },
     "execution_count": 6,
     "metadata": {},
     "output_type": "execute_result"
    }
   ],
   "source": [
    "ticket_counts[ticket_counts.n == max_tickets].value.sum()"
   ]
  },
  {
   "cell_type": "markdown",
   "metadata": {},
   "source": [
    "### Part 2\n",
    "\n",
    "As I suspected, we now need to use the different zones. Our instructions tell us to first discard the invalid tickets and then add our own to the bunch. Then we must find the matching between features and feature_ids.\n",
    "\n",
    "Let's just start by getting the remaining tickets into a shape. Remove the old tickets and add ours: "
   ]
  },
  {
   "cell_type": "code",
   "execution_count": 7,
   "metadata": {},
   "outputs": [
    {
     "data": {
      "text/html": [
       "<div>\n",
       "<style scoped>\n",
       "    .dataframe tbody tr th:only-of-type {\n",
       "        vertical-align: middle;\n",
       "    }\n",
       "\n",
       "    .dataframe tbody tr th {\n",
       "        vertical-align: top;\n",
       "    }\n",
       "\n",
       "    .dataframe thead th {\n",
       "        text-align: right;\n",
       "    }\n",
       "</style>\n",
       "<table border=\"1\" class=\"dataframe\">\n",
       "  <thead>\n",
       "    <tr style=\"text-align: right;\">\n",
       "      <th></th>\n",
       "      <th>ticket_num</th>\n",
       "      <th>feature_id</th>\n",
       "      <th>value</th>\n",
       "    </tr>\n",
       "  </thead>\n",
       "  <tbody>\n",
       "    <tr>\n",
       "      <th>0</th>\n",
       "      <td>-1</td>\n",
       "      <td>0</td>\n",
       "      <td>79</td>\n",
       "    </tr>\n",
       "    <tr>\n",
       "      <th>1</th>\n",
       "      <td>-1</td>\n",
       "      <td>1</td>\n",
       "      <td>149</td>\n",
       "    </tr>\n",
       "    <tr>\n",
       "      <th>2</th>\n",
       "      <td>-1</td>\n",
       "      <td>2</td>\n",
       "      <td>97</td>\n",
       "    </tr>\n",
       "    <tr>\n",
       "      <th>3</th>\n",
       "      <td>-1</td>\n",
       "      <td>3</td>\n",
       "      <td>163</td>\n",
       "    </tr>\n",
       "    <tr>\n",
       "      <th>4</th>\n",
       "      <td>-1</td>\n",
       "      <td>4</td>\n",
       "      <td>59</td>\n",
       "    </tr>\n",
       "    <tr>\n",
       "      <th>...</th>\n",
       "      <td>...</td>\n",
       "      <td>...</td>\n",
       "      <td>...</td>\n",
       "    </tr>\n",
       "    <tr>\n",
       "      <th>3815</th>\n",
       "      <td>238</td>\n",
       "      <td>15</td>\n",
       "      <td>283</td>\n",
       "    </tr>\n",
       "    <tr>\n",
       "      <th>3816</th>\n",
       "      <td>238</td>\n",
       "      <td>16</td>\n",
       "      <td>172</td>\n",
       "    </tr>\n",
       "    <tr>\n",
       "      <th>3817</th>\n",
       "      <td>238</td>\n",
       "      <td>17</td>\n",
       "      <td>833</td>\n",
       "    </tr>\n",
       "    <tr>\n",
       "      <th>3818</th>\n",
       "      <td>238</td>\n",
       "      <td>18</td>\n",
       "      <td>942</td>\n",
       "    </tr>\n",
       "    <tr>\n",
       "      <th>3819</th>\n",
       "      <td>238</td>\n",
       "      <td>19</td>\n",
       "      <td>712</td>\n",
       "    </tr>\n",
       "  </tbody>\n",
       "</table>\n",
       "<p>3820 rows × 3 columns</p>\n",
       "</div>"
      ],
      "text/plain": [
       "      ticket_num  feature_id  value\n",
       "0             -1           0     79\n",
       "1             -1           1    149\n",
       "2             -1           2     97\n",
       "3             -1           3    163\n",
       "4             -1           4     59\n",
       "...          ...         ...    ...\n",
       "3815         238          15    283\n",
       "3816         238          16    172\n",
       "3817         238          17    833\n",
       "3818         238          18    942\n",
       "3819         238          19    712\n",
       "\n",
       "[3820 rows x 3 columns]"
      ]
     },
     "execution_count": 7,
     "metadata": {},
     "output_type": "execute_result"
    }
   ],
   "source": [
    "invalid_tickets = ticket_counts[ticket_counts.n == max_tickets].ticket_num.drop_duplicates()\n",
    "tickets_df = tickets_df[~tickets_df.ticket_num.isin(invalid_tickets)]\n",
    "\n",
    "# now add ours:\n",
    "our_ticket = tickets[tickets.index('your ticket:')+1]\n",
    "our_ticket\n",
    "our_ticket = [int(x) for x in our_ticket.split(',')]\n",
    "our_ticket = pd.DataFrame({\n",
    "    'ticket_num' : -1,\n",
    "    'feature_id' : list(range(len(our_ticket))),\n",
    "    'value' : our_ticket\n",
    "})\n",
    "\n",
    "tickets_df = pd.concat([our_ticket, tickets_df], axis = 0).reset_index(drop = True)\n",
    "tickets_df"
   ]
  },
  {
   "cell_type": "markdown",
   "metadata": {},
   "source": [
    "So I'm not entirely sure how to approach this efficiently but the first thought was just to create a data frame that has all the permuatations of the features, slap on the feature_id, join with the remaining tickets, and filter. I have some supsicions that this will not work out well but let's see:"
   ]
  },
  {
   "cell_type": "code",
   "execution_count": 8,
   "metadata": {},
   "outputs": [
    {
     "data": {
      "text/plain": [
       "[('departure location', 'departure station', 'departure platform'),\n",
       " ('departure location', 'departure platform', 'departure station'),\n",
       " ('departure station', 'departure location', 'departure platform'),\n",
       " ('departure station', 'departure platform', 'departure location'),\n",
       " ('departure platform', 'departure location', 'departure station'),\n",
       " ('departure platform', 'departure station', 'departure location')]"
      ]
     },
     "execution_count": 8,
     "metadata": {},
     "output_type": "execute_result"
    }
   ],
   "source": [
    "list(itertools.permutations(features[:3]))"
   ]
  },
  {
   "cell_type": "markdown",
   "metadata": {},
   "source": [
    "Okay that is not going to work. Computer got all hot and bothered at that method.\n",
    "\n",
    "Hmmm maybe we already solved this... ish? Let's try the same method but approach it from the direction of the feature_id\\*feature combinations having all *valid* ticket numbers."
   ]
  },
  {
   "cell_type": "code",
   "execution_count": 13,
   "metadata": {},
   "outputs": [
    {
     "data": {
      "text/plain": [
       "16    191\n",
       "18    190\n",
       "15    190\n",
       "13    190\n",
       "11    190\n",
       "7     190\n",
       "3     190\n",
       "1     190\n",
       "6     190\n",
       "12    190\n",
       "10    189\n",
       "2     189\n",
       "4     189\n",
       "8     189\n",
       "19    189\n",
       "14    189\n",
       "17    189\n",
       "5     189\n",
       "0     189\n",
       "9     187\n",
       "Name: feature_id, dtype: int64"
      ]
     },
     "execution_count": 13,
     "metadata": {},
     "output_type": "execute_result"
    }
   ],
   "source": [
    "ww = (tickets_df\n",
    "      .assign(key = 1)\n",
    "      .merge(bounds_df.assign(key = 1))\n",
    "      .query('(lower < value < upper) or (lower2 < value < upper2)')\n",
    "      .query(\"feature in ['train']\"))\n",
    "      \n",
    "ww.feature_id.value_counts()"
   ]
  },
  {
   "cell_type": "code",
   "execution_count": 10,
   "metadata": {},
   "outputs": [
    {
     "data": {
      "text/html": [
       "<div>\n",
       "<style scoped>\n",
       "    .dataframe tbody tr th:only-of-type {\n",
       "        vertical-align: middle;\n",
       "    }\n",
       "\n",
       "    .dataframe tbody tr th {\n",
       "        vertical-align: top;\n",
       "    }\n",
       "\n",
       "    .dataframe thead th {\n",
       "        text-align: right;\n",
       "    }\n",
       "</style>\n",
       "<table border=\"1\" class=\"dataframe\">\n",
       "  <thead>\n",
       "    <tr style=\"text-align: right;\">\n",
       "      <th></th>\n",
       "      <th>ticket_num</th>\n",
       "      <th>feature_id</th>\n",
       "      <th>value</th>\n",
       "      <th>key</th>\n",
       "      <th>feature</th>\n",
       "      <th>lower</th>\n",
       "      <th>upper</th>\n",
       "      <th>lower2</th>\n",
       "      <th>upper2</th>\n",
       "    </tr>\n",
       "  </thead>\n",
       "  <tbody>\n",
       "    <tr>\n",
       "      <th>12</th>\n",
       "      <td>-1</td>\n",
       "      <td>0</td>\n",
       "      <td>79</td>\n",
       "      <td>1</td>\n",
       "      <td>price</td>\n",
       "      <td>35</td>\n",
       "      <td>692</td>\n",
       "      <td>706</td>\n",
       "      <td>957</td>\n",
       "    </tr>\n",
       "    <tr>\n",
       "      <th>32</th>\n",
       "      <td>-1</td>\n",
       "      <td>1</td>\n",
       "      <td>149</td>\n",
       "      <td>1</td>\n",
       "      <td>price</td>\n",
       "      <td>35</td>\n",
       "      <td>692</td>\n",
       "      <td>706</td>\n",
       "      <td>957</td>\n",
       "    </tr>\n",
       "    <tr>\n",
       "      <th>52</th>\n",
       "      <td>-1</td>\n",
       "      <td>2</td>\n",
       "      <td>97</td>\n",
       "      <td>1</td>\n",
       "      <td>price</td>\n",
       "      <td>35</td>\n",
       "      <td>692</td>\n",
       "      <td>706</td>\n",
       "      <td>957</td>\n",
       "    </tr>\n",
       "    <tr>\n",
       "      <th>72</th>\n",
       "      <td>-1</td>\n",
       "      <td>3</td>\n",
       "      <td>163</td>\n",
       "      <td>1</td>\n",
       "      <td>price</td>\n",
       "      <td>35</td>\n",
       "      <td>692</td>\n",
       "      <td>706</td>\n",
       "      <td>957</td>\n",
       "    </tr>\n",
       "    <tr>\n",
       "      <th>92</th>\n",
       "      <td>-1</td>\n",
       "      <td>4</td>\n",
       "      <td>59</td>\n",
       "      <td>1</td>\n",
       "      <td>price</td>\n",
       "      <td>35</td>\n",
       "      <td>692</td>\n",
       "      <td>706</td>\n",
       "      <td>957</td>\n",
       "    </tr>\n",
       "    <tr>\n",
       "      <th>...</th>\n",
       "      <td>...</td>\n",
       "      <td>...</td>\n",
       "      <td>...</td>\n",
       "      <td>...</td>\n",
       "      <td>...</td>\n",
       "      <td>...</td>\n",
       "      <td>...</td>\n",
       "      <td>...</td>\n",
       "      <td>...</td>\n",
       "    </tr>\n",
       "    <tr>\n",
       "      <th>76312</th>\n",
       "      <td>238</td>\n",
       "      <td>15</td>\n",
       "      <td>283</td>\n",
       "      <td>1</td>\n",
       "      <td>price</td>\n",
       "      <td>35</td>\n",
       "      <td>692</td>\n",
       "      <td>706</td>\n",
       "      <td>957</td>\n",
       "    </tr>\n",
       "    <tr>\n",
       "      <th>76332</th>\n",
       "      <td>238</td>\n",
       "      <td>16</td>\n",
       "      <td>172</td>\n",
       "      <td>1</td>\n",
       "      <td>price</td>\n",
       "      <td>35</td>\n",
       "      <td>692</td>\n",
       "      <td>706</td>\n",
       "      <td>957</td>\n",
       "    </tr>\n",
       "    <tr>\n",
       "      <th>76352</th>\n",
       "      <td>238</td>\n",
       "      <td>17</td>\n",
       "      <td>833</td>\n",
       "      <td>1</td>\n",
       "      <td>price</td>\n",
       "      <td>35</td>\n",
       "      <td>692</td>\n",
       "      <td>706</td>\n",
       "      <td>957</td>\n",
       "    </tr>\n",
       "    <tr>\n",
       "      <th>76372</th>\n",
       "      <td>238</td>\n",
       "      <td>18</td>\n",
       "      <td>942</td>\n",
       "      <td>1</td>\n",
       "      <td>price</td>\n",
       "      <td>35</td>\n",
       "      <td>692</td>\n",
       "      <td>706</td>\n",
       "      <td>957</td>\n",
       "    </tr>\n",
       "    <tr>\n",
       "      <th>76392</th>\n",
       "      <td>238</td>\n",
       "      <td>19</td>\n",
       "      <td>712</td>\n",
       "      <td>1</td>\n",
       "      <td>price</td>\n",
       "      <td>35</td>\n",
       "      <td>692</td>\n",
       "      <td>706</td>\n",
       "      <td>957</td>\n",
       "    </tr>\n",
       "  </tbody>\n",
       "</table>\n",
       "<p>3784 rows × 9 columns</p>\n",
       "</div>"
      ],
      "text/plain": [
       "       ticket_num  feature_id  value  key feature  lower  upper  lower2  \\\n",
       "12             -1           0     79    1   price     35    692     706   \n",
       "32             -1           1    149    1   price     35    692     706   \n",
       "52             -1           2     97    1   price     35    692     706   \n",
       "72             -1           3    163    1   price     35    692     706   \n",
       "92             -1           4     59    1   price     35    692     706   \n",
       "...           ...         ...    ...  ...     ...    ...    ...     ...   \n",
       "76312         238          15    283    1   price     35    692     706   \n",
       "76332         238          16    172    1   price     35    692     706   \n",
       "76352         238          17    833    1   price     35    692     706   \n",
       "76372         238          18    942    1   price     35    692     706   \n",
       "76392         238          19    712    1   price     35    692     706   \n",
       "\n",
       "       upper2  \n",
       "12        957  \n",
       "32        957  \n",
       "52        957  \n",
       "72        957  \n",
       "92        957  \n",
       "...       ...  \n",
       "76312     957  \n",
       "76332     957  \n",
       "76352     957  \n",
       "76372     957  \n",
       "76392     957  \n",
       "\n",
       "[3784 rows x 9 columns]"
      ]
     },
     "execution_count": 10,
     "metadata": {},
     "output_type": "execute_result"
    }
   ],
   "source": [
    "ww"
   ]
  },
  {
   "cell_type": "code",
   "execution_count": 11,
   "metadata": {},
   "outputs": [
    {
     "data": {
      "text/html": [
       "<div>\n",
       "<style scoped>\n",
       "    .dataframe tbody tr th:only-of-type {\n",
       "        vertical-align: middle;\n",
       "    }\n",
       "\n",
       "    .dataframe tbody tr th {\n",
       "        vertical-align: top;\n",
       "    }\n",
       "\n",
       "    .dataframe thead th {\n",
       "        text-align: right;\n",
       "    }\n",
       "</style>\n",
       "<table border=\"1\" class=\"dataframe\">\n",
       "  <thead>\n",
       "    <tr style=\"text-align: right;\">\n",
       "      <th></th>\n",
       "      <th>feature</th>\n",
       "      <th>feature_id</th>\n",
       "      <th>n</th>\n",
       "    </tr>\n",
       "  </thead>\n",
       "  <tbody>\n",
       "    <tr>\n",
       "      <th>0</th>\n",
       "      <td>price</td>\n",
       "      <td>0</td>\n",
       "      <td>190</td>\n",
       "    </tr>\n",
       "    <tr>\n",
       "      <th>1</th>\n",
       "      <td>price</td>\n",
       "      <td>1</td>\n",
       "      <td>189</td>\n",
       "    </tr>\n",
       "    <tr>\n",
       "      <th>2</th>\n",
       "      <td>price</td>\n",
       "      <td>2</td>\n",
       "      <td>188</td>\n",
       "    </tr>\n",
       "    <tr>\n",
       "      <th>3</th>\n",
       "      <td>price</td>\n",
       "      <td>3</td>\n",
       "      <td>189</td>\n",
       "    </tr>\n",
       "    <tr>\n",
       "      <th>4</th>\n",
       "      <td>price</td>\n",
       "      <td>4</td>\n",
       "      <td>190</td>\n",
       "    </tr>\n",
       "    <tr>\n",
       "      <th>5</th>\n",
       "      <td>price</td>\n",
       "      <td>5</td>\n",
       "      <td>189</td>\n",
       "    </tr>\n",
       "    <tr>\n",
       "      <th>6</th>\n",
       "      <td>price</td>\n",
       "      <td>6</td>\n",
       "      <td>190</td>\n",
       "    </tr>\n",
       "    <tr>\n",
       "      <th>7</th>\n",
       "      <td>price</td>\n",
       "      <td>7</td>\n",
       "      <td>190</td>\n",
       "    </tr>\n",
       "    <tr>\n",
       "      <th>8</th>\n",
       "      <td>price</td>\n",
       "      <td>8</td>\n",
       "      <td>188</td>\n",
       "    </tr>\n",
       "    <tr>\n",
       "      <th>9</th>\n",
       "      <td>price</td>\n",
       "      <td>9</td>\n",
       "      <td>189</td>\n",
       "    </tr>\n",
       "    <tr>\n",
       "      <th>10</th>\n",
       "      <td>price</td>\n",
       "      <td>10</td>\n",
       "      <td>189</td>\n",
       "    </tr>\n",
       "    <tr>\n",
       "      <th>11</th>\n",
       "      <td>price</td>\n",
       "      <td>11</td>\n",
       "      <td>187</td>\n",
       "    </tr>\n",
       "    <tr>\n",
       "      <th>12</th>\n",
       "      <td>price</td>\n",
       "      <td>12</td>\n",
       "      <td>189</td>\n",
       "    </tr>\n",
       "    <tr>\n",
       "      <th>13</th>\n",
       "      <td>price</td>\n",
       "      <td>13</td>\n",
       "      <td>189</td>\n",
       "    </tr>\n",
       "    <tr>\n",
       "      <th>14</th>\n",
       "      <td>price</td>\n",
       "      <td>14</td>\n",
       "      <td>189</td>\n",
       "    </tr>\n",
       "    <tr>\n",
       "      <th>15</th>\n",
       "      <td>price</td>\n",
       "      <td>15</td>\n",
       "      <td>189</td>\n",
       "    </tr>\n",
       "    <tr>\n",
       "      <th>16</th>\n",
       "      <td>price</td>\n",
       "      <td>16</td>\n",
       "      <td>191</td>\n",
       "    </tr>\n",
       "    <tr>\n",
       "      <th>17</th>\n",
       "      <td>price</td>\n",
       "      <td>17</td>\n",
       "      <td>189</td>\n",
       "    </tr>\n",
       "    <tr>\n",
       "      <th>18</th>\n",
       "      <td>price</td>\n",
       "      <td>18</td>\n",
       "      <td>190</td>\n",
       "    </tr>\n",
       "    <tr>\n",
       "      <th>19</th>\n",
       "      <td>price</td>\n",
       "      <td>19</td>\n",
       "      <td>190</td>\n",
       "    </tr>\n",
       "  </tbody>\n",
       "</table>\n",
       "</div>"
      ],
      "text/plain": [
       "   feature  feature_id    n\n",
       "0    price           0  190\n",
       "1    price           1  189\n",
       "2    price           2  188\n",
       "3    price           3  189\n",
       "4    price           4  190\n",
       "5    price           5  189\n",
       "6    price           6  190\n",
       "7    price           7  190\n",
       "8    price           8  188\n",
       "9    price           9  189\n",
       "10   price          10  189\n",
       "11   price          11  187\n",
       "12   price          12  189\n",
       "13   price          13  189\n",
       "14   price          14  189\n",
       "15   price          15  189\n",
       "16   price          16  191\n",
       "17   price          17  189\n",
       "18   price          18  190\n",
       "19   price          19  190"
      ]
     },
     "execution_count": 11,
     "metadata": {},
     "output_type": "execute_result"
    }
   ],
   "source": [
    "ww = (ww\n",
    "      .assign(n = 1)\n",
    "      [['feature', 'feature_id', 'n']]\n",
    "      .groupby(['feature', 'feature_id'])\n",
    "      .count()\n",
    "     .reset_index())\n",
    "ww"
   ]
  },
  {
   "cell_type": "code",
   "execution_count": 12,
   "metadata": {},
   "outputs": [
    {
     "ename": "NameError",
     "evalue": "name 'n_passengers' is not defined",
     "output_type": "error",
     "traceback": [
      "\u001b[1;31m---------------------------------------------------------------------------\u001b[0m",
      "\u001b[1;31mNameError\u001b[0m                                 Traceback (most recent call last)",
      "\u001b[1;32m<ipython-input-12-e918828b2241>\u001b[0m in \u001b[0;36m<module>\u001b[1;34m\u001b[0m\n\u001b[1;32m----> 1\u001b[1;33m \u001b[0mww2\u001b[0m \u001b[1;33m=\u001b[0m \u001b[0mww\u001b[0m\u001b[1;33m.\u001b[0m\u001b[0mcopy\u001b[0m\u001b[1;33m(\u001b[0m\u001b[1;33m)\u001b[0m\u001b[1;33m[\u001b[0m\u001b[0mww\u001b[0m\u001b[1;33m.\u001b[0m\u001b[0mn\u001b[0m \u001b[1;33m==\u001b[0m \u001b[0mn_passengers\u001b[0m\u001b[1;33m]\u001b[0m\u001b[1;33m\u001b[0m\u001b[1;33m\u001b[0m\u001b[0m\n\u001b[0m\u001b[0;32m      2\u001b[0m \u001b[0mww2\u001b[0m\u001b[1;33m\u001b[0m\u001b[1;33m\u001b[0m\u001b[0m\n",
      "\u001b[1;31mNameError\u001b[0m: name 'n_passengers' is not defined"
     ]
    }
   ],
   "source": [
    "ww2 = ww.copy()[ww.n == n_passengers]\n",
    "ww2"
   ]
  },
  {
   "cell_type": "code",
   "execution_count": null,
   "metadata": {},
   "outputs": [],
   "source": [
    "n_passengers = len(tickets_df.ticket_num.drop_duplicates())\n",
    "feature_counts = (tickets_df\n",
    "                 .assign(key = 1)\n",
    "                 .merge(bounds_df.assign(key = 1))\n",
    "                 .query('(lower < value < upper) or (lower2 < value < upper2)')\n",
    "                 .assign(n = 1)\n",
    "                 [['feature', 'feature_id', 'n']]\n",
    "                 .groupby(['feature', 'feature_id'])\n",
    "                 .count()\n",
    "                 .reset_index()\n",
    "                )\n",
    "feature_counts.n.value_counts()"
   ]
  },
  {
   "cell_type": "code",
   "execution_count": null,
   "metadata": {},
   "outputs": [],
   "source": [
    "len(tickets_df.ticket_num.drop_duplicates())"
   ]
  },
  {
   "cell_type": "markdown",
   "metadata": {},
   "source": [
    "So from this we can see that we can eliminate a bunch of possiblities since there are quite a few combinations that yielded fewer valid entries than the number of passengers."
   ]
  },
  {
   "cell_type": "code",
   "execution_count": null,
   "metadata": {},
   "outputs": [],
   "source": [
    "plausible_pairings = feature_counts.copy()[feature_counts.n == n_passengers]\n",
    "plausible_pairings"
   ]
  },
  {
   "cell_type": "code",
   "execution_count": null,
   "metadata": {},
   "outputs": [],
   "source": [
    "plausible_pairings.query(\"feature == 'price'\")"
   ]
  },
  {
   "cell_type": "code",
   "execution_count": null,
   "metadata": {},
   "outputs": [],
   "source": [
    "# now it looks like we have some kinda sudoku \n",
    "plausible_pairings.feature.value_counts()"
   ]
  },
  {
   "cell_type": "code",
   "execution_count": null,
   "metadata": {},
   "outputs": [],
   "source": [
    "plausible_pairings.query(\"feature == 'price'\")"
   ]
  },
  {
   "cell_type": "markdown",
   "metadata": {},
   "source": [
    "BOOM BING! I LEARNED A NEW METHOD THAT IS WHAT I WAS JERRYRIGGING THIS WHOLE TIME: SIZE "
   ]
  },
  {
   "cell_type": "code",
   "execution_count": null,
   "metadata": {},
   "outputs": [],
   "source": [
    "plausible_pairings.groupby(['feature']).size()"
   ]
  },
  {
   "cell_type": "code",
   "execution_count": null,
   "metadata": {},
   "outputs": [],
   "source": [
    "pairings = plausible_pairings.groupby(['feature']).size().reset_index().rename(columns={0:'count'}).query('count == 1')\n",
    "plausible_pairings[plausible_pairings.feature.isin(pairings.feature)]"
   ]
  },
  {
   "cell_type": "code",
   "execution_count": null,
   "metadata": {},
   "outputs": [],
   "source": [
    "# Here are the ones we know for sure\n",
    "pairings = plausible_pairings.groupby(['feature', 'feature_id']).size().reset_index().rename(columns={0:'count'}).query('count == 1')\n",
    "pairings = pairings.merge(plausible_pairings, how = 'left')\n",
    "plausible_pairings = plausible_pairings[~plausible_pairings.feature_id.isin(pairings.feature_id)]\n",
    "pairings"
   ]
  },
  {
   "cell_type": "code",
   "execution_count": null,
   "metadata": {
    "scrolled": true
   },
   "outputs": [],
   "source": [
    "# So I think I can do this iterative reduction and counting where we\n",
    "# remove ones that are forced, remove that id from the original list, recount and rinse\n",
    "\n",
    "while plausible_pairings.feature.value_counts().min() == 1:\n",
    "    new_set = (plausible_pairings.groupby(['feature'])\n",
    "               .size()\n",
    "               .reset_index()\n",
    "               .rename(columns={0:'count'})\n",
    "               .query('count == 1')\n",
    "               .merge(plausible_pairings, how = 'left')\n",
    "              )\n",
    "    pairings = pd.concat([pairings, new_set], axis = 0)\n",
    "    plausible_pairings = plausible_pairings[~plausible_pairings.feature_id.isin(pairings.feature_id)]\n",
    "\n",
    "pairings = pairings.reset_index()\n",
    "pairings\n"
   ]
  },
  {
   "cell_type": "code",
   "execution_count": null,
   "metadata": {},
   "outputs": [],
   "source": [
    "plausible_pairings.feature.value_counts()"
   ]
  },
  {
   "cell_type": "markdown",
   "metadata": {},
   "source": [
    "Even though I'm getting to practice a lot more pandas functions for this one, I don't like solving problems in this way. Feels like I'm just doing a process of elimination kinna thing. Well, let's just take this as an opportunity to get better at pd. So here it's not going to take for ever to compute 7! unlike 20! so... I suppose we can just form the possible data frames.\n",
    "\n",
    "Ok more cross joins:"
   ]
  },
  {
   "cell_type": "code",
   "execution_count": null,
   "metadata": {},
   "outputs": [],
   "source": [
    "for i,feature in enumerate(plausible_pairings.feature.drop_duplicates().tolist()):\n",
    "    subset = plausible_pairings.copy()[plausible_pairings.feature == feature]\n",
    "    if i == 0:\n",
    "        perm_df = pd.DataFrame({'key':1, feature:subset.feature_id})\n",
    "    else:\n",
    "        perm_df = perm_df.merge(pd.DataFrame({'key':1, feature:subset.feature_id}))\n",
    "perm_df    "
   ]
  },
  {
   "cell_type": "markdown",
   "metadata": {},
   "source": [
    "The siliness of this.... Okay so now we can maybe try to apply a row wise function to remove ones without all unique values?"
   ]
  },
  {
   "cell_type": "code",
   "execution_count": null,
   "metadata": {},
   "outputs": [],
   "source": [
    "def all_unique(x):\n",
    "    return len(x) == x.nunique()\n",
    "\n",
    "keeps = perm_df.drop(columns = 'key').apply(all_unique, axis = 1)\n",
    "\n",
    "perm_df = perm_df[keeps]\n",
    "    "
   ]
  },
  {
   "cell_type": "markdown",
   "metadata": {},
   "source": [
    "So that takes about a minute to run which is lovely but now I know how to do rowwise apply kind of things. Guess now we go long and then try all 456 possibilities. Lol"
   ]
  },
  {
   "cell_type": "code",
   "execution_count": null,
   "metadata": {},
   "outputs": [],
   "source": [
    "perm_df_long = (perm_df\n",
    "                .drop(columns = 'key')\n",
    "                .reset_index()\n",
    "                .rename(columns = {'index':'perm'})\n",
    "                .melt(id_vars = 'perm', value_name = 'feature_id', var_name = 'feature')\n",
    "                .reset_index())\n",
    "perm_df_long"
   ]
  },
  {
   "cell_type": "code",
   "execution_count": null,
   "metadata": {},
   "outputs": [],
   "source": [
    "# Do some merging ahead of time so we don't have to repeat it\n",
    "plausible_pairings = (plausible_pairings\n",
    "                     .merge(tickets_df)\n",
    "                     .merge(bounds_df))\n",
    "\n",
    "plausible_pairings\n"
   ]
  },
  {
   "cell_type": "code",
   "execution_count": null,
   "metadata": {},
   "outputs": [],
   "source": [
    "perm_df_long.query('perm == 1421218').shape"
   ]
  },
  {
   "cell_type": "code",
   "execution_count": null,
   "metadata": {},
   "outputs": [],
   "source": [
    "subset = (perm_df_long\n",
    "              .query('perm == 1351913')\n",
    "              .merge(plausible_pairings)\n",
    "              .query('(lower < value < upper) or (lower2 < value < upper2)'))\n",
    "subset"
   ]
  },
  {
   "cell_type": "code",
   "execution_count": null,
   "metadata": {},
   "outputs": [],
   "source": [
    "# K now we basically try all the permutations till we're blue in the face:\n",
    "for perm in perm_df_long.perm.unique().tolist():\n",
    "    subset = (perm_df_long\n",
    "              .query('perm == ' + str(perm))\n",
    "              .merge(plausible_pairings)\n",
    "              .query('(lower < value < upper) or (lower2 < value < upper2)'))\n",
    "    if subset.shape[0] == n_passangers*10:\n",
    "        golden_perm = perm\n",
    "        break"
   ]
  },
  {
   "cell_type": "code",
   "execution_count": null,
   "metadata": {},
   "outputs": [],
   "source": [
    "subset"
   ]
  },
  {
   "cell_type": "code",
   "execution_count": null,
   "metadata": {},
   "outputs": [],
   "source": [
    "plausible_pairings.feature.value_counts().index"
   ]
  },
  {
   "cell_type": "code",
   "execution_count": null,
   "metadata": {},
   "outputs": [],
   "source": [
    "result = pd.DataFrame({'feature':[], 'feature_id':[]})\n",
    "result.dtypes"
   ]
  },
  {
   "cell_type": "code",
   "execution_count": null,
   "metadata": {},
   "outputs": [],
   "source": [
    "plausible_pairings.dtypes"
   ]
  },
  {
   "cell_type": "code",
   "execution_count": null,
   "metadata": {},
   "outputs": [],
   "source": [
    "result = pd.DataFrame(\n",
    "        {'feature':pd.Series([], dtype = 'object'), \n",
    "        'feature_id':pd.Series([], dtype = 'int')}\n",
    ")"
   ]
  },
  {
   "cell_type": "code",
   "execution_count": null,
   "metadata": {},
   "outputs": [],
   "source": [
    "for i, j in enumerate(['a', 'b']):\n",
    "    print(i)"
   ]
  },
  {
   "cell_type": "markdown",
   "metadata": {},
   "source": [
    "### Experiments"
   ]
  },
  {
   "cell_type": "code",
   "execution_count": null,
   "metadata": {},
   "outputs": [],
   "source": [
    "# I wrote this nonsense which seemed cool but was useless:\n",
    "def get_df_perms(feature):\n",
    "    subset = plausible_pairings.copy()[plausible_pairings.feature == feature]\n",
    "    result = pd.DataFrame(\n",
    "        {'feature':pd.Series([], dtype = 'object'), \n",
    "        'feature_id':pd.Series([], dtype = 'int')}\n",
    "    )\n",
    "    perms = itertools.permutations(subset.feature_id)\n",
    "    for perm in perms:\n",
    "        next_df = pd.DataFrame({'feature':feature, 'feature_id':perm})\n",
    "        result = pd.concat(\n",
    "            [result, pd.DataFrame({'feature':feature, 'feature_id':perm})],\n",
    "            axis = 0\n",
    "        )\n",
    "    return result\n",
    "\n",
    "get_df_perms('departure location')"
   ]
  }
 ],
 "metadata": {
  "kernelspec": {
   "display_name": "Python 3",
   "language": "python",
   "name": "python3"
  },
  "language_info": {
   "codemirror_mode": {
    "name": "ipython",
    "version": 3
   },
   "file_extension": ".py",
   "mimetype": "text/x-python",
   "name": "python",
   "nbconvert_exporter": "python",
   "pygments_lexer": "ipython3",
   "version": "3.8.5"
  }
 },
 "nbformat": 4,
 "nbformat_minor": 4
}
