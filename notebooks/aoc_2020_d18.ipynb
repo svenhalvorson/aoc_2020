{
 "cells": [
  {
   "cell_type": "markdown",
   "metadata": {},
   "source": [
    "## [Day 18](https://adventofcode.com/2020/day18)\n",
    "\n",
    "Alright so we have some math with 'improper' order of operations that just work left from right and do not care about the operators involved. We're just asked to evaluate these expressions and sum them."
   ]
  },
  {
   "cell_type": "code",
   "execution_count": 40,
   "metadata": {},
   "outputs": [
    {
     "data": {
      "text/plain": [
       "['9 + (9 * 5 + 8 * 8 + 6) * 8',\n",
       " '8 + (4 + 7) + 6 + ((5 * 4) * (5 * 7) * (3 + 7 * 4 + 5 * 7) * 4) + 4 * 8',\n",
       " '3 * 4 * (6 * 4) + 5 * 3 + 6',\n",
       " '7 * 6 + ((8 + 6 * 6 + 2 + 3) + 9 * (2 * 4 * 8 * 4)) + 8 * 6 + 9',\n",
       " '(7 + 8) * 8 + 5']"
      ]
     },
     "execution_count": 40,
     "metadata": {},
     "output_type": "execute_result"
    }
   ],
   "source": [
    "import pandas as pd\n",
    "import numpy as np\n",
    "import itertools, re\n",
    "eq = open('../inputs/d18.txt').read().splitlines()\n",
    "eq[:5]"
   ]
  },
  {
   "cell_type": "markdown",
   "metadata": {},
   "source": [
    "So I think my method here will be to just write a recursive function that takes in an expression and then calls the function on each parentheses within it? Seems like there are a lot of possibilities where we can get derailed on. Maybe let's start by trying to get a function to just to the parentheses-less arithmetic correct:"
   ]
  },
  {
   "cell_type": "code",
   "execution_count": 2,
   "metadata": {},
   "outputs": [
    {
     "data": {
      "text/plain": [
       "'71'"
      ]
     },
     "execution_count": 2,
     "metadata": {},
     "output_type": "execute_result"
    }
   ],
   "source": [
    "def funny_math(x):\n",
    "    operators = 0\n",
    "    for i, char in enumerate(x):\n",
    "        if char in ['*', '+']:\n",
    "            operators += 1\n",
    "        # If we se a second operator, evaluate the first part and call again\n",
    "        if operators == 2:\n",
    "            return funny_math(str(eval(x[:i])) + x[i:])\n",
    "        \n",
    "    return str(eval(x))\n",
    "example = '1 + 2 * 3 + 4 * 5 + 6'\n",
    "funny_math(example)"
   ]
  },
  {
   "cell_type": "markdown",
   "metadata": {},
   "source": [
    "Okay, that's not so bad. No we we need to make a function that can deal with the parentheses:"
   ]
  },
  {
   "cell_type": "code",
   "execution_count": 3,
   "metadata": {},
   "outputs": [
    {
     "data": {
      "text/plain": [
       "'50'"
      ]
     },
     "execution_count": 3,
     "metadata": {},
     "output_type": "execute_result"
    }
   ],
   "source": [
    "def funny_expression(x):\n",
    "    # If there are no parenthese, just return:\n",
    "    if x.find('(') == -1:\n",
    "        return funny_math(x)    \n",
    "    # I think we have to do this from left to right and count until\n",
    "    # the closing parenthese are equal to the opening ones\n",
    "    first_left = x.index('(')\n",
    "    left, right = 1, 0\n",
    "    i = 0\n",
    "    while left > right:\n",
    "        i += 1\n",
    "        if x[first_left + i] == '(':\n",
    "            left += 1\n",
    "        if x[first_left+ i] == ')':\n",
    "            right += 1\n",
    "    reduced = x[:first_left] + funny_expression(x[first_left+1:first_left+i]) + x[first_left+i+1:]    \n",
    "    return funny_expression(reduced)\n",
    "        \n",
    "example2 = '(4 * (5 + 6)) + (4+2)'        \n",
    "funny_expression(example2)        "
   ]
  },
  {
   "cell_type": "code",
   "execution_count": 4,
   "metadata": {},
   "outputs": [
    {
     "data": {
      "text/plain": [
       "45840336521334"
      ]
     },
     "execution_count": 4,
     "metadata": {},
     "output_type": "execute_result"
    }
   ],
   "source": [
    "sol1 = sum([int(funny_expression(x)) for x in eq])\n",
    "sol1"
   ]
  },
  {
   "cell_type": "markdown",
   "metadata": {},
   "source": [
    "### Part 2\n",
    "\n",
    "So for the second part we change the rules a bit so that addition is set a higher prescedence level than multiplication. I think I can just add parentheses around all the addition first and evaluate."
   ]
  },
  {
   "cell_type": "code",
   "execution_count": 82,
   "metadata": {},
   "outputs": [
    {
     "data": {
      "text/plain": [
       "'((3 * 4) + (34 * 2-1))'"
      ]
     },
     "execution_count": 82,
     "metadata": {},
     "output_type": "execute_result"
    }
   ],
   "source": [
    "char_digits = [str(x) for x in list(range(10))]\n",
    "\n",
    "# Let's use this function to get chunks from the position of + sign\n",
    "# in either direction. pos is the index of the + sign:\n",
    "def add_paren(x, pos):\n",
    "    # first go forward:\n",
    "    i = pos+1\n",
    "    while x[i] == ' ':\n",
    "        i+=1\n",
    "    # first case is we hit a number:\n",
    "    if x[i] in char_digits:\n",
    "        while i < len(x) and x[i] in char_digits:\n",
    "            i += 1\n",
    "        i-= 1    \n",
    "           \n",
    "    # second is we hit a parentheses        \n",
    "    else:\n",
    "        i+=1\n",
    "        left, right = 1, 0\n",
    "        while left > right:\n",
    "            i += 1\n",
    "            if x[i] == '(':\n",
    "                left += 1\n",
    "            if x[i] == ')':\n",
    "                right += 1\n",
    "    \n",
    "    # store result:\n",
    "    result = x[pos:i+1] + ')' + x[i+1:]\n",
    "    \n",
    "    # now go left:\n",
    "    i = pos-1\n",
    "    while x[i] == ' ':\n",
    "        i-=1\n",
    "    # first case is we hit a number:\n",
    "    if x[i] in char_digits:\n",
    "        while i >=0 and x[i] in char_digits:\n",
    "            i -= 1\n",
    "        i += 1\n",
    "    # second is we hit a parentheses        \n",
    "    else:\n",
    "        i-=1\n",
    "        left, right = 0, 1\n",
    "        while right > left:\n",
    "            i -= 1\n",
    "            if x[i] == '(':\n",
    "                left += 1\n",
    "            if x[i] == ')':\n",
    "                right += 1\n",
    "    result = x[0:i] + '(' + x[i:pos] + result \n",
    "    return result\n",
    "\n",
    "add_paren('(3 * 4) + (34 * 2-1)', 8)    "
   ]
  },
  {
   "cell_type": "code",
   "execution_count": 83,
   "metadata": {},
   "outputs": [
    {
     "data": {
      "text/plain": [
       "'((4*2) + 7) + 9'"
      ]
     },
     "execution_count": 83,
     "metadata": {},
     "output_type": "execute_result"
    }
   ],
   "source": [
    "add_paren('(4*2) + 7 + 9', 6)"
   ]
  },
  {
   "cell_type": "code",
   "execution_count": 84,
   "metadata": {},
   "outputs": [
    {
     "data": {
      "text/plain": [
       "'(432 + 7) + 9'"
      ]
     },
     "execution_count": 84,
     "metadata": {},
     "output_type": "execute_result"
    }
   ],
   "source": [
    "add_paren('432 + 7 + 9', 4)"
   ]
  },
  {
   "cell_type": "markdown",
   "metadata": {},
   "source": [
    "Now we need a way to repeatedly apply this to a string for each addition symbol:"
   ]
  },
  {
   "cell_type": "code",
   "execution_count": 87,
   "metadata": {},
   "outputs": [
    {
     "data": {
      "text/plain": [
       "'(3 + 2) * ((1 + 3))'"
      ]
     },
     "execution_count": 87,
     "metadata": {},
     "output_type": "execute_result"
    }
   ],
   "source": [
    "def add_many_paren(x):\n",
    "    # first count how many plus symbos:\n",
    "    plusses = 0\n",
    "    for char in x:\n",
    "        if char == '+':\n",
    "            plusses += 1\n",
    "    # call add_paren that many times:\n",
    "    for i in range(plusses):\n",
    "        pos = [m.start() for m in re.finditer(r'\\+', x)][i]\n",
    "        x = add_paren(x, pos)\n",
    "    return x\n",
    "    \n",
    "add_many_paren('3 + 2 * (1 + 3)')        "
   ]
  },
  {
   "cell_type": "code",
   "execution_count": 96,
   "metadata": {},
   "outputs": [
    {
     "data": {
      "text/plain": [
       "328920644404583"
      ]
     },
     "execution_count": 96,
     "metadata": {},
     "output_type": "execute_result"
    }
   ],
   "source": [
    "sol2 = sum([eval(add_many_paren(x)) for x in eq])\n",
    "sol2"
   ]
  },
  {
   "cell_type": "code",
   "execution_count": null,
   "metadata": {},
   "outputs": [],
   "source": []
  }
 ],
 "metadata": {
  "kernelspec": {
   "display_name": "Python 3",
   "language": "python",
   "name": "python3"
  },
  "language_info": {
   "codemirror_mode": {
    "name": "ipython",
    "version": 3
   },
   "file_extension": ".py",
   "mimetype": "text/x-python",
   "name": "python",
   "nbconvert_exporter": "python",
   "pygments_lexer": "ipython3",
   "version": "3.8.5"
  }
 },
 "nbformat": 4,
 "nbformat_minor": 4
}
