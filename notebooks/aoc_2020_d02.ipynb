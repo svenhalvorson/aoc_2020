{
 "cells": [
  {
   "cell_type": "markdown",
   "metadata": {},
   "source": [
    "## [Day 2](https://adventofcode.com/2020/day/2)\n",
    "\n",
    "Alright so this problem gives us a series of codes with rules for determining if they're valid or not. The first two numbers indicate a number of ocurrances that a letter in the code can take. Then a specific letter is given followed by the code. We're asked to count up the number of valid codes."
   ]
  },
  {
   "cell_type": "code",
   "execution_count": 74,
   "metadata": {},
   "outputs": [
    {
     "data": {
      "text/html": [
       "<div>\n",
       "<style scoped>\n",
       "    .dataframe tbody tr th:only-of-type {\n",
       "        vertical-align: middle;\n",
       "    }\n",
       "\n",
       "    .dataframe tbody tr th {\n",
       "        vertical-align: top;\n",
       "    }\n",
       "\n",
       "    .dataframe thead th {\n",
       "        text-align: right;\n",
       "    }\n",
       "</style>\n",
       "<table border=\"1\" class=\"dataframe\">\n",
       "  <thead>\n",
       "    <tr style=\"text-align: right;\">\n",
       "      <th></th>\n",
       "      <th>range</th>\n",
       "      <th>letter</th>\n",
       "      <th>code</th>\n",
       "    </tr>\n",
       "  </thead>\n",
       "  <tbody>\n",
       "    <tr>\n",
       "      <th>0</th>\n",
       "      <td>1-5</td>\n",
       "      <td>k:</td>\n",
       "      <td>kkkkhkkkkkkkkkk</td>\n",
       "    </tr>\n",
       "    <tr>\n",
       "      <th>1</th>\n",
       "      <td>5-7</td>\n",
       "      <td>k:</td>\n",
       "      <td>blkqhtxfgktdkxzkksk</td>\n",
       "    </tr>\n",
       "    <tr>\n",
       "      <th>2</th>\n",
       "      <td>15-16</td>\n",
       "      <td>x:</td>\n",
       "      <td>xxxxxxxxxxxxxxlf</td>\n",
       "    </tr>\n",
       "    <tr>\n",
       "      <th>3</th>\n",
       "      <td>3-5</td>\n",
       "      <td>j:</td>\n",
       "      <td>fjpvj</td>\n",
       "    </tr>\n",
       "    <tr>\n",
       "      <th>4</th>\n",
       "      <td>17-20</td>\n",
       "      <td>x:</td>\n",
       "      <td>zsxjrxkgxxxxxxxmxgxf</td>\n",
       "    </tr>\n",
       "  </tbody>\n",
       "</table>\n",
       "</div>"
      ],
      "text/plain": [
       "   range letter                  code\n",
       "0    1-5     k:       kkkkhkkkkkkkkkk\n",
       "1    5-7     k:   blkqhtxfgktdkxzkksk\n",
       "2  15-16     x:      xxxxxxxxxxxxxxlf\n",
       "3    3-5     j:                 fjpvj\n",
       "4  17-20     x:  zsxjrxkgxxxxxxxmxgxf"
      ]
     },
     "execution_count": 74,
     "metadata": {},
     "output_type": "execute_result"
    }
   ],
   "source": [
    "import numpy as np\n",
    "import pandas as pd\n",
    "codes_raw = np.genfromtxt('../inputs/d2.txt', dtype = 'U')\n",
    "codes = pd.DataFrame(codes_raw, columns = ['range', 'letter', 'code'])\n",
    "codes.head()"
   ]
  },
  {
   "cell_type": "markdown",
   "metadata": {},
   "source": [
    "Alright, this imported in a pretty helpful way. Now we wanna split it up"
   ]
  },
  {
   "cell_type": "code",
   "execution_count": 75,
   "metadata": {},
   "outputs": [
    {
     "data": {
      "text/html": [
       "<div>\n",
       "<style scoped>\n",
       "    .dataframe tbody tr th:only-of-type {\n",
       "        vertical-align: middle;\n",
       "    }\n",
       "\n",
       "    .dataframe tbody tr th {\n",
       "        vertical-align: top;\n",
       "    }\n",
       "\n",
       "    .dataframe thead th {\n",
       "        text-align: right;\n",
       "    }\n",
       "</style>\n",
       "<table border=\"1\" class=\"dataframe\">\n",
       "  <thead>\n",
       "    <tr style=\"text-align: right;\">\n",
       "      <th></th>\n",
       "      <th>range</th>\n",
       "      <th>letter</th>\n",
       "      <th>code</th>\n",
       "      <th>lower</th>\n",
       "      <th>upper</th>\n",
       "    </tr>\n",
       "  </thead>\n",
       "  <tbody>\n",
       "    <tr>\n",
       "      <th>0</th>\n",
       "      <td>1-5</td>\n",
       "      <td>k</td>\n",
       "      <td>kkkkhkkkkkkkkkk</td>\n",
       "      <td>1</td>\n",
       "      <td>5</td>\n",
       "    </tr>\n",
       "    <tr>\n",
       "      <th>1</th>\n",
       "      <td>5-7</td>\n",
       "      <td>k</td>\n",
       "      <td>blkqhtxfgktdkxzkksk</td>\n",
       "      <td>5</td>\n",
       "      <td>7</td>\n",
       "    </tr>\n",
       "    <tr>\n",
       "      <th>2</th>\n",
       "      <td>15-16</td>\n",
       "      <td>x</td>\n",
       "      <td>xxxxxxxxxxxxxxlf</td>\n",
       "      <td>15</td>\n",
       "      <td>16</td>\n",
       "    </tr>\n",
       "    <tr>\n",
       "      <th>3</th>\n",
       "      <td>3-5</td>\n",
       "      <td>j</td>\n",
       "      <td>fjpvj</td>\n",
       "      <td>3</td>\n",
       "      <td>5</td>\n",
       "    </tr>\n",
       "    <tr>\n",
       "      <th>4</th>\n",
       "      <td>17-20</td>\n",
       "      <td>x</td>\n",
       "      <td>zsxjrxkgxxxxxxxmxgxf</td>\n",
       "      <td>17</td>\n",
       "      <td>20</td>\n",
       "    </tr>\n",
       "  </tbody>\n",
       "</table>\n",
       "</div>"
      ],
      "text/plain": [
       "   range letter                  code  lower  upper\n",
       "0    1-5      k       kkkkhkkkkkkkkkk      1      5\n",
       "1    5-7      k   blkqhtxfgktdkxzkksk      5      7\n",
       "2  15-16      x      xxxxxxxxxxxxxxlf     15     16\n",
       "3    3-5      j                 fjpvj      3      5\n",
       "4  17-20      x  zsxjrxkgxxxxxxxmxgxf     17     20"
      ]
     },
     "execution_count": 75,
     "metadata": {},
     "output_type": "execute_result"
    }
   ],
   "source": [
    "# Now we got a little more cleanup to do.\n",
    "range_splits = codes.range.str.split(pat = '-', n = 2, expand=True)\n",
    "range_splits.columns = ['lower', 'upper']\n",
    "range_splits = range_splits.astype('i')\n",
    "codes = pd.concat([codes, range_splits], axis = 1)\n",
    "# That was pretty easy with the expand option\n",
    "\n",
    "codes.letter = codes.letter.str.rstrip(':')\n",
    "codes.head()"
   ]
  },
  {
   "cell_type": "code",
   "execution_count": 77,
   "metadata": {},
   "outputs": [
    {
     "data": {
      "text/html": [
       "<div>\n",
       "<style scoped>\n",
       "    .dataframe tbody tr th:only-of-type {\n",
       "        vertical-align: middle;\n",
       "    }\n",
       "\n",
       "    .dataframe tbody tr th {\n",
       "        vertical-align: top;\n",
       "    }\n",
       "\n",
       "    .dataframe thead th {\n",
       "        text-align: right;\n",
       "    }\n",
       "</style>\n",
       "<table border=\"1\" class=\"dataframe\">\n",
       "  <thead>\n",
       "    <tr style=\"text-align: right;\">\n",
       "      <th></th>\n",
       "      <th>range</th>\n",
       "      <th>letter</th>\n",
       "      <th>code</th>\n",
       "      <th>lower</th>\n",
       "      <th>upper</th>\n",
       "      <th>letter_count</th>\n",
       "    </tr>\n",
       "  </thead>\n",
       "  <tbody>\n",
       "    <tr>\n",
       "      <th>0</th>\n",
       "      <td>1-5</td>\n",
       "      <td>k</td>\n",
       "      <td>kkkkhkkkkkkkkkk</td>\n",
       "      <td>1</td>\n",
       "      <td>5</td>\n",
       "      <td>14</td>\n",
       "    </tr>\n",
       "    <tr>\n",
       "      <th>1</th>\n",
       "      <td>5-7</td>\n",
       "      <td>k</td>\n",
       "      <td>blkqhtxfgktdkxzkksk</td>\n",
       "      <td>5</td>\n",
       "      <td>7</td>\n",
       "      <td>6</td>\n",
       "    </tr>\n",
       "    <tr>\n",
       "      <th>2</th>\n",
       "      <td>15-16</td>\n",
       "      <td>x</td>\n",
       "      <td>xxxxxxxxxxxxxxlf</td>\n",
       "      <td>15</td>\n",
       "      <td>16</td>\n",
       "      <td>14</td>\n",
       "    </tr>\n",
       "    <tr>\n",
       "      <th>3</th>\n",
       "      <td>3-5</td>\n",
       "      <td>j</td>\n",
       "      <td>fjpvj</td>\n",
       "      <td>3</td>\n",
       "      <td>5</td>\n",
       "      <td>2</td>\n",
       "    </tr>\n",
       "    <tr>\n",
       "      <th>4</th>\n",
       "      <td>17-20</td>\n",
       "      <td>x</td>\n",
       "      <td>zsxjrxkgxxxxxxxmxgxf</td>\n",
       "      <td>17</td>\n",
       "      <td>20</td>\n",
       "      <td>11</td>\n",
       "    </tr>\n",
       "  </tbody>\n",
       "</table>\n",
       "</div>"
      ],
      "text/plain": [
       "   range letter                  code  lower  upper  letter_count\n",
       "0    1-5      k       kkkkhkkkkkkkkkk      1      5            14\n",
       "1    5-7      k   blkqhtxfgktdkxzkksk      5      7             6\n",
       "2  15-16      x      xxxxxxxxxxxxxxlf     15     16            14\n",
       "3    3-5      j                 fjpvj      3      5             2\n",
       "4  17-20      x  zsxjrxkgxxxxxxxmxgxf     17     20            11"
      ]
     },
     "execution_count": 77,
     "metadata": {},
     "output_type": "execute_result"
    }
   ],
   "source": [
    "# Now we wanna compute the count for each letter within the code\n",
    "def str_count(letter, word):\n",
    "    return word.count(letter)\n",
    "codes['letter_count'] = codes.apply(lambda x: str_count(letter = x['letter'], word = x['code']), axis = 1) \n",
    "codes.head()"
   ]
  },
  {
   "cell_type": "markdown",
   "metadata": {},
   "source": [
    "So just a little aside on the `apply`. This is a bit counterintuitive since the vectorized functions in R make this easy. What we're doing is passing an anonymous function to `apply` and the argument is the row of the data frame. Then we compute the value from `str_count`. "
   ]
  },
  {
   "cell_type": "code",
   "execution_count": 78,
   "metadata": {},
   "outputs": [
    {
     "data": {
      "text/plain": [
       "519"
      ]
     },
     "execution_count": 78,
     "metadata": {},
     "output_type": "execute_result"
    }
   ],
   "source": [
    "len(codes.query('lower <= letter_count <= upper'))"
   ]
  },
  {
   "cell_type": "markdown",
   "metadata": {},
   "source": [
    "### Part 2\n",
    "\n"
   ]
  },
  {
   "cell_type": "markdown",
   "metadata": {},
   "source": [
    "Now we have a spin on the question where we need to find which codes have exactly one matching letter in the positions defined by `lower` and `upper`. Here they mean 1 to be the first letter, not index."
   ]
  },
  {
   "cell_type": "code",
   "execution_count": 84,
   "metadata": {},
   "outputs": [
    {
     "data": {
      "text/html": [
       "<div>\n",
       "<style scoped>\n",
       "    .dataframe tbody tr th:only-of-type {\n",
       "        vertical-align: middle;\n",
       "    }\n",
       "\n",
       "    .dataframe tbody tr th {\n",
       "        vertical-align: top;\n",
       "    }\n",
       "\n",
       "    .dataframe thead th {\n",
       "        text-align: right;\n",
       "    }\n",
       "</style>\n",
       "<table border=\"1\" class=\"dataframe\">\n",
       "  <thead>\n",
       "    <tr style=\"text-align: right;\">\n",
       "      <th></th>\n",
       "      <th>range</th>\n",
       "      <th>letter</th>\n",
       "      <th>code</th>\n",
       "      <th>lower</th>\n",
       "      <th>upper</th>\n",
       "      <th>letter_count</th>\n",
       "      <th>letter_match</th>\n",
       "    </tr>\n",
       "  </thead>\n",
       "  <tbody>\n",
       "    <tr>\n",
       "      <th>0</th>\n",
       "      <td>1-5</td>\n",
       "      <td>k</td>\n",
       "      <td>kkkkhkkkkkkkkkk</td>\n",
       "      <td>1</td>\n",
       "      <td>5</td>\n",
       "      <td>14</td>\n",
       "      <td>True</td>\n",
       "    </tr>\n",
       "    <tr>\n",
       "      <th>1</th>\n",
       "      <td>5-7</td>\n",
       "      <td>k</td>\n",
       "      <td>blkqhtxfgktdkxzkksk</td>\n",
       "      <td>5</td>\n",
       "      <td>7</td>\n",
       "      <td>6</td>\n",
       "      <td>False</td>\n",
       "    </tr>\n",
       "    <tr>\n",
       "      <th>2</th>\n",
       "      <td>15-16</td>\n",
       "      <td>x</td>\n",
       "      <td>xxxxxxxxxxxxxxlf</td>\n",
       "      <td>15</td>\n",
       "      <td>16</td>\n",
       "      <td>14</td>\n",
       "      <td>False</td>\n",
       "    </tr>\n",
       "    <tr>\n",
       "      <th>3</th>\n",
       "      <td>3-5</td>\n",
       "      <td>j</td>\n",
       "      <td>fjpvj</td>\n",
       "      <td>3</td>\n",
       "      <td>5</td>\n",
       "      <td>2</td>\n",
       "      <td>True</td>\n",
       "    </tr>\n",
       "    <tr>\n",
       "      <th>4</th>\n",
       "      <td>17-20</td>\n",
       "      <td>x</td>\n",
       "      <td>zsxjrxkgxxxxxxxmxgxf</td>\n",
       "      <td>17</td>\n",
       "      <td>20</td>\n",
       "      <td>11</td>\n",
       "      <td>True</td>\n",
       "    </tr>\n",
       "  </tbody>\n",
       "</table>\n",
       "</div>"
      ],
      "text/plain": [
       "   range letter                  code  lower  upper  letter_count  \\\n",
       "0    1-5      k       kkkkhkkkkkkkkkk      1      5            14   \n",
       "1    5-7      k   blkqhtxfgktdkxzkksk      5      7             6   \n",
       "2  15-16      x      xxxxxxxxxxxxxxlf     15     16            14   \n",
       "3    3-5      j                 fjpvj      3      5             2   \n",
       "4  17-20      x  zsxjrxkgxxxxxxxmxgxf     17     20            11   \n",
       "\n",
       "   letter_match  \n",
       "0          True  \n",
       "1         False  \n",
       "2         False  \n",
       "3          True  \n",
       "4          True  "
      ]
     },
     "execution_count": 84,
     "metadata": {},
     "output_type": "execute_result"
    }
   ],
   "source": [
    "# I guess we'll try to solve it in a similar way:\n",
    "def check_code(code, letter, left, right):\n",
    "    left = code[left-1]\n",
    "    right = code[right-1]\n",
    "    return (left == letter) ^ (right == letter)\n",
    "\n",
    "codes['letter_match'] = codes.apply(lambda x: check_code(\n",
    "    code = x['code'], \n",
    "    letter = x['letter'], \n",
    "    left = x['lower'],\n",
    "    right = x['upper']\n",
    "), axis = 1) \n",
    "codes.head()"
   ]
  },
  {
   "cell_type": "code",
   "execution_count": 85,
   "metadata": {},
   "outputs": [
    {
     "data": {
      "text/plain": [
       "708"
      ]
     },
     "execution_count": 85,
     "metadata": {},
     "output_type": "execute_result"
    }
   ],
   "source": [
    "len(codes.query('letter_match'))"
   ]
  }
 ],
 "metadata": {
  "kernelspec": {
   "display_name": "Python 3",
   "language": "python",
   "name": "python3"
  },
  "language_info": {
   "codemirror_mode": {
    "name": "ipython",
    "version": 3
   },
   "file_extension": ".py",
   "mimetype": "text/x-python",
   "name": "python",
   "nbconvert_exporter": "python",
   "pygments_lexer": "ipython3",
   "version": "3.8.5"
  }
 },
 "nbformat": 4,
 "nbformat_minor": 4
}
