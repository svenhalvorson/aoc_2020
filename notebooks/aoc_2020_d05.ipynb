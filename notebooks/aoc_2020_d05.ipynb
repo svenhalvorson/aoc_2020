{
 "cells": [
  {
   "cell_type": "markdown",
   "metadata": {},
   "source": [
    "## [Day 5](https://adventofcode.com/2020/day/5)\n",
    "\n",
    "So here we have some problem about finding a location on a $2^n$x$2^m$ grid. We have codes that are basically binary and they describe it as something like 101 corresponds to the top half, then the bottom half of the remaining, and then the top half of the last partition. We have some codes and basically have to find the largest value of some kind of check sum.\n",
    "\n",
    "I hate to say it but this looks like it might be the easiest one so far. That will probably come back to byte me though."
   ]
  },
  {
   "cell_type": "code",
   "execution_count": 95,
   "metadata": {},
   "outputs": [],
   "source": [
    "import pandas as pd\n",
    "import numpy as np\n",
    "tickets = open('../inputs/d5.txt').read().splitlines()\n",
    "tickets[:5]\n",
    "tickets.append('BFFFBBFRRR')"
   ]
  },
  {
   "cell_type": "code",
   "execution_count": 96,
   "metadata": {},
   "outputs": [
    {
     "data": {
      "text/plain": [
       "['FFBFFBF', 'BFBFBFB', 'FBFFBFB', 'BBFFFBF', 'BFFFFFB']"
      ]
     },
     "execution_count": 96,
     "metadata": {},
     "output_type": "execute_result"
    }
   ],
   "source": [
    "# First portion is the rows, then are the columns\n",
    "rows = [x[:7] for x in tickets]\n",
    "cols = [x[-3:] for x in tickets]\n",
    "rows[:5]\n"
   ]
  },
  {
   "cell_type": "code",
   "execution_count": 97,
   "metadata": {},
   "outputs": [],
   "source": [
    "# Maybe we'll make the look like binary so we can use the same function on both versions:\n",
    "def to_bin(x):\n",
    "    return x.replace('B', '1').replace('R', '1').replace('F', '0').replace('L', '0')\n",
    "\n",
    "rows = [to_bin(x) for x in rows]\n",
    "cols = [to_bin(x) for x in cols]\n",
    "\n",
    "# then conver to base 10:\n",
    "def to_base10(x):\n",
    "    # this will be slightly easier since we left on the leading zeroes:\n",
    "    len_x = len(x)\n",
    "    bases = [2**i for i in list(range(len_x))]\n",
    "    bases.reverse()\n",
    "    return_val = 0\n",
    "    for i in range(len_x):\n",
    "        return_val += bases[i]*int(x[i])\n",
    "    return return_val\n",
    "\n",
    "rows_10 = [to_base10(x) for x in rows]\n",
    "cols_10 = [to_base10(x) for x in cols]"
   ]
  },
  {
   "cell_type": "code",
   "execution_count": 98,
   "metadata": {},
   "outputs": [
    {
     "data": {
      "text/plain": [
       "816"
      ]
     },
     "execution_count": 98,
     "metadata": {},
     "output_type": "execute_result"
    }
   ],
   "source": [
    "sums = [8*rows_10[i]+cols_10[i] for i in range(len(rows))]\n",
    "max(sums)\n",
    "# I guess I could have just tacked these together and treated them as one big binary since 8 = 2^3 which just moves\n",
    "# those 'decimal' places up 3 spots"
   ]
  },
  {
   "cell_type": "markdown",
   "metadata": {},
   "source": [
    "### Part 2\n",
    "\n",
    "Alright so I was completely derailed by the way the question was worded. It says that 'It's a completely full flight' but because the visual interpretation of this completely meaningless, I interpreted this wrong. All we have to do is find a gap in the sums.\n",
    "\n",
    "I was doing some algebra n shit to try and solve a much more complicated. This literally took me 2 minutes:"
   ]
  },
  {
   "cell_type": "code",
   "execution_count": 113,
   "metadata": {
    "scrolled": true
   },
   "outputs": [
    {
     "data": {
      "text/plain": [
       "539"
      ]
     },
     "execution_count": 113,
     "metadata": {},
     "output_type": "execute_result"
    }
   ],
   "source": [
    "sums.sort()\n",
    "for i in range(1, len(sums)):\n",
    "    if sums[i-1] + 2 == sums[i]:\n",
    "        my_seat = sums[i]-1\n",
    "        break\n",
    "my_seat"
   ]
  }
 ],
 "metadata": {
  "kernelspec": {
   "display_name": "Python 3",
   "language": "python",
   "name": "python3"
  },
  "language_info": {
   "codemirror_mode": {
    "name": "ipython",
    "version": 3
   },
   "file_extension": ".py",
   "mimetype": "text/x-python",
   "name": "python",
   "nbconvert_exporter": "python",
   "pygments_lexer": "ipython3",
   "version": "3.8.5"
  }
 },
 "nbformat": 4,
 "nbformat_minor": 4
}
