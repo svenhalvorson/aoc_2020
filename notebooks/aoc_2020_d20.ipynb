{
 "cells": [
  {
   "cell_type": "markdown",
   "metadata": {},
   "source": [
    "## [Day 20](https://adventofcode.com/2020/day20)\n",
    "\n",
    "Alright this one looks *quite* difficult. We're given a set of tiles that are supposed to connect with one another in a way that all values along the edges of two adjacent tiles should be identical. The overall image is a square so we can use that fact to our adavantage. We're also allowed to rotate or flip the tiles in any way that would allow them to fit.\n",
    "\n",
    "So.... I have some thoughts to start out with but not an overall strategy yet:\n",
    "1. There are 8 orientations a tile can take (dihedral group 4)\n",
    "2. We will likley want a function that checks two tiles against eachother\n",
    "3. I think this would be a good chance to work with np.array\n",
    "4. The ultimate solution will likely be a some branching process where as soon as we find a matching pair, we try each subsequent possiblity and so fourth until we run out of options or find the solution."
   ]
  },
  {
   "cell_type": "code",
   "execution_count": 1,
   "metadata": {},
   "outputs": [
    {
     "data": {
      "text/plain": [
       "['Tile 2311:',\n",
       " '..##.#..#.',\n",
       " '##..#.....',\n",
       " '#...##..#.',\n",
       " '####.#...#',\n",
       " '##.##.###.',\n",
       " '##...#.###',\n",
       " '.#.#.#..##',\n",
       " '..#....#..',\n",
       " '###...#.#.',\n",
       " '..###..###',\n",
       " '',\n",
       " 'Tile 1951:',\n",
       " '#.##...##.',\n",
       " '#.####...#']"
      ]
     },
     "execution_count": 1,
     "metadata": {},
     "output_type": "execute_result"
    }
   ],
   "source": [
    "import pandas as pd\n",
    "import numpy as np\n",
    "import itertools, math\n",
    "tiles = open('../inputs/d20_check.txt').read().splitlines()\n",
    "tiles[:15]"
   ]
  },
  {
   "cell_type": "code",
   "execution_count": 2,
   "metadata": {},
   "outputs": [],
   "source": [
    "# So maybe we'll just start out with making a dictionary of all the isomorphisms \n",
    "# of the tiles as np.arrays\n",
    "orig_tiles = {}\n",
    "for row in tiles:\n",
    "    if row[:4] == 'Tile':\n",
    "        tile_id = row[5:-1]\n",
    "        new_tile = []\n",
    "    elif row == '':\n",
    "        orig_tiles.update({tile_id:np.array(new_tile)})\n",
    "    else:\n",
    "        new_tile.append([x for x in row])\n",
    "orig_tiles.update({tile_id:np.array(new_tile)})"
   ]
  },
  {
   "cell_type": "code",
   "execution_count": 3,
   "metadata": {},
   "outputs": [
    {
     "data": {
      "text/plain": [
       "{'2311': array([['.', '.', '#', '#', '.', '#', '.', '.', '#', '.'],\n",
       "        ['#', '#', '.', '.', '#', '.', '.', '.', '.', '.'],\n",
       "        ['#', '.', '.', '.', '#', '#', '.', '.', '#', '.'],\n",
       "        ['#', '#', '#', '#', '.', '#', '.', '.', '.', '#'],\n",
       "        ['#', '#', '.', '#', '#', '.', '#', '#', '#', '.'],\n",
       "        ['#', '#', '.', '.', '.', '#', '.', '#', '#', '#'],\n",
       "        ['.', '#', '.', '#', '.', '#', '.', '.', '#', '#'],\n",
       "        ['.', '.', '#', '.', '.', '.', '.', '#', '.', '.'],\n",
       "        ['#', '#', '#', '.', '.', '.', '#', '.', '#', '.'],\n",
       "        ['.', '.', '#', '#', '#', '.', '.', '#', '#', '#']], dtype='<U1'),\n",
       " '1951': array([['#', '.', '#', '#', '.', '.', '.', '#', '#', '.'],\n",
       "        ['#', '.', '#', '#', '#', '#', '.', '.', '.', '#'],\n",
       "        ['.', '.', '.', '.', '.', '#', '.', '.', '#', '#'],\n",
       "        ['#', '.', '.', '.', '#', '#', '#', '#', '#', '#'],\n",
       "        ['.', '#', '#', '.', '#', '.', '.', '.', '.', '#'],\n",
       "        ['.', '#', '#', '#', '.', '#', '#', '#', '#', '#'],\n",
       "        ['#', '#', '#', '.', '#', '#', '.', '#', '#', '.'],\n",
       "        ['.', '#', '#', '#', '.', '.', '.', '.', '#', '.'],\n",
       "        ['.', '.', '#', '.', '#', '.', '.', '#', '.', '#'],\n",
       "        ['#', '.', '.', '.', '#', '#', '.', '#', '.', '.']], dtype='<U1'),\n",
       " '1427': array([['#', '#', '#', '.', '#', '#', '.', '#', '.', '.'],\n",
       "        ['.', '#', '.', '.', '#', '.', '#', '#', '.', '.'],\n",
       "        ['.', '#', '.', '#', '#', '.', '#', '.', '.', '#'],\n",
       "        ['#', '.', '#', '.', '#', '.', '#', '#', '.', '#'],\n",
       "        ['.', '.', '.', '.', '#', '.', '.', '.', '#', '#'],\n",
       "        ['.', '.', '.', '#', '#', '.', '.', '#', '#', '.'],\n",
       "        ['.', '.', '.', '#', '.', '#', '#', '#', '#', '#'],\n",
       "        ['.', '#', '.', '#', '#', '#', '#', '.', '#', '.'],\n",
       "        ['.', '.', '#', '.', '.', '#', '#', '#', '.', '#'],\n",
       "        ['.', '.', '#', '#', '.', '#', '.', '.', '#', '.']], dtype='<U1'),\n",
       " '2729': array([['.', '.', '.', '#', '.', '#', '.', '#', '.', '#'],\n",
       "        ['#', '#', '#', '#', '.', '#', '.', '.', '.', '.'],\n",
       "        ['.', '.', '#', '.', '#', '.', '.', '.', '.', '.'],\n",
       "        ['.', '.', '.', '.', '#', '.', '.', '#', '.', '#'],\n",
       "        ['.', '#', '#', '.', '.', '#', '#', '.', '#', '.'],\n",
       "        ['.', '#', '.', '#', '#', '#', '#', '.', '.', '.'],\n",
       "        ['#', '#', '#', '#', '.', '#', '.', '#', '.', '.'],\n",
       "        ['#', '#', '.', '#', '#', '#', '#', '.', '.', '.'],\n",
       "        ['#', '#', '.', '.', '#', '.', '#', '#', '.', '.'],\n",
       "        ['#', '.', '#', '#', '.', '.', '.', '#', '#', '.']], dtype='<U1')}"
      ]
     },
     "execution_count": 3,
     "metadata": {},
     "output_type": "execute_result"
    }
   ],
   "source": [
    "# Testing a smaller one yet to figure out if this is a memory issue:\n",
    "extra_keys = ['3079', '2473', '2971', '1489', '1171']\n",
    "for key in extra_keys:\n",
    "    del orig_tiles[key]\n",
    "orig_tiles\n",
    "\n"
   ]
  },
  {
   "cell_type": "code",
   "execution_count": 4,
   "metadata": {},
   "outputs": [
    {
     "data": {
      "text/plain": [
       "array([['.', '.', '#', '#', '.', '#', '.', '.', '#', '.'],\n",
       "       ['#', '#', '.', '.', '#', '.', '.', '.', '.', '.'],\n",
       "       ['#', '.', '.', '.', '#', '#', '.', '.', '#', '.'],\n",
       "       ['#', '#', '#', '#', '.', '#', '.', '.', '.', '#'],\n",
       "       ['#', '#', '.', '#', '#', '.', '#', '#', '#', '.'],\n",
       "       ['#', '#', '.', '.', '.', '#', '.', '#', '#', '#'],\n",
       "       ['.', '#', '.', '#', '.', '#', '.', '.', '#', '#'],\n",
       "       ['.', '.', '#', '.', '.', '.', '.', '#', '.', '.'],\n",
       "       ['#', '#', '#', '.', '.', '.', '#', '.', '#', '.'],\n",
       "       ['.', '.', '#', '#', '#', '.', '.', '#', '#', '#']], dtype='<U1')"
      ]
     },
     "execution_count": 4,
     "metadata": {},
     "output_type": "execute_result"
    }
   ],
   "source": [
    "# Store the ids and make an example for some tests:\n",
    "all_ids = list(orig_tiles.keys())\n",
    "example_id = all_ids[0] \n",
    "test_tile = orig_tiles[example_id]\n",
    "test_tile"
   ]
  },
  {
   "cell_type": "code",
   "execution_count": 5,
   "metadata": {},
   "outputs": [],
   "source": [
    "# Record the size of the grid\n",
    "grid_size = int(math.sqrt(len(orig_tiles)))"
   ]
  },
  {
   "cell_type": "code",
   "execution_count": 6,
   "metadata": {},
   "outputs": [],
   "source": [
    "# Now find the isomorphism... we need a way to rotate and flip the array.\n",
    "# Fortunately, these already exist in numpy:\n",
    "def get_isomorphisms(tile):\n",
    "    isos = []\n",
    "    for i in range(4):\n",
    "        # I believe that I should be copying here since\n",
    "        # the documentation says that it returns a view of the array\n",
    "        isos.append(np.rot90(tile.copy(), i))\n",
    "        isos.append(np.rot90(np.fliplr(tile.copy()), i))\n",
    "    return isos\n",
    "\n",
    "tile_isos = {}\n",
    "for tile_id in list(orig_tiles.keys()):\n",
    "    tile_isos.update({tile_id:get_isomorphisms(orig_tiles[tile_id])})"
   ]
  },
  {
   "cell_type": "markdown",
   "metadata": {},
   "source": [
    "Alright, I think this is a good start. Next we're going to want a function that checks two tiles for a match and then one that checks all of the neighbors in a potential solution"
   ]
  },
  {
   "cell_type": "code",
   "execution_count": 7,
   "metadata": {},
   "outputs": [
    {
     "data": {
      "text/plain": [
       "True"
      ]
     },
     "execution_count": 7,
     "metadata": {},
     "output_type": "execute_result"
    }
   ],
   "source": [
    "# So this function will take in two tiles and an axis argument to check if they can fit together.\n",
    "# The first argument will be the top/left while the second will be the bottom/right\n",
    "def check_tiles(t1, t2, axis):\n",
    "    # Horiszontal comparison\n",
    "    if axis == 1:\n",
    "        t1 = t1[:,9]\n",
    "        t2 = t2[:,0]\n",
    "    # Vertical comparison\n",
    "    elif axis == 0:\n",
    "        t1 = t1[9,:]\n",
    "        t2 = t2[0,:]\n",
    "    else:\n",
    "        raise ValueError('Bad axis svenny')\n",
    "\n",
    "    return np.array_equal(t1, t2)\n",
    "\n",
    "check_tiles(test_tile, np.fliplr(test_tile), axis = 1)"
   ]
  },
  {
   "cell_type": "code",
   "execution_count": 8,
   "metadata": {},
   "outputs": [
    {
     "data": {
      "text/plain": [
       "True"
      ]
     },
     "execution_count": 8,
     "metadata": {},
     "output_type": "execute_result"
    }
   ],
   "source": [
    "check_tiles(test_tile, np.flipud(test_tile), axis = 0)"
   ]
  },
  {
   "cell_type": "code",
   "execution_count": 9,
   "metadata": {},
   "outputs": [
    {
     "data": {
      "text/plain": [
       "False"
      ]
     },
     "execution_count": 9,
     "metadata": {},
     "output_type": "execute_result"
    }
   ],
   "source": [
    "check_tiles(test_tile, np.fliplr(test_tile), axis = 0)"
   ]
  },
  {
   "cell_type": "markdown",
   "metadata": {},
   "source": [
    "Now a function that will take in a dictionary of the positions of the tiles we've placed so far and check whether or not it matches the neighbors"
   ]
  },
  {
   "cell_type": "code",
   "execution_count": 10,
   "metadata": {},
   "outputs": [],
   "source": [
    "# I'm going to fill it left to right, top to bottom so some of these\n",
    "# checks are unnecessary and we shouldn't worry about key errors\n",
    "\n",
    "def check_neighbors(tile, pos, d):\n",
    "    x, y = pos[0], pos[1]\n",
    "    \n",
    "    if y > 0:\n",
    "        if not check_tiles(d[x,y-1], tile, axis = 0):\n",
    "            return False\n",
    "#    if y < grid_size-1 and (x,y+1) in d.keys():\n",
    "#        if not check_tiles(tile, d[x,y+1], axis = 0):\n",
    "#            return False\n",
    "    if x > 0:\n",
    "        if not check_tiles(d[x-1,y], tile, axis = 1):\n",
    "            return False\n",
    "#    if x < grid_size-1 and (x+1,y) in d.keys():\n",
    "#        if not check_tiles(tile ,d[x+1,y], axis = 1):\n",
    "#            return False\n",
    "    return True"
   ]
  },
  {
   "cell_type": "code",
   "execution_count": 11,
   "metadata": {},
   "outputs": [],
   "source": [
    "grid_side = list(range(grid_size))\n",
    "coords = list(itertools.product(grid_side, grid_side))\n",
    "\n",
    "# Initialize the position matrix:\n",
    "def refresh_pos(tile_id, tile):\n",
    "    new_dict = dict(zip(coords, [None for i in range(len(coords))]))\n",
    "    new_dict.update({(0,0):(tile_id, tile)})\n",
    "    return new_dict"
   ]
  },
  {
   "cell_type": "markdown",
   "metadata": {},
   "source": [
    "So what are the steps involved here:\n",
    "\n",
    "1. Initialize the positions with an orientation of one of the puzzle pieces\n",
    "2. Loop through each subsequent orientation of each other piece\n",
    "3. If we find a match, remove it from the list and call the function again"
   ]
  },
  {
   "cell_type": "code",
   "execution_count": 12,
   "metadata": {},
   "outputs": [],
   "source": [
    "def try_piece(pos_dict):\n",
    "    \n",
    "    # First find the position we're trying to fill:\n",
    "    for coord in coords:\n",
    "        if pos_dict[coord] is not None:\n",
    "            next_coord = coord\n",
    "            break\n",
    "            \n",
    "    # Now we find the potential candidates for the next tile\n",
    "    non_candidates = []\n",
    "    for key in pos_dict.keys():\n",
    "        if pos_dict[key] is not None:\n",
    "            non_candidates.append(pos_dict[key][0])\n",
    "    candidates = [tile_id for tile_id in all_ids if tile_id not in non_candidates]\n",
    "    \n",
    "    # If there are any left to try:\n",
    "    if len(candidates) > 0:\n",
    "        # try each next tile:\n",
    "        for candidate in candidates:\n",
    "            # Try each isomorphism of that tile:\n",
    "            for iso_cand in tile_isos[candidate]:\n",
    "                if check_neighbors(iso_cand, next_coord, pos_dict):\n",
    "                    # If we found a piece that can fit, call the function again:\n",
    "                    next_pos_dict = pos_dict.copy()\n",
    "                    next_pos_dict.update({next_coord:(candidate, iso_cand)})\n",
    "                    if type(try_piece(next_pos_dict)) == dict:\n",
    "                        return try_piece(next_pos_dict)\n",
    "        # If all fail:\n",
    "        else:\n",
    "            return False\n",
    "    # If we have no candidates, we return the dictionary as a success:\n",
    "    else:\n",
    "        return pos_dict"
   ]
  },
  {
   "cell_type": "code",
   "execution_count": null,
   "metadata": {},
   "outputs": [],
   "source": [
    "# Kinda curious how many multi-matches there are...\n",
    "\n",
    "def find_side_matches(tile_id):\n",
    "    \n",
    "\n"
   ]
  },
  {
   "cell_type": "code",
   "execution_count": null,
   "metadata": {},
   "outputs": [],
   "source": [
    "# loop through each of the ids as the start until we break the loop due to success:\n",
    "for next_id in all_ids:\n",
    "    print(next_id)\n",
    "    for next_orient in tile_isos[next_id]:\n",
    "        \n",
    "        # Refresh the dictionary:\n",
    "        pos_dict = refresh_pos(next_id, next_orient)\n",
    "\n",
    "        # call the function on each successive\n",
    "        attempt = try_piece(pos_dict)\n",
    "        if type(attempt) == dict:\n",
    "            break\n",
    "#sol1 = attempt[(0,0)]*attempt[(0,grid_size-1)]*attempt[(grid_size-1,0)]*attempt[(grid_size-1,grid_size-1)]\n",
    "#sol1"
   ]
  },
  {
   "cell_type": "code",
   "execution_count": 18,
   "metadata": {},
   "outputs": [
    {
     "data": {
      "text/plain": [
       "134217728"
      ]
     },
     "execution_count": 18,
     "metadata": {},
     "output_type": "execute_result"
    }
   ],
   "source": [
    "8**9"
   ]
  },
  {
   "cell_type": "code",
   "execution_count": 14,
   "metadata": {},
   "outputs": [
    {
     "data": {
      "text/plain": [
       "{(0, 0): ('3079',\n",
       "  array([['.', '.', '.', '#', '.', '.', '.', '.', '#', '.'],\n",
       "         ['.', '.', '.', '#', '#', '#', '.', '.', '#', '#'],\n",
       "         ['.', '.', '.', '.', '#', '.', '.', '.', '#', '#'],\n",
       "         ['#', '.', '#', '#', '.', '.', '.', '.', '#', '#'],\n",
       "         ['#', '.', '#', '#', '#', '#', '#', '.', '#', '#'],\n",
       "         ['#', '.', '#', '#', '.', '.', '#', '.', '#', '#'],\n",
       "         ['.', '.', '.', '#', '.', '#', '#', '.', '.', '.'],\n",
       "         ['#', '#', '#', '#', '.', '#', '#', '#', '.', '#'],\n",
       "         ['.', '.', '.', '.', '#', '#', '#', '.', '#', '.'],\n",
       "         ['.', '.', '.', '#', '.', '#', '#', '.', '.', '#']], dtype='<U1')),\n",
       " (0, 1): None,\n",
       " (0, 2): None,\n",
       " (1, 0): None,\n",
       " (1, 1): None,\n",
       " (1, 2): None,\n",
       " (2, 0): None,\n",
       " (2, 1): None,\n",
       " (2, 2): None}"
      ]
     },
     "execution_count": 14,
     "metadata": {},
     "output_type": "execute_result"
    }
   ],
   "source": [
    "pos_dict"
   ]
  },
  {
   "cell_type": "code",
   "execution_count": 22,
   "metadata": {
    "scrolled": true
   },
   "outputs": [
    {
     "name": "stdout",
     "output_type": "stream",
     "text": [
      "2311\n"
     ]
    }
   ],
   "source": [
    "for next_id in all_ids[:1]:\n",
    "    print(next_id)"
   ]
  },
  {
   "cell_type": "code",
   "execution_count": 15,
   "metadata": {},
   "outputs": [
    {
     "data": {
      "text/plain": [
       "[(1, 2), (2, 0), (2, 1), (2, 2)]"
      ]
     },
     "execution_count": 15,
     "metadata": {},
     "output_type": "execute_result"
    }
   ],
   "source": [
    "list(coords)"
   ]
  },
  {
   "cell_type": "code",
   "execution_count": 119,
   "metadata": {},
   "outputs": [
    {
     "data": {
      "text/plain": [
       "[5, 6]"
      ]
     },
     "execution_count": 119,
     "metadata": {},
     "output_type": "execute_result"
    }
   ],
   "source": [
    "x = [1, 2, 3]\n",
    "y = [2, 5, 6]\n",
    "[z for z in y if z not in x]"
   ]
  },
  {
   "cell_type": "markdown",
   "metadata": {},
   "source": [
    "### Part 2"
   ]
  },
  {
   "cell_type": "code",
   "execution_count": 103,
   "metadata": {},
   "outputs": [
    {
     "data": {
      "text/plain": [
       "[0, 1]"
      ]
     },
     "execution_count": 103,
     "metadata": {},
     "output_type": "execute_result"
    }
   ],
   "source": [
    "x = [0,1,2]\n",
    "x.pop()\n",
    "x"
   ]
  },
  {
   "cell_type": "code",
   "execution_count": 117,
   "metadata": {},
   "outputs": [
    {
     "data": {
      "text/plain": [
       "True"
      ]
     },
     "execution_count": 117,
     "metadata": {},
     "output_type": "execute_result"
    }
   ],
   "source": [
    "type({}) == dict"
   ]
  },
  {
   "cell_type": "code",
   "execution_count": 122,
   "metadata": {},
   "outputs": [
    {
     "name": "stdout",
     "output_type": "stream",
     "text": [
      "1\n",
      "44\n"
     ]
    }
   ],
   "source": [
    "for i in {0:1, 2:44}.values():\n",
    "    print(i)"
   ]
  },
  {
   "cell_type": "code",
   "execution_count": null,
   "metadata": {},
   "outputs": [],
   "source": []
  }
 ],
 "metadata": {
  "kernelspec": {
   "display_name": "Python 3",
   "language": "python",
   "name": "python3"
  },
  "language_info": {
   "codemirror_mode": {
    "name": "ipython",
    "version": 3
   },
   "file_extension": ".py",
   "mimetype": "text/x-python",
   "name": "python",
   "nbconvert_exporter": "python",
   "pygments_lexer": "ipython3",
   "version": "3.8.5"
  }
 },
 "nbformat": 4,
 "nbformat_minor": 4
}
