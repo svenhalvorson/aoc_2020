{
 "cells": [
  {
   "cell_type": "markdown",
   "metadata": {},
   "source": [
    "## [Day 11](https://adventofcode.com/2020/day/1)\n",
    "\n",
    "Here we have some set up of seats where there will be a number of rules applied to this iteratively. We're supposed to keep applying the rules until nothing changes. The rules are  \n",
    "1. Empty seats (`L`) with no adjacent seats filled will be filled.\n",
    "2. Floors (`.`) will always remain the same.\n",
    "3. Occupied seats (`#`) will vacate if four or more of the 8 adjacent ones are filled.\n",
    "    \n",
    "I don't really know what kinds of methods we can do to make this quicker or simpler than just simulating the whole thing. I think I'll try to use `np.ndarray`s for this.\n"
   ]
  },
  {
   "cell_type": "code",
   "execution_count": 1,
   "metadata": {},
   "outputs": [
    {
     "data": {
      "text/plain": [
       "['LLLLLLLLLLLL.LLLLLLLLLL.LLLL.LLLL.LLLLLLLLLLL.LLLL.LLLLLLL.LL.LLLLLLLL.LLL.LLLLLLLLLLL.LLLLLLL',\n",
       " 'LLLLLLLLLLL.LLLL.L..LLL.LL.LLLLLLLLLLL.LLLLLL.LLLLLLLL.L.LLLLL.LLLLLL..LLL.LLLLLLLLLLLLLLLLLLL',\n",
       " 'LLLLLL.LLLL.LLLL.L.LLLL.LLL.LLLLLLLLLLLLLLLLL.LLLLLLLLLLLLLLL..LLLLLLLLLLLLLLLLLLLLLLLLLLL.LLL',\n",
       " 'LLLLLLLLLLL.LL.LL..LLLL.LLLL.L.LLLLLLL.LLLLLL.LLLLLLLLLLLLLLL.LLLLLLLL.LLLLLLLL.LLLLLLLLLLLLLL',\n",
       " 'LLLL.L.L.L..LLLLLLLLLL..LLL..LLLL.LLLL.LLLLLLLL.LLLLLL.LLLLLL.LLLLLLLLLLLLLLL.L.LLLLLLLLLLLLLL',\n",
       " 'LLLLLL.LLLL.LLLLLL.LLLL.LLLL.LL.LLLLLL.LLLLLLLLLLLLLLL.LLLLLL.LLLLLLLL.LLL.LLLL.LLLLLLL.LLLLLL',\n",
       " '.L.L....LL......LL..LL.....LLLLL.......L....LL......L.L..L..L..L.L.LL.....LL.......L.L....L..L',\n",
       " 'LLLLLL.LLLL.LLLLLL.LLLL.LLLLLLLLLLLLLL.LLLLLL.LLLLLLLL.LLLL.L.LLLLLLLLLLLLLLLLL.LLLLLLLLLLLLLL',\n",
       " 'LLLLLL..LLL.LLLLLLLLLLLLLLLLLLL.LLLLLLLLLLLLL..LLLLLLL.LLLLLL.LLLLLLLL.LLLLLLLLLLLLLLL.LL.LLLL',\n",
       " 'LLLLLL.LLLL.LLLLLL.L.LL.LLLL.LLLLLLLLL.LLLLLLLLLLLL.LL.LLLLLLLLLL..LLLLLL.LLLLLLLLLLLLLLLLLLLL']"
      ]
     },
     "execution_count": 1,
     "metadata": {},
     "output_type": "execute_result"
    }
   ],
   "source": [
    "import pandas as pd\n",
    "import numpy as np\n",
    "import itertools\n",
    "\n",
    "seats = open('../inputs/d11.txt').read().splitlines()\n",
    "seats[:10]"
   ]
  },
  {
   "cell_type": "code",
   "execution_count": 2,
   "metadata": {},
   "outputs": [
    {
     "data": {
      "text/plain": [
       "array([['L', 'L', 'L', 'L', 'L', 'L', 'L', 'L', 'L', 'L', 'L', 'L', '.',\n",
       "        'L', 'L', 'L', 'L', 'L', 'L', 'L', 'L', 'L', 'L', '.', 'L', 'L',\n",
       "        'L', 'L', '.', 'L', 'L', 'L', 'L', '.', 'L', 'L', 'L', 'L', 'L',\n",
       "        'L', 'L', 'L', 'L', 'L', 'L', '.', 'L', 'L', 'L', 'L', '.', 'L',\n",
       "        'L', 'L', 'L', 'L', 'L', 'L', '.', 'L', 'L', '.', 'L', 'L', 'L',\n",
       "        'L', 'L', 'L', 'L', 'L', '.', 'L', 'L', 'L', '.', 'L', 'L', 'L',\n",
       "        'L', 'L', 'L', 'L', 'L', 'L', 'L', 'L', '.', 'L', 'L', 'L', 'L',\n",
       "        'L', 'L', 'L'],\n",
       "       ['L', 'L', 'L', 'L', 'L', 'L', 'L', 'L', 'L', 'L', 'L', '.', 'L',\n",
       "        'L', 'L', 'L', '.', 'L', '.', '.', 'L', 'L', 'L', '.', 'L', 'L',\n",
       "        '.', 'L', 'L', 'L', 'L', 'L', 'L', 'L', 'L', 'L', 'L', 'L', '.',\n",
       "        'L', 'L', 'L', 'L', 'L', 'L', '.', 'L', 'L', 'L', 'L', 'L', 'L',\n",
       "        'L', 'L', '.', 'L', '.', 'L', 'L', 'L', 'L', 'L', '.', 'L', 'L',\n",
       "        'L', 'L', 'L', 'L', '.', '.', 'L', 'L', 'L', '.', 'L', 'L', 'L',\n",
       "        'L', 'L', 'L', 'L', 'L', 'L', 'L', 'L', 'L', 'L', 'L', 'L', 'L',\n",
       "        'L', 'L', 'L']], dtype='<U1')"
      ]
     },
     "execution_count": 2,
     "metadata": {},
     "output_type": "execute_result"
    }
   ],
   "source": [
    "# data munging:\n",
    "def split_row(row):\n",
    "    return [x for x in row]\n",
    "seats = [split_row(x) for x in seats]\n",
    "seats = np.array(seats)\n",
    "seats[:2]"
   ]
  },
  {
   "cell_type": "code",
   "execution_count": 3,
   "metadata": {},
   "outputs": [],
   "source": [
    "# so I think the main thing that will be tricky here is \n",
    "# getting the neighbors of the value. Maybe let's play with\n",
    "# exceptions to ignore cases where we're off the grid\n",
    "def get_neighbors(arr, row, col):\n",
    "    tot = 0\n",
    "    for r in [-1, 0, 1]:\n",
    "        for c in [-1, 0, 1]:\n",
    "            if r == c == 0:\n",
    "                next\n",
    "            elif 0 <= row+r < len(arr) and 0 <= col+c < len(arr[0]):\n",
    "                #print('Row:'+str(row+r)+', Col:'+str(col+c)+', Value:'+str(arr[row+r][col+c]))\n",
    "                n = arr[row+r][col+c]\n",
    "                if n == '#':\n",
    "                    tot += 1\n",
    "            else:\n",
    "                next\n",
    "    return tot\n",
    "\n",
    "# and then another function to change the position generally:\n",
    "def change_seat(arr, row, col):\n",
    "    val = arr[row][col]\n",
    "    if val == '.':\n",
    "        return '.'\n",
    "    elif val == 'L':\n",
    "        if get_neighbors(arr, row, col) == 0:\n",
    "            return '#'\n",
    "        else:\n",
    "            return 'L'\n",
    "    else:\n",
    "        if get_neighbors(arr, row, col) >= 4:\n",
    "            return 'L'\n",
    "        else:\n",
    "            return '#'        "
   ]
  },
  {
   "cell_type": "markdown",
   "metadata": {},
   "source": [
    "Cool, let's  see how we do"
   ]
  },
  {
   "cell_type": "code",
   "execution_count": 4,
   "metadata": {},
   "outputs": [
    {
     "data": {
      "text/plain": [
       "2178"
      ]
     },
     "execution_count": 4,
     "metadata": {},
     "output_type": "execute_result"
    }
   ],
   "source": [
    "next_seats = seats.copy()\n",
    "while True:\n",
    "    last_seats = next_seats.copy()\n",
    "    for row in range(len(last_seats)):\n",
    "        for col in range(len(last_seats[0])):\n",
    "            next_seats[row][col] = change_seat(last_seats, row, col)\n",
    "    if np.array_equal(last_seats, next_seats):\n",
    "        break        \n",
    "\n",
    "sum([1 if x == '#' else 0 for y in next_seats for x in y])"
   ]
  },
  {
   "cell_type": "markdown",
   "metadata": {},
   "source": [
    "### Part 2\n",
    "\n",
    "So basically the only change we need to implement is that we now work in line of sight away from someone until they see either a wall, empty seat, or occupied seat. We'll only count the cases where the occupied seat is seen and 0 otherwise."
   ]
  },
  {
   "cell_type": "code",
   "execution_count": 5,
   "metadata": {},
   "outputs": [],
   "source": [
    "?itertools.permutations"
   ]
  },
  {
   "cell_type": "code",
   "execution_count": 6,
   "metadata": {},
   "outputs": [
    {
     "name": "stdout",
     "output_type": "stream",
     "text": [
      "(0, 1)\n",
      "(-1, -1)\n",
      "(-1, 1)\n",
      "(1, 1)\n",
      "(1, -1)\n",
      "(-1, 0)\n",
      "(1, 0)\n",
      "(0, -1)\n"
     ]
    }
   ],
   "source": [
    "directions = set(itertools.permutations([0, 0, 1, 1, -1, -1], 2))\n",
    "directions.remove((0,0))\n",
    "for dir in directions:\n",
    "    print(dir)"
   ]
  },
  {
   "cell_type": "code",
   "execution_count": 7,
   "metadata": {},
   "outputs": [],
   "source": [
    "# Set up a list of directions we can travel in:\n",
    "directions = set(itertools.permutations([0, 0, 1, 1, -1, -1], 2))\n",
    "directions.remove((0,0))\n",
    "\n",
    "# Modify the get neighbors to go out in these directions till they hit a seat or an edge:\n",
    "def get_neighbors2(arr, row, col):\n",
    "    tot = 0\n",
    "    for dir in directions:\n",
    "        i = 1\n",
    "        while True:            \n",
    "            if 0 <= row+dir[0]*i < len(arr) and 0 <= col+dir[1]*i < len(arr[0]):\n",
    "                if arr[row+dir[0]*i][col++dir[1]*i] == '#':\n",
    "                    tot += 1\n",
    "                    break\n",
    "                if arr[row+dir[0]*i][col++dir[1]*i] == 'L':\n",
    "                    break\n",
    "            else:\n",
    "                break\n",
    "            i += 1\n",
    "    return tot\n",
    "\n",
    "# Swap in the functions\n",
    "def change_seat2(arr, row, col):\n",
    "    val = arr[row][col]\n",
    "    if val == '.':\n",
    "        return '.'\n",
    "    elif val == 'L':\n",
    "        if get_neighbors2(arr, row, col) == 0:\n",
    "            return '#'\n",
    "        else:\n",
    "            return 'L'\n",
    "    else:\n",
    "        if get_neighbors2(arr, row, col) >= 5:\n",
    "            return 'L'\n",
    "        else:\n",
    "            return '#'      "
   ]
  },
  {
   "cell_type": "code",
   "execution_count": 8,
   "metadata": {},
   "outputs": [
    {
     "data": {
      "text/plain": [
       "1978"
      ]
     },
     "execution_count": 8,
     "metadata": {},
     "output_type": "execute_result"
    }
   ],
   "source": [
    "        \n",
    "# Then run our function a buncha times:\n",
    "next_seats = seats.copy()\n",
    "while True:\n",
    "    last_seats = next_seats.copy()\n",
    "    for row in range(len(last_seats)):\n",
    "        for col in range(len(last_seats[0])):\n",
    "            next_seats[row][col] = change_seat2(last_seats, row, col)\n",
    "    if np.array_equal(last_seats, next_seats):\n",
    "        break        \n",
    "\n",
    "sum([1 if x == '#' else 0 for y in next_seats for x in y])"
   ]
  }
 ],
 "metadata": {
  "kernelspec": {
   "display_name": "Python 3",
   "language": "python",
   "name": "python3"
  },
  "language_info": {
   "codemirror_mode": {
    "name": "ipython",
    "version": 3
   },
   "file_extension": ".py",
   "mimetype": "text/x-python",
   "name": "python",
   "nbconvert_exporter": "python",
   "pygments_lexer": "ipython3",
   "version": "3.8.5"
  }
 },
 "nbformat": 4,
 "nbformat_minor": 4
}
