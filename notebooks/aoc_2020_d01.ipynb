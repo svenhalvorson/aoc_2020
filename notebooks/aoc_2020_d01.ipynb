{
 "cells": [
  {
   "cell_type": "markdown",
   "metadata": {},
   "source": [
    "## Day 1\n",
    "We're back for more exciting python fun. I'm starting a job soon where I'll be allowed to use this language so I'm going to practice here a bit beforehand. I'll try to use as many numpy and pandas functions/objects as this is probably what will be most useful for me to learn.\n",
    "\n",
    "The first puzzle looks easy which is unsurprising. We're asked to take a long list of numbers, find a consequtive pair that add to 2020, and then multiply them as the solution."
   ]
  },
  {
   "cell_type": "code",
   "execution_count": 67,
   "metadata": {},
   "outputs": [
    {
     "data": {
      "text/plain": [
       "array([1632, 1438, 1811, 1943, 1883], dtype=int32)"
      ]
     },
     "execution_count": 67,
     "metadata": {},
     "output_type": "execute_result"
    }
   ],
   "source": [
    "import numpy as np\n",
    "import pandas as pd\n",
    "# Alright let's get this list loaded:\n",
    "expenses = np.genfromtxt('../inputs/d1.txt')\n",
    "expenses = expenses.astype('i')\n",
    "expenses[:5]"
   ]
  },
  {
   "cell_type": "code",
   "execution_count": 68,
   "metadata": {},
   "outputs": [
    {
     "name": "stdout",
     "output_type": "stream",
     "text": [
      "int32\n"
     ]
    },
    {
     "data": {
      "text/plain": [
       "200"
      ]
     },
     "execution_count": 68,
     "metadata": {},
     "output_type": "execute_result"
    }
   ],
   "source": [
    "print(expenses.dtype)\n",
    "len(expenses)"
   ]
  },
  {
   "cell_type": "markdown",
   "metadata": {},
   "source": [
    "Wonder if there are any duplicates:"
   ]
  },
  {
   "cell_type": "code",
   "execution_count": 69,
   "metadata": {},
   "outputs": [
    {
     "name": "stdout",
     "output_type": "stream",
     "text": [
      "200\n"
     ]
    },
    {
     "data": {
      "text/plain": [
       "array([ 81, 352, 358, 435, 505], dtype=int32)"
      ]
     },
     "execution_count": 69,
     "metadata": {},
     "output_type": "execute_result"
    }
   ],
   "source": [
    "expenses = np.sort(np.unique(expenses))\n",
    "print(len(expenses))\n",
    "expenses[:5]"
   ]
  },
  {
   "cell_type": "markdown",
   "metadata": {},
   "source": [
    "Nope. Okay I think we'll just try this one with a double for loop? Maybe we'll consider another method after"
   ]
  },
  {
   "cell_type": "code",
   "execution_count": 70,
   "metadata": {},
   "outputs": [
    {
     "name": "stdout",
     "output_type": "stream",
     "text": [
      "idices 0 and 173 have a product of 157059\n"
     ]
    }
   ],
   "source": [
    "stop = 0\n",
    "for i in range(len(expenses)-1):\n",
    "    if(stop == 1):\n",
    "        break\n",
    "    for j in range(i+1, len(expenses)):\n",
    "        if expenses[i] + expenses[j] > 2020:\n",
    "            break\n",
    "        elif expenses[i] + expenses[j] < 2020:\n",
    "            continue\n",
    "        else:\n",
    "            print('idices '+ str(i) + ' and ' + str(j) + ' have a product of ' + str(expenses[i]*expenses[j]))\n",
    "            stop = 1\n",
    "            break\n",
    "            "
   ]
  },
  {
   "cell_type": "code",
   "execution_count": 72,
   "metadata": {},
   "outputs": [
    {
     "data": {
      "text/plain": [
       "2020"
      ]
     },
     "execution_count": 72,
     "metadata": {},
     "output_type": "execute_result"
    }
   ],
   "source": [
    "expenses[0] + expenses[173]"
   ]
  },
  {
   "cell_type": "markdown",
   "metadata": {},
   "source": [
    "So... wondering if there is a NP style method of doing this.... Maybe there is a way to make a data set of the cross join and then filter it:"
   ]
  },
  {
   "cell_type": "code",
   "execution_count": 87,
   "metadata": {},
   "outputs": [
    {
     "data": {
      "text/html": [
       "<div>\n",
       "<style scoped>\n",
       "    .dataframe tbody tr th:only-of-type {\n",
       "        vertical-align: middle;\n",
       "    }\n",
       "\n",
       "    .dataframe tbody tr th {\n",
       "        vertical-align: top;\n",
       "    }\n",
       "\n",
       "    .dataframe thead th {\n",
       "        text-align: right;\n",
       "    }\n",
       "</style>\n",
       "<table border=\"1\" class=\"dataframe\">\n",
       "  <thead>\n",
       "    <tr style=\"text-align: right;\">\n",
       "      <th></th>\n",
       "      <th>expense</th>\n",
       "      <th>expense2</th>\n",
       "      <th>product</th>\n",
       "    </tr>\n",
       "  </thead>\n",
       "  <tbody>\n",
       "    <tr>\n",
       "      <th>173</th>\n",
       "      <td>81</td>\n",
       "      <td>1939</td>\n",
       "      <td>157059</td>\n",
       "    </tr>\n",
       "  </tbody>\n",
       "</table>\n",
       "</div>"
      ],
      "text/plain": [
       "     expense  expense2  product\n",
       "173       81      1939   157059"
      ]
     },
     "execution_count": 87,
     "metadata": {},
     "output_type": "execute_result"
    }
   ],
   "source": [
    "expenses_df = pd.DataFrame({'expense':expenses, 'i' : 1})\n",
    "expenses_df = expenses_df.merge(expenses_df.rename(columns = {'expense':'expense2'}))\n",
    "expenses_df = expenses_df.query('expense + expense2 == 2020').query('expense < expense2').drop('i', 1)\n",
    "expenses_df['product'] = expenses_df.expense*expenses_df.expense2\n",
    "expenses_df.head()"
   ]
  },
  {
   "cell_type": "markdown",
   "metadata": {},
   "source": [
    "### Part 2\n",
    "\n",
    "Now we're asked to find a trio of numbers that sum to 2020:"
   ]
  },
  {
   "cell_type": "code",
   "execution_count": 90,
   "metadata": {},
   "outputs": [
    {
     "data": {
      "text/html": [
       "<div>\n",
       "<style scoped>\n",
       "    .dataframe tbody tr th:only-of-type {\n",
       "        vertical-align: middle;\n",
       "    }\n",
       "\n",
       "    .dataframe tbody tr th {\n",
       "        vertical-align: top;\n",
       "    }\n",
       "\n",
       "    .dataframe thead th {\n",
       "        text-align: right;\n",
       "    }\n",
       "</style>\n",
       "<table border=\"1\" class=\"dataframe\">\n",
       "  <thead>\n",
       "    <tr style=\"text-align: right;\">\n",
       "      <th></th>\n",
       "      <th>expense</th>\n",
       "      <th>i</th>\n",
       "      <th>expense2</th>\n",
       "      <th>expense3</th>\n",
       "      <th>product</th>\n",
       "    </tr>\n",
       "  </thead>\n",
       "  <tbody>\n",
       "    <tr>\n",
       "      <th>34412</th>\n",
       "      <td>352</td>\n",
       "      <td>1</td>\n",
       "      <td>358</td>\n",
       "      <td>1310</td>\n",
       "      <td>165080960</td>\n",
       "    </tr>\n",
       "  </tbody>\n",
       "</table>\n",
       "</div>"
      ],
      "text/plain": [
       "       expense  i  expense2  expense3    product\n",
       "34412      352  1       358      1310  165080960"
      ]
     },
     "execution_count": 90,
     "metadata": {},
     "output_type": "execute_result"
    }
   ],
   "source": [
    "expenses_df = pd.DataFrame({'expense':expenses, 'i' : 1})\n",
    "expenses_df2 = expenses_df.merge(expenses_df.rename(columns = {'expense':'expense2'}))\n",
    "\n",
    "# maybe we'll filter as we go since the result will be huge:\n",
    "expenses_df2 = expenses_df2.query('expense + expense2 < 2020').query('expense < expense2')\n",
    "expenses_df2 = expenses_df2.merge(expenses_df.rename(columns = {'expense':'expense3'}))\n",
    "expenses_df2 = expenses_df2.query('expense + expense2 + expense3 == 2020').query('expense2 < expense3')\n",
    "expenses_df2['product'] = expenses_df2.expense*expenses_df2.expense2*expenses_df2.expense3\n",
    "expenses_df2.head()"
   ]
  },
  {
   "cell_type": "code",
   "execution_count": null,
   "metadata": {},
   "outputs": [],
   "source": []
  }
 ],
 "metadata": {
  "kernelspec": {
   "display_name": "Python 3",
   "language": "python",
   "name": "python3"
  },
  "language_info": {
   "codemirror_mode": {
    "name": "ipython",
    "version": 3
   },
   "file_extension": ".py",
   "mimetype": "text/x-python",
   "name": "python",
   "nbconvert_exporter": "python",
   "pygments_lexer": "ipython3",
   "version": "3.8.5"
  }
 },
 "nbformat": 4,
 "nbformat_minor": 4
}
