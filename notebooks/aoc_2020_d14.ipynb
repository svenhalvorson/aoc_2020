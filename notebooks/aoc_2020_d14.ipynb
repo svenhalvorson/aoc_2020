{
 "cells": [
  {
   "cell_type": "markdown",
   "metadata": {},
   "source": [
    "## [Day 14](https://adventofcode.com/2020/day/14)\n",
    "\n",
    "This problem has some method of storing binary numbers in which we force particular digits to remain as certain values. My understanding is that the mask. We also have different addresses for which the the data is supposed to be stored."
   ]
  },
  {
   "cell_type": "code",
   "execution_count": 1,
   "metadata": {},
   "outputs": [
    {
     "data": {
      "text/plain": [
       "['mask = X111000X0101100001000000100011X0000X',\n",
       " 'mem[4812] = 133322396',\n",
       " 'mem[39136] = 1924962',\n",
       " 'mem[35697] = 29912136',\n",
       " 'mem[41065] = 2558851']"
      ]
     },
     "execution_count": 1,
     "metadata": {},
     "output_type": "execute_result"
    }
   ],
   "source": [
    "import pandas as pd\n",
    "import numpy as np\n",
    "import re\n",
    "instr = open('../inputs/d14.txt').read().splitlines()\n",
    "instr[:5]"
   ]
  },
  {
   "cell_type": "markdown",
   "metadata": {},
   "source": [
    "So maybe I'll go back to using pandas to get this done although it seems more complicated (as usual)"
   ]
  },
  {
   "cell_type": "code",
   "execution_count": 2,
   "metadata": {},
   "outputs": [
    {
     "data": {
      "text/plain": [
       "['X111000X0101100001000000100011X0000X', '', '', '', '']"
      ]
     },
     "execution_count": 2,
     "metadata": {},
     "output_type": "execute_result"
    }
   ],
   "source": [
    "masks = ['' if x.find('mask') == -1 else x[7:] for x in instr]\n",
    "\n",
    "masks[:5]"
   ]
  },
  {
   "cell_type": "code",
   "execution_count": 3,
   "metadata": {},
   "outputs": [
    {
     "data": {
      "text/plain": [
       "['', '4812', '39136', '35697', '41065']"
      ]
     },
     "execution_count": 3,
     "metadata": {},
     "output_type": "execute_result"
    }
   ],
   "source": [
    "addresses, values = [], []\n",
    "\n",
    "def process_instr(x):\n",
    "    m = re.match(r\"mem\\[(?P<address>\\d+)\\] = (?P<value>\\d+)\", x)\n",
    "    if m:\n",
    "        addresses.append(m.group('address'))\n",
    "        values.append(m.group('value'))\n",
    "    else:\n",
    "        addresses.append('')\n",
    "        values.append('')\n",
    "\n",
    "for i in range(len(instr)):\n",
    "    process_instr(instr[i])\n",
    "addresses[:5]"
   ]
  },
  {
   "cell_type": "code",
   "execution_count": 4,
   "metadata": {},
   "outputs": [
    {
     "data": {
      "text/plain": [
       "['', '133322396', '1924962', '29912136', '2558851']"
      ]
     },
     "execution_count": 4,
     "metadata": {},
     "output_type": "execute_result"
    }
   ],
   "source": [
    "values[:5]"
   ]
  },
  {
   "cell_type": "code",
   "execution_count": 5,
   "metadata": {},
   "outputs": [
    {
     "data": {
      "text/html": [
       "<div>\n",
       "<style scoped>\n",
       "    .dataframe tbody tr th:only-of-type {\n",
       "        vertical-align: middle;\n",
       "    }\n",
       "\n",
       "    .dataframe tbody tr th {\n",
       "        vertical-align: top;\n",
       "    }\n",
       "\n",
       "    .dataframe thead th {\n",
       "        text-align: right;\n",
       "    }\n",
       "</style>\n",
       "<table border=\"1\" class=\"dataframe\">\n",
       "  <thead>\n",
       "    <tr style=\"text-align: right;\">\n",
       "      <th></th>\n",
       "      <th>address</th>\n",
       "      <th>value</th>\n",
       "      <th>bit_mask</th>\n",
       "    </tr>\n",
       "  </thead>\n",
       "  <tbody>\n",
       "    <tr>\n",
       "      <th>0</th>\n",
       "      <td>4812</td>\n",
       "      <td>133322396</td>\n",
       "      <td>X111000X0101100001000000100011X0000X</td>\n",
       "    </tr>\n",
       "    <tr>\n",
       "      <th>1</th>\n",
       "      <td>39136</td>\n",
       "      <td>1924962</td>\n",
       "      <td>X111000X0101100001000000100011X0000X</td>\n",
       "    </tr>\n",
       "    <tr>\n",
       "      <th>2</th>\n",
       "      <td>35697</td>\n",
       "      <td>29912136</td>\n",
       "      <td>X111000X0101100001000000100011X0000X</td>\n",
       "    </tr>\n",
       "    <tr>\n",
       "      <th>3</th>\n",
       "      <td>41065</td>\n",
       "      <td>2558851</td>\n",
       "      <td>X111000X0101100001000000100011X0000X</td>\n",
       "    </tr>\n",
       "    <tr>\n",
       "      <th>4</th>\n",
       "      <td>38134</td>\n",
       "      <td>481</td>\n",
       "      <td>11001101X110000X010X01101100X1X0X001</td>\n",
       "    </tr>\n",
       "    <tr>\n",
       "      <th>5</th>\n",
       "      <td>53084</td>\n",
       "      <td>5470</td>\n",
       "      <td>11001101X110000X010X01101100X1X0X001</td>\n",
       "    </tr>\n",
       "    <tr>\n",
       "      <th>6</th>\n",
       "      <td>37619</td>\n",
       "      <td>2696</td>\n",
       "      <td>11001101X110000X010X01101100X1X0X001</td>\n",
       "    </tr>\n",
       "  </tbody>\n",
       "</table>\n",
       "</div>"
      ],
      "text/plain": [
       "  address      value                              bit_mask\n",
       "0    4812  133322396  X111000X0101100001000000100011X0000X\n",
       "1   39136    1924962  X111000X0101100001000000100011X0000X\n",
       "2   35697   29912136  X111000X0101100001000000100011X0000X\n",
       "3   41065    2558851  X111000X0101100001000000100011X0000X\n",
       "4   38134        481  11001101X110000X010X01101100X1X0X001\n",
       "5   53084       5470  11001101X110000X010X01101100X1X0X001\n",
       "6   37619       2696  11001101X110000X010X01101100X1X0X001"
      ]
     },
     "execution_count": 5,
     "metadata": {},
     "output_type": "execute_result"
    }
   ],
   "source": [
    "# Now we can make a data frame out of this:\n",
    "instr_df = pd.DataFrame({'address' : addresses, 'value' : values, 'bit_mask' : masks})\n",
    "instr_df.bit_mask = instr_df.bit_mask.replace(to_replace = '', value = None).ffill()\n",
    "instr_df = instr_df.query(\"address != ''\").reset_index(drop = True)\n",
    "instr_df.head(7)"
   ]
  },
  {
   "cell_type": "markdown",
   "metadata": {},
   "source": [
    "Alright so that took quite some time but learned a few things. Next I think I wanna just turn all those values into padded binary strings."
   ]
  },
  {
   "cell_type": "code",
   "execution_count": 6,
   "metadata": {},
   "outputs": [
    {
     "data": {
      "text/html": [
       "<div>\n",
       "<style scoped>\n",
       "    .dataframe tbody tr th:only-of-type {\n",
       "        vertical-align: middle;\n",
       "    }\n",
       "\n",
       "    .dataframe tbody tr th {\n",
       "        vertical-align: top;\n",
       "    }\n",
       "\n",
       "    .dataframe thead th {\n",
       "        text-align: right;\n",
       "    }\n",
       "</style>\n",
       "<table border=\"1\" class=\"dataframe\">\n",
       "  <thead>\n",
       "    <tr style=\"text-align: right;\">\n",
       "      <th></th>\n",
       "      <th>address</th>\n",
       "      <th>value</th>\n",
       "      <th>bit_mask</th>\n",
       "      <th>value_bin</th>\n",
       "    </tr>\n",
       "  </thead>\n",
       "  <tbody>\n",
       "    <tr>\n",
       "      <th>0</th>\n",
       "      <td>4812</td>\n",
       "      <td>133322396</td>\n",
       "      <td>X111000X0101100001000000100011X0000X</td>\n",
       "      <td>000000000111111100100101011010011100</td>\n",
       "    </tr>\n",
       "    <tr>\n",
       "      <th>1</th>\n",
       "      <td>39136</td>\n",
       "      <td>1924962</td>\n",
       "      <td>X111000X0101100001000000100011X0000X</td>\n",
       "      <td>000000000000000111010101111101100010</td>\n",
       "    </tr>\n",
       "    <tr>\n",
       "      <th>2</th>\n",
       "      <td>35697</td>\n",
       "      <td>29912136</td>\n",
       "      <td>X111000X0101100001000000100011X0000X</td>\n",
       "      <td>000000000001110010000110110001001000</td>\n",
       "    </tr>\n",
       "    <tr>\n",
       "      <th>3</th>\n",
       "      <td>41065</td>\n",
       "      <td>2558851</td>\n",
       "      <td>X111000X0101100001000000100011X0000X</td>\n",
       "      <td>000000000000001001110000101110000011</td>\n",
       "    </tr>\n",
       "    <tr>\n",
       "      <th>4</th>\n",
       "      <td>38134</td>\n",
       "      <td>481</td>\n",
       "      <td>11001101X110000X010X01101100X1X0X001</td>\n",
       "      <td>000000000000000000000000000111100001</td>\n",
       "    </tr>\n",
       "    <tr>\n",
       "      <th>5</th>\n",
       "      <td>53084</td>\n",
       "      <td>5470</td>\n",
       "      <td>11001101X110000X010X01101100X1X0X001</td>\n",
       "      <td>000000000000000000000001010101011110</td>\n",
       "    </tr>\n",
       "    <tr>\n",
       "      <th>6</th>\n",
       "      <td>37619</td>\n",
       "      <td>2696</td>\n",
       "      <td>11001101X110000X010X01101100X1X0X001</td>\n",
       "      <td>000000000000000000000000101010001000</td>\n",
       "    </tr>\n",
       "  </tbody>\n",
       "</table>\n",
       "</div>"
      ],
      "text/plain": [
       "  address      value                              bit_mask  \\\n",
       "0    4812  133322396  X111000X0101100001000000100011X0000X   \n",
       "1   39136    1924962  X111000X0101100001000000100011X0000X   \n",
       "2   35697   29912136  X111000X0101100001000000100011X0000X   \n",
       "3   41065    2558851  X111000X0101100001000000100011X0000X   \n",
       "4   38134        481  11001101X110000X010X01101100X1X0X001   \n",
       "5   53084       5470  11001101X110000X010X01101100X1X0X001   \n",
       "6   37619       2696  11001101X110000X010X01101100X1X0X001   \n",
       "\n",
       "                              value_bin  \n",
       "0  000000000111111100100101011010011100  \n",
       "1  000000000000000111010101111101100010  \n",
       "2  000000000001110010000110110001001000  \n",
       "3  000000000000001001110000101110000011  \n",
       "4  000000000000000000000000000111100001  \n",
       "5  000000000000000000000001010101011110  \n",
       "6  000000000000000000000000101010001000  "
      ]
     },
     "execution_count": 6,
     "metadata": {},
     "output_type": "execute_result"
    }
   ],
   "source": [
    "def to_bin(x):\n",
    "    x = int(x)\n",
    "    output = ''\n",
    "    for i in range(36):\n",
    "        if x >= 2**(35-i):\n",
    "            output += '1'\n",
    "            x -= 2**(35-i)\n",
    "        else:\n",
    "            output += '0'\n",
    "    return output\n",
    "\n",
    "instr_df['value_bin'] = instr_df['value'].copy().map(to_bin)\n",
    "instr_df.head(7)"
   ]
  },
  {
   "cell_type": "markdown",
   "metadata": {},
   "source": [
    "Next step will be to set up a dictionary for the addresses. We initialize it with zeroes I believe."
   ]
  },
  {
   "cell_type": "code",
   "execution_count": 7,
   "metadata": {},
   "outputs": [],
   "source": [
    "addresses_u = instr_df.address.unique().tolist()\n",
    "zero_bin = to_bin('0')\n",
    "addresses_i = [zero_bin for i in range(len(addresses_u))]\n",
    "addresses_dict = dict(zip(addresses_u, addresses_i))\n",
    "#addresses_dict['4812']"
   ]
  },
  {
   "cell_type": "markdown",
   "metadata": {},
   "source": [
    "Alright, last setup is to make a function that takes in the binary value and the bit mask and then smooshes them."
   ]
  },
  {
   "cell_type": "code",
   "execution_count": 8,
   "metadata": {},
   "outputs": [
    {
     "data": {
      "text/plain": [
       "'011100000101100001000000100011000001'"
      ]
     },
     "execution_count": 8,
     "metadata": {},
     "output_type": "execute_result"
    }
   ],
   "source": [
    "def apply_mask(val, mask):\n",
    "    # forgot that you cannot do positional assignment with\n",
    "    # strings so we have to go to a list:\n",
    "    val = [char for char in val]\n",
    "    for i in range(len(mask)):\n",
    "        if mask[i] != 'X':\n",
    "            val[i] = mask[i]\n",
    "    return ''.join(val)\n",
    "apply_mask(to_bin('1'), instr_df.bit_mask.iloc[0])"
   ]
  },
  {
   "cell_type": "markdown",
   "metadata": {},
   "source": [
    "Next we iterate"
   ]
  },
  {
   "cell_type": "code",
   "execution_count": 9,
   "metadata": {},
   "outputs": [
    {
     "data": {
      "text/plain": [
       "13"
      ]
     },
     "execution_count": 9,
     "metadata": {},
     "output_type": "execute_result"
    }
   ],
   "source": [
    "# Note that index and row are given by position, not name here\n",
    "for index, row in instr_df.iterrows():\n",
    "    addresses_dict[row['address']] = apply_mask(row['value_bin'], row['bit_mask'])\n",
    "\n",
    "# Then the solution comes from summing over the dictionary values in base 10\n",
    "def to_10(x):\n",
    "    tot = 0\n",
    "    for i in range(len(x)):\n",
    "        n = int(x[i])\n",
    "        tot += n*2**(len(x)-i-1)\n",
    "    return(tot)\n",
    "to_10('1101')    "
   ]
  },
  {
   "cell_type": "code",
   "execution_count": 10,
   "metadata": {},
   "outputs": [
    {
     "data": {
      "text/plain": [
       "8570568288597"
      ]
     },
     "execution_count": 10,
     "metadata": {},
     "output_type": "execute_result"
    }
   ],
   "source": [
    "solution = 0\n",
    "for val in addresses_dict.values():\n",
    "    solution += to_10(val)\n",
    "solution"
   ]
  },
  {
   "cell_type": "markdown",
   "metadata": {},
   "source": [
    "Okay so that was somewhat laboreous but not that conceptually hard.... let's see what part 2 has in store"
   ]
  },
  {
   "cell_type": "markdown",
   "metadata": {},
   "source": [
    "### Part 2\n",
    "\n",
    "Ok this is more difficult. The twist on this is that instead of having the masks change the values, they modify the addresses which now should be see in binary.\n",
    "In the mask, the symbols are seen as:  \n",
    "* 1: forces that bit to a 1\n",
    "* 0: leaves the bit alone\n",
    "* X: makes the bit a wildcard meaning it can be either a zero or one\n",
    "As a result of the wildcards, we will assign the new value to (frequently) more than one memory address.\n",
    "\n",
    "So as I'm thinking about this, as a not trained CS person, I'm thinking there should be some way of grouping the addresses or forming some kinda network where we can remove addresses from consideration as we look through.\n"
   ]
  },
  {
   "cell_type": "code",
   "execution_count": 11,
   "metadata": {},
   "outputs": [
    {
     "data": {
      "text/html": [
       "<div>\n",
       "<style scoped>\n",
       "    .dataframe tbody tr th:only-of-type {\n",
       "        vertical-align: middle;\n",
       "    }\n",
       "\n",
       "    .dataframe tbody tr th {\n",
       "        vertical-align: top;\n",
       "    }\n",
       "\n",
       "    .dataframe thead th {\n",
       "        text-align: right;\n",
       "    }\n",
       "</style>\n",
       "<table border=\"1\" class=\"dataframe\">\n",
       "  <thead>\n",
       "    <tr style=\"text-align: right;\">\n",
       "      <th></th>\n",
       "      <th>address</th>\n",
       "      <th>value</th>\n",
       "      <th>bit_mask</th>\n",
       "      <th>value_bin</th>\n",
       "      <th>address_bin</th>\n",
       "    </tr>\n",
       "  </thead>\n",
       "  <tbody>\n",
       "    <tr>\n",
       "      <th>0</th>\n",
       "      <td>4812</td>\n",
       "      <td>133322396</td>\n",
       "      <td>X111000X0101100001000000100011X0000X</td>\n",
       "      <td>000000000111111100100101011010011100</td>\n",
       "      <td>000000000000000000000001001011001100</td>\n",
       "    </tr>\n",
       "    <tr>\n",
       "      <th>1</th>\n",
       "      <td>39136</td>\n",
       "      <td>1924962</td>\n",
       "      <td>X111000X0101100001000000100011X0000X</td>\n",
       "      <td>000000000000000111010101111101100010</td>\n",
       "      <td>000000000000000000001001100011100000</td>\n",
       "    </tr>\n",
       "    <tr>\n",
       "      <th>2</th>\n",
       "      <td>35697</td>\n",
       "      <td>29912136</td>\n",
       "      <td>X111000X0101100001000000100011X0000X</td>\n",
       "      <td>000000000001110010000110110001001000</td>\n",
       "      <td>000000000000000000001000101101110001</td>\n",
       "    </tr>\n",
       "    <tr>\n",
       "      <th>3</th>\n",
       "      <td>41065</td>\n",
       "      <td>2558851</td>\n",
       "      <td>X111000X0101100001000000100011X0000X</td>\n",
       "      <td>000000000000001001110000101110000011</td>\n",
       "      <td>000000000000000000001010000001101001</td>\n",
       "    </tr>\n",
       "    <tr>\n",
       "      <th>4</th>\n",
       "      <td>38134</td>\n",
       "      <td>481</td>\n",
       "      <td>11001101X110000X010X01101100X1X0X001</td>\n",
       "      <td>000000000000000000000000000111100001</td>\n",
       "      <td>000000000000000000001001010011110110</td>\n",
       "    </tr>\n",
       "  </tbody>\n",
       "</table>\n",
       "</div>"
      ],
      "text/plain": [
       "  address      value                              bit_mask  \\\n",
       "0    4812  133322396  X111000X0101100001000000100011X0000X   \n",
       "1   39136    1924962  X111000X0101100001000000100011X0000X   \n",
       "2   35697   29912136  X111000X0101100001000000100011X0000X   \n",
       "3   41065    2558851  X111000X0101100001000000100011X0000X   \n",
       "4   38134        481  11001101X110000X010X01101100X1X0X001   \n",
       "\n",
       "                              value_bin                           address_bin  \n",
       "0  000000000111111100100101011010011100  000000000000000000000001001011001100  \n",
       "1  000000000000000111010101111101100010  000000000000000000001001100011100000  \n",
       "2  000000000001110010000110110001001000  000000000000000000001000101101110001  \n",
       "3  000000000000001001110000101110000011  000000000000000000001010000001101001  \n",
       "4  000000000000000000000000000111100001  000000000000000000001001010011110110  "
      ]
     },
     "execution_count": 11,
     "metadata": {},
     "output_type": "execute_result"
    }
   ],
   "source": [
    "# first thing is I want a binary version of the addresses. and I want to reform the\n",
    "# dictionary of stored values\n",
    "addresses_dict_bin = {}\n",
    "\n",
    "instr_df['address_bin'] = instr_df['address'].map(to_bin)\n",
    "instr_df.head()"
   ]
  },
  {
   "cell_type": "markdown",
   "metadata": {},
   "source": [
    "Also make the new version of the mask application:"
   ]
  },
  {
   "cell_type": "code",
   "execution_count": 12,
   "metadata": {},
   "outputs": [
    {
     "data": {
      "text/plain": [
       "'X111000X0101100001000001101011X0110X'"
      ]
     },
     "execution_count": 12,
     "metadata": {},
     "output_type": "execute_result"
    }
   ],
   "source": [
    "def apply_mask2(val, mask):\n",
    "    val = [char for char in val]\n",
    "    for i in range(len(mask)):\n",
    "        if mask[i] in ['X', '1']:\n",
    "            val[i] = mask[i]\n",
    "    return ''.join(val)\n",
    "apply_mask2(instr_df.address_bin.iloc[0], instr_df.bit_mask.iloc[0])"
   ]
  },
  {
   "cell_type": "markdown",
   "metadata": {},
   "source": [
    "My initial assumption from this problem was that the only plausible addresses were those in the list but after failing to produce a reasonable answer with that assumption, I'm ditching it. As a result, we're going to form the combinations that fit the masked address and return them with this function:"
   ]
  },
  {
   "cell_type": "code",
   "execution_count": 13,
   "metadata": {},
   "outputs": [
    {
     "data": {
      "text/plain": [
       "['10000', '10001', '11000', '11001']"
      ]
     },
     "execution_count": 13,
     "metadata": {},
     "output_type": "execute_result"
    }
   ],
   "source": [
    "def get_combos(x):\n",
    "    # Store the resultant strings in this:\n",
    "    if x.find('X') > -1:\n",
    "        combos = [x.replace('X', '0', 1), x.replace('X', '1', 1)]\n",
    "        return get_combos(combos[0]) + get_combos(combos[1])\n",
    "    else:\n",
    "        return [x]\n",
    "        \n",
    "get_combos('1X00X')"
   ]
  },
  {
   "cell_type": "code",
   "execution_count": null,
   "metadata": {},
   "outputs": [],
   "source": []
  },
  {
   "cell_type": "markdown",
   "metadata": {},
   "source": [
    "So now we gotta run through each row of the datafram and update the dictionary"
   ]
  },
  {
   "cell_type": "code",
   "execution_count": 14,
   "metadata": {},
   "outputs": [],
   "source": [
    "for index, row in instr_df.iterrows():\n",
    "    # apply the mask, make a list of addresses to assign to:\n",
    "    fuzzy_address = apply_mask2(row['address_bin'], row['bit_mask'])    \n",
    "    all_addresses = get_combos(fuzzy_address)\n",
    "        \n",
    "    # finally update those addresses values:\n",
    "    for address in all_addresses:\n",
    "        addresses_dict_bin.update({address : row['value_bin']})"
   ]
  },
  {
   "cell_type": "code",
   "execution_count": 15,
   "metadata": {},
   "outputs": [
    {
     "data": {
      "text/plain": [
       "3289441921203"
      ]
     },
     "execution_count": 15,
     "metadata": {},
     "output_type": "execute_result"
    }
   ],
   "source": [
    "solution2 = 0\n",
    "for val in addresses_dict_bin.values():\n",
    "    solution2 += to_10(val)\n",
    "solution2"
   ]
  },
  {
   "cell_type": "markdown",
   "metadata": {},
   "source": [
    "### EXPERIMENTS"
   ]
  },
  {
   "cell_type": "code",
   "execution_count": 16,
   "metadata": {},
   "outputs": [],
   "source": [
    "# 2383538661343 too low"
   ]
  },
  {
   "cell_type": "code",
   "execution_count": 17,
   "metadata": {},
   "outputs": [],
   "source": [
    "?enumerate"
   ]
  },
  {
   "cell_type": "code",
   "execution_count": 18,
   "metadata": {},
   "outputs": [
    {
     "name": "stdout",
     "output_type": "stream",
     "text": [
      "0\n",
      "1\n",
      "2\n"
     ]
    }
   ],
   "source": [
    "x = [4, 5, 6]\n",
    "for i, j in enumerate(x):\n",
    "    print(i)"
   ]
  },
  {
   "cell_type": "code",
   "execution_count": null,
   "metadata": {},
   "outputs": [],
   "source": []
  }
 ],
 "metadata": {
  "kernelspec": {
   "display_name": "Python 3",
   "language": "python",
   "name": "python3"
  },
  "language_info": {
   "codemirror_mode": {
    "name": "ipython",
    "version": 3
   },
   "file_extension": ".py",
   "mimetype": "text/x-python",
   "name": "python",
   "nbconvert_exporter": "python",
   "pygments_lexer": "ipython3",
   "version": "3.8.5"
  }
 },
 "nbformat": 4,
 "nbformat_minor": 4
}
