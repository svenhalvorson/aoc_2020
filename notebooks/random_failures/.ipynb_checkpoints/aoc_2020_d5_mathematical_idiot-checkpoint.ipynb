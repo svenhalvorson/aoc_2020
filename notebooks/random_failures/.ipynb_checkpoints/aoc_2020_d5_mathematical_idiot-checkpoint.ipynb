{
 "cells": [
  {
   "cell_type": "markdown",
   "metadata": {},
   "source": [
    "## [Day 5](https://adventofcode.com/2020/day/5)\n",
    "\n",
    "So here we have some problem about finding a location on a $2^n$x$2^m$ grid. We have codes that are basically binary and they describe it as something like 101 corresponds to the top half, then the bottom half of the remaining, and then the top half of the last partition. We have some codes and basically have to find the largest value of some kind of check sum.\n",
    "\n",
    "I hate to say it but this looks like it might be the easiest one so far. That will probably come back to byte me though."
   ]
  },
  {
   "cell_type": "code",
   "execution_count": 95,
   "metadata": {},
   "outputs": [],
   "source": [
    "import pandas as pd\n",
    "import numpy as np\n",
    "tickets = open('c:/Users/Sven/Documents/py_files/aoc_2020/inputs/d5.txt').read().splitlines()\n",
    "tickets[:5]\n",
    "tickets.append('BFFFBBFRRR')"
   ]
  },
  {
   "cell_type": "code",
   "execution_count": 96,
   "metadata": {},
   "outputs": [
    {
     "data": {
      "text/plain": [
       "['FFBFFBF', 'BFBFBFB', 'FBFFBFB', 'BBFFFBF', 'BFFFFFB']"
      ]
     },
     "execution_count": 96,
     "metadata": {},
     "output_type": "execute_result"
    }
   ],
   "source": [
    "# First portion is the rows, then are the columns\n",
    "rows = [x[:7] for x in tickets]\n",
    "cols = [x[-3:] for x in tickets]\n",
    "rows[:5]\n"
   ]
  },
  {
   "cell_type": "code",
   "execution_count": 97,
   "metadata": {},
   "outputs": [],
   "source": [
    "# Maybe we'll make the look like binary so we can use the same function on both versions:\n",
    "def to_bin(x):\n",
    "    return x.replace('B', '1').replace('R', '1').replace('F', '0').replace('L', '0')\n",
    "\n",
    "rows = [to_bin(x) for x in rows]\n",
    "cols = [to_bin(x) for x in cols]\n",
    "\n",
    "# then conver to base 10:\n",
    "def to_base10(x):\n",
    "    # this will be slightly easier since we left on the leading zeroes:\n",
    "    len_x = len(x)\n",
    "    bases = [2**i for i in list(range(len_x))]\n",
    "    bases.reverse()\n",
    "    return_val = 0\n",
    "    for i in range(len_x):\n",
    "        return_val += bases[i]*int(x[i])\n",
    "    return return_val\n",
    "\n",
    "rows_10 = [to_base10(x) for x in rows]\n",
    "cols_10 = [to_base10(x) for x in cols]"
   ]
  },
  {
   "cell_type": "code",
   "execution_count": 98,
   "metadata": {},
   "outputs": [
    {
     "data": {
      "text/plain": [
       "816"
      ]
     },
     "execution_count": 98,
     "metadata": {},
     "output_type": "execute_result"
    }
   ],
   "source": [
    "sums = [8*rows_10[i]+cols_10[i] for i in range(len(rows))]\n",
    "max(sums)\n",
    "# I guess I could have just tacked these together and treated them as one big binary since 8 = 2^3 which just moves\n",
    "# those 'decimal' places up 3 spots"
   ]
  },
  {
   "cell_type": "markdown",
   "metadata": {},
   "source": [
    "### Part 2\n",
    "\n",
    "Alright so we're now told that these tickets represent every seat on the plane except the one that is for me. There is a catch though, that some of the seats in the very front and back of the do not exist. We're tasked with finding out which seat is ours by deduction.\n",
    "\n",
    "So my immediate thought is that we should do something using the sum of all the possible seats and then subtract the sum of the tickets accounted for to figure out which one is left... I bet there is a way we could do this *very* simply but this idea seems decent.\n",
    "\n",
    "I think what I'll do is:\n",
    "1. Figure out what the sum should be if those are removed.\n",
    "2. Cut out the front row and back row from the data set.\n",
    "3. Find the sum left in the data set and take a difference.\n",
    "\n",
    "So if they're in the last row have binary representations like $1111111XXX_2$ and if they're in the first row its like $0000000XXX_2$.\n",
    "So in base 10, math should be kinda like this:\n",
    "  \n",
    "$$\\text{Largest num}=A=2^{10}-1$$\n",
    "  \n",
    "$$\\text{Largest num in first row}=B=2^{3}-1$$\n",
    "\n",
    "Sum of last row:\n",
    "$$\\frac{(A)(A+1)}{2}-\\frac{(A-B-1)(A-B)}{2}$$\n",
    "  \n",
    "And then the first row sums to:\n",
    "\n",
    "$$\\frac{A(A+1)}{2}$$"
   ]
  },
  {
   "cell_type": "code",
   "execution_count": 63,
   "metadata": {},
   "outputs": [
    {
     "data": {
      "text/plain": [
       "515592.0"
      ]
     },
     "execution_count": 63,
     "metadata": {},
     "output_type": "execute_result"
    }
   ],
   "source": [
    "A = 2**10-1\n",
    "B = 2**3-1\n",
    "\n",
    "last_row = A*(A+1)/2-(A-B-1)*(A-B)/2\n",
    "first_row = B*(B+1)/2\n",
    "non_front_or_back = (A)*(A+1)/2-last_row-first_row\n",
    "non_front_or_back"
   ]
  },
  {
   "cell_type": "markdown",
   "metadata": {},
   "source": [
    "So now we cut out all these from the data set:"
   ]
  },
  {
   "cell_type": "code",
   "execution_count": 92,
   "metadata": {},
   "outputs": [],
   "source": [
    "rowcols = [rows[i]+cols[i] for i in range(len(rows))]\n",
    "#rowcols = [to_base10(x) for x in rowcols]\n",
    "# for i in range(len(rowcols)):\n",
    "#     if rowcols[i] <= B or rowcols[i] >= (A-B):\n",
    "#         rowcols[i] = 0"
   ]
  },
  {
   "cell_type": "markdown",
   "metadata": {},
   "source": [
    "Now our seat should be this one:"
   ]
  },
  {
   "cell_type": "code",
   "execution_count": 75,
   "metadata": {},
   "outputs": [
    {
     "data": {
      "text/plain": [
       "183218.0"
      ]
     },
     "execution_count": 75,
     "metadata": {},
     "output_type": "execute_result"
    }
   ],
   "source": [
    "our_seat = non_front_or_back - sum(rowcols)\n",
    "our_seat"
   ]
  },
  {
   "cell_type": "code",
   "execution_count": 76,
   "metadata": {},
   "outputs": [
    {
     "data": {
      "text/plain": [
       "515592.0"
      ]
     },
     "execution_count": 76,
     "metadata": {},
     "output_type": "execute_result"
    }
   ],
   "source": [
    "non_front_or_back"
   ]
  },
  {
   "cell_type": "code",
   "execution_count": 77,
   "metadata": {},
   "outputs": [
    {
     "data": {
      "text/plain": [
       "1023"
      ]
     },
     "execution_count": 77,
     "metadata": {},
     "output_type": "execute_result"
    }
   ],
   "source": [
    "A"
   ]
  },
  {
   "cell_type": "code",
   "execution_count": 79,
   "metadata": {},
   "outputs": [
    {
     "data": {
      "text/plain": [
       "7"
      ]
     },
     "execution_count": 79,
     "metadata": {},
     "output_type": "execute_result"
    }
   ],
   "source": [
    "B"
   ]
  },
  {
   "cell_type": "code",
   "execution_count": 82,
   "metadata": {},
   "outputs": [
    {
     "data": {
      "text/plain": [
       "8156.0"
      ]
     },
     "execution_count": 82,
     "metadata": {},
     "output_type": "execute_result"
    }
   ],
   "source": [
    "last_row"
   ]
  },
  {
   "cell_type": "code",
   "execution_count": 84,
   "metadata": {},
   "outputs": [
    {
     "data": {
      "text/plain": [
       "28.0"
      ]
     },
     "execution_count": 84,
     "metadata": {},
     "output_type": "execute_result"
    }
   ],
   "source": [
    "first_row"
   ]
  },
  {
   "cell_type": "code",
   "execution_count": 100,
   "metadata": {},
   "outputs": [
    {
     "data": {
      "text/plain": [
       "599    0000101\n",
       "260    0000101\n",
       "299    0000101\n",
       "461    0000110\n",
       "720    0000110\n",
       "        ...   \n",
       "293    1100101\n",
       "708    1100101\n",
       "401    1100101\n",
       "126    1100101\n",
       "383    1100110\n",
       "Length: 772, dtype: object"
      ]
     },
     "execution_count": 100,
     "metadata": {},
     "output_type": "execute_result"
    }
   ],
   "source": [
    "pd.Series(rows).sort_values()"
   ]
  },
  {
   "cell_type": "code",
   "execution_count": 101,
   "metadata": {},
   "outputs": [
    {
     "data": {
      "text/plain": [
       "772"
      ]
     },
     "execution_count": 101,
     "metadata": {},
     "output_type": "execute_result"
    }
   ],
   "source": [
    "len(rows)"
   ]
  }
 ],
 "metadata": {
  "kernelspec": {
   "display_name": "Python 3",
   "language": "python",
   "name": "python3"
  },
  "language_info": {
   "codemirror_mode": {
    "name": "ipython",
    "version": 3
   },
   "file_extension": ".py",
   "mimetype": "text/x-python",
   "name": "python",
   "nbconvert_exporter": "python",
   "pygments_lexer": "ipython3",
   "version": "3.8.5"
  }
 },
 "nbformat": 4,
 "nbformat_minor": 4
}
