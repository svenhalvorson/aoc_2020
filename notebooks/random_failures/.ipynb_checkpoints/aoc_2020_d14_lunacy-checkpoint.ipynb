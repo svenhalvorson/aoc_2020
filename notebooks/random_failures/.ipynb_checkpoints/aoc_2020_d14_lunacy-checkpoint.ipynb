{
 "cells": [
  {
   "cell_type": "markdown",
   "metadata": {},
   "source": [
    "## [Day 14](https://adventofcode.com/2020/day/14)\n",
    "\n",
    "This problem has some method of storing binary numbers in which we force particular digits to remain as certain values. My understanding is that the mask. We also have different addresses for which the the data is supposed to be stored."
   ]
  },
  {
   "cell_type": "code",
   "execution_count": 63,
   "metadata": {},
   "outputs": [
    {
     "ename": "ModuleNotFoundError",
     "evalue": "No module named 'janitor'",
     "output_type": "error",
     "traceback": [
      "\u001b[1;31m---------------------------------------------------------------------------\u001b[0m",
      "\u001b[1;31mModuleNotFoundError\u001b[0m                       Traceback (most recent call last)",
      "\u001b[1;32m<ipython-input-63-f7b68b4f3b79>\u001b[0m in \u001b[0;36m<module>\u001b[1;34m\u001b[0m\n\u001b[0;32m      2\u001b[0m \u001b[1;32mimport\u001b[0m \u001b[0mnumpy\u001b[0m \u001b[1;32mas\u001b[0m \u001b[0mnp\u001b[0m\u001b[1;33m\u001b[0m\u001b[1;33m\u001b[0m\u001b[0m\n\u001b[0;32m      3\u001b[0m \u001b[1;32mimport\u001b[0m \u001b[0mre\u001b[0m\u001b[1;33m\u001b[0m\u001b[1;33m\u001b[0m\u001b[0m\n\u001b[1;32m----> 4\u001b[1;33m \u001b[1;32mimport\u001b[0m \u001b[0mjanitor\u001b[0m \u001b[1;32mas\u001b[0m \u001b[0mjn\u001b[0m\u001b[1;33m\u001b[0m\u001b[1;33m\u001b[0m\u001b[0m\n\u001b[0m\u001b[0;32m      5\u001b[0m \u001b[0minstr\u001b[0m \u001b[1;33m=\u001b[0m \u001b[0mopen\u001b[0m\u001b[1;33m(\u001b[0m\u001b[1;34m'../inputs/d14.txt'\u001b[0m\u001b[1;33m)\u001b[0m\u001b[1;33m.\u001b[0m\u001b[0mread\u001b[0m\u001b[1;33m(\u001b[0m\u001b[1;33m)\u001b[0m\u001b[1;33m.\u001b[0m\u001b[0msplitlines\u001b[0m\u001b[1;33m(\u001b[0m\u001b[1;33m)\u001b[0m\u001b[1;33m\u001b[0m\u001b[1;33m\u001b[0m\u001b[0m\n\u001b[0;32m      6\u001b[0m \u001b[0minstr\u001b[0m\u001b[1;33m[\u001b[0m\u001b[1;33m:\u001b[0m\u001b[1;36m5\u001b[0m\u001b[1;33m]\u001b[0m\u001b[1;33m\u001b[0m\u001b[1;33m\u001b[0m\u001b[0m\n",
      "\u001b[1;31mModuleNotFoundError\u001b[0m: No module named 'janitor'"
     ]
    }
   ],
   "source": [
    "import pandas as pd\n",
    "import numpy as np\n",
    "import re\n",
    "instr = open('../inputs/d14.txt').read().splitlines()\n",
    "instr[:5]"
   ]
  },
  {
   "cell_type": "markdown",
   "metadata": {},
   "source": [
    "So maybe I'll try to get back to using pandas to get this done although it seems more complicated (as usual)"
   ]
  },
  {
   "cell_type": "code",
   "execution_count": 54,
   "metadata": {},
   "outputs": [
    {
     "data": {
      "text/plain": [
       "[' X111000X0101100001000000100011X0000X', '', '', '', '']"
      ]
     },
     "execution_count": 54,
     "metadata": {},
     "output_type": "execute_result"
    }
   ],
   "source": [
    "masks = ['' if x.find('mask') == -1 else x[6:] for x in instr]\n",
    "\n",
    "masks[:5]"
   ]
  },
  {
   "cell_type": "code",
   "execution_count": 59,
   "metadata": {},
   "outputs": [
    {
     "data": {
      "text/plain": [
       "['', '4812', '39136', '35697', '41065']"
      ]
     },
     "execution_count": 59,
     "metadata": {},
     "output_type": "execute_result"
    }
   ],
   "source": [
    "addresses, values = [], []\n",
    "\n",
    "def process_instr(x):\n",
    "    m = re.match(r\"mem\\[(?P<address>\\d+)\\] = (?P<value>\\d+)\", x)\n",
    "    if m:\n",
    "        addresses.append(m.group('address'))\n",
    "        values.append(m.group('value'))\n",
    "    else:\n",
    "        addresses.append('')\n",
    "        values.append('')\n",
    "\n",
    "for i in range(len(instr)):\n",
    "    process_instr(instr[i])\n",
    "addresses[:5]"
   ]
  },
  {
   "cell_type": "code",
   "execution_count": 60,
   "metadata": {},
   "outputs": [
    {
     "data": {
      "text/plain": [
       "['', '133322396', '1924962', '29912136', '2558851']"
      ]
     },
     "execution_count": 60,
     "metadata": {},
     "output_type": "execute_result"
    }
   ],
   "source": [
    "values[:5]"
   ]
  },
  {
   "cell_type": "code",
   "execution_count": 75,
   "metadata": {},
   "outputs": [
    {
     "data": {
      "text/html": [
       "<div>\n",
       "<style scoped>\n",
       "    .dataframe tbody tr th:only-of-type {\n",
       "        vertical-align: middle;\n",
       "    }\n",
       "\n",
       "    .dataframe tbody tr th {\n",
       "        vertical-align: top;\n",
       "    }\n",
       "\n",
       "    .dataframe thead th {\n",
       "        text-align: right;\n",
       "    }\n",
       "</style>\n",
       "<table border=\"1\" class=\"dataframe\">\n",
       "  <thead>\n",
       "    <tr style=\"text-align: right;\">\n",
       "      <th></th>\n",
       "      <th>address</th>\n",
       "      <th>value</th>\n",
       "      <th>bit_mask</th>\n",
       "    </tr>\n",
       "  </thead>\n",
       "  <tbody>\n",
       "    <tr>\n",
       "      <th>1</th>\n",
       "      <td>4812</td>\n",
       "      <td>133322396</td>\n",
       "      <td>X111000X0101100001000000100011X0000X</td>\n",
       "    </tr>\n",
       "    <tr>\n",
       "      <th>2</th>\n",
       "      <td>39136</td>\n",
       "      <td>1924962</td>\n",
       "      <td>X111000X0101100001000000100011X0000X</td>\n",
       "    </tr>\n",
       "    <tr>\n",
       "      <th>3</th>\n",
       "      <td>35697</td>\n",
       "      <td>29912136</td>\n",
       "      <td>X111000X0101100001000000100011X0000X</td>\n",
       "    </tr>\n",
       "    <tr>\n",
       "      <th>4</th>\n",
       "      <td>41065</td>\n",
       "      <td>2558851</td>\n",
       "      <td>X111000X0101100001000000100011X0000X</td>\n",
       "    </tr>\n",
       "    <tr>\n",
       "      <th>6</th>\n",
       "      <td>38134</td>\n",
       "      <td>481</td>\n",
       "      <td>11001101X110000X010X01101100X1X0X001</td>\n",
       "    </tr>\n",
       "    <tr>\n",
       "      <th>7</th>\n",
       "      <td>53084</td>\n",
       "      <td>5470</td>\n",
       "      <td>11001101X110000X010X01101100X1X0X001</td>\n",
       "    </tr>\n",
       "    <tr>\n",
       "      <th>8</th>\n",
       "      <td>37619</td>\n",
       "      <td>2696</td>\n",
       "      <td>11001101X110000X010X01101100X1X0X001</td>\n",
       "    </tr>\n",
       "  </tbody>\n",
       "</table>\n",
       "</div>"
      ],
      "text/plain": [
       "  address      value                               bit_mask\n",
       "1    4812  133322396   X111000X0101100001000000100011X0000X\n",
       "2   39136    1924962   X111000X0101100001000000100011X0000X\n",
       "3   35697   29912136   X111000X0101100001000000100011X0000X\n",
       "4   41065    2558851   X111000X0101100001000000100011X0000X\n",
       "6   38134        481   11001101X110000X010X01101100X1X0X001\n",
       "7   53084       5470   11001101X110000X010X01101100X1X0X001\n",
       "8   37619       2696   11001101X110000X010X01101100X1X0X001"
      ]
     },
     "execution_count": 75,
     "metadata": {},
     "output_type": "execute_result"
    }
   ],
   "source": [
    "# Now we can make a data frame out of this:\n",
    "instr_df = pd.DataFrame({'address' : addresses, 'value' : values, 'bit_mask' : masks})\n",
    "instr_df.bit_mask = instr_df.bit_mask.replace(to_replace = '', value = None).ffill()\n",
    "instr_df = instr_df.query(\"address != ''\")\n",
    "instr_df.head(7)"
   ]
  },
  {
   "cell_type": "markdown",
   "metadata": {},
   "source": [
    "Alright so that took quite some time but learned a few things."
   ]
  },
  {
   "cell_type": "code",
   "execution_count": null,
   "metadata": {},
   "outputs": [],
   "source": []
  },
  {
   "cell_type": "markdown",
   "metadata": {},
   "source": [
    "### Part 2\n",
    "\n"
   ]
  }
 ],
 "metadata": {
  "kernelspec": {
   "display_name": "Python 3",
   "language": "python",
   "name": "python3"
  },
  "language_info": {
   "codemirror_mode": {
    "name": "ipython",
    "version": 3
   },
   "file_extension": ".py",
   "mimetype": "text/x-python",
   "name": "python",
   "nbconvert_exporter": "python",
   "pygments_lexer": "ipython3",
   "version": "3.8.5"
  }
 },
 "nbformat": 4,
 "nbformat_minor": 4
}
