{
 "cells": [
  {
   "cell_type": "markdown",
   "metadata": {},
   "source": [
    "## [Day 15](https://adventofcode.com/2020/day/15)\n",
    "\n",
    "Here we have some sort of game that involves adding numbers to a sequence. Our goal is to figure out what the 2020th number in the sequence is. The rules of which are:\n",
    "1. We begin with a string of starting numbers\n",
    "2. If the previous number has never ocurred before (the previous position)\n",
    "3. If the previous number has ocurred before, we list the distance to the last ocurrance"
   ]
  },
  {
   "cell_type": "code",
   "execution_count": 20,
   "metadata": {},
   "outputs": [],
   "source": [
    "import pandas as pd\n",
    "import numpy as np\n",
    "\n",
    "data = [0,3,6]\n"
   ]
  },
  {
   "cell_type": "code",
   "execution_count": 21,
   "metadata": {},
   "outputs": [
    {
     "data": {
      "text/plain": [
       "{0: [1], 3: [2], 6: [3]}"
      ]
     },
     "execution_count": 21,
     "metadata": {},
     "output_type": "execute_result"
    }
   ],
   "source": [
    "pdict = {}\n",
    "for i, p in enumerate(data):\n",
    "    pdict[int(p)] = [i + 1]\n",
    "pdict"
   ]
  },
  {
   "cell_type": "code",
   "execution_count": 22,
   "metadata": {},
   "outputs": [
    {
     "data": {
      "text/plain": [
       "6"
      ]
     },
     "execution_count": 22,
     "metadata": {},
     "output_type": "execute_result"
    }
   ],
   "source": [
    "# setup tracking variables\n",
    "last = int(data[-1])\n",
    "turn = len(data)\n",
    "match = 2020\n",
    "last"
   ]
  },
  {
   "cell_type": "code",
   "execution_count": 23,
   "metadata": {},
   "outputs": [
    {
     "name": "stdout",
     "output_type": "stream",
     "text": [
      "{0: [1, 4], 3: [2], 6: [3]}\n"
     ]
    }
   ],
   "source": [
    "# increase the turn each iteration\n",
    "turn += 1\n",
    "\n",
    "# if num was only just spoken\n",
    "if len(pdict[last]) == 1:\n",
    "    pdict[0] = [pdict[0][-1], turn]\n",
    "    last = 0\n",
    "# if num has been spoken before\n",
    "else:\n",
    "    # calculate difference between last spoken turn and current turn\n",
    "    diff = pdict[last][-1] - pdict[last][0]\n",
    "    # if diff value not in dict add it\n",
    "    if diff not in pdict:\n",
    "        pdict[diff] = [turn]\n",
    "    # else update list for spoken num\n",
    "    else:\n",
    "        pdict[diff] = [pdict[diff][-1], turn]\n",
    "    last = diff\n",
    "print(pdict)"
   ]
  },
  {
   "cell_type": "code",
   "execution_count": 19,
   "metadata": {},
   "outputs": [
    {
     "name": "stdout",
     "output_type": "stream",
     "text": [
      "{1: [1], 20: [2], 8: [3], 12: [4], 0: [5, 7], 14: [6], 2: [8]}\n"
     ]
    }
   ],
   "source": [
    "# increase the turn each iteration\n",
    "turn += 1\n",
    "\n",
    "# if num was only just spoken\n",
    "if len(pdict[last]) == 1:\n",
    "    pdict[0] = [pdict[0][-1], turn]\n",
    "    last = 0\n",
    "# if num has been spoken before\n",
    "else:\n",
    "    # calculate difference between last spoken turn and current turn\n",
    "    diff = pdict[last][-1] - pdict[last][0]\n",
    "    # if diff value not in dict add it\n",
    "    if diff not in pdict:\n",
    "        pdict[diff] = [turn]\n",
    "    # else update list for spoken num\n",
    "    else:\n",
    "        pdict[diff] = [pdict[diff][-1], turn]\n",
    "    last = diff\n",
    "print(pdict)"
   ]
  },
  {
   "cell_type": "code",
   "execution_count": 24,
   "metadata": {},
   "outputs": [
    {
     "ename": "NameError",
     "evalue": "name 'solve' is not defined",
     "output_type": "error",
     "traceback": [
      "\u001b[1;31m---------------------------------------------------------------------------\u001b[0m",
      "\u001b[1;31mNameError\u001b[0m                                 Traceback (most recent call last)",
      "\u001b[1;32m<ipython-input-24-a6a3837795d5>\u001b[0m in \u001b[0;36m<module>\u001b[1;34m\u001b[0m\n\u001b[1;32m----> 1\u001b[1;33m \u001b[0mprint\u001b[0m\u001b[1;33m(\u001b[0m\u001b[1;34mf'Part 1: {solve(2020)}'\u001b[0m\u001b[1;33m)\u001b[0m\u001b[1;33m\u001b[0m\u001b[1;33m\u001b[0m\u001b[0m\n\u001b[0m\u001b[0;32m      2\u001b[0m \u001b[0mprint\u001b[0m\u001b[1;33m(\u001b[0m\u001b[1;34mf'Part 2: {solve(30000000)}'\u001b[0m\u001b[1;33m)\u001b[0m\u001b[1;33m\u001b[0m\u001b[1;33m\u001b[0m\u001b[0m\n",
      "\u001b[1;31mNameError\u001b[0m: name 'solve' is not defined"
     ]
    }
   ],
   "source": [
    "print(f'Part 1: {solve(2020)}')\n",
    "print(f'Part 2: {solve(30000000)}')"
   ]
  },
  {
   "cell_type": "code",
   "execution_count": 25,
   "metadata": {},
   "outputs": [
    {
     "name": "stdout",
     "output_type": "stream",
     "text": [
      "Part 1: 492\n",
      "Part 2: 63644\n"
     ]
    }
   ],
   "source": [
    "data = [1,20,8,12,0,14]\n",
    "def solve(match):\n",
    "    # add starting numbers to dict for tracking\n",
    "    pdict = {}\n",
    "    for i, p in enumerate(data):\n",
    "        pdict[int(p)] = [i + 1]\n",
    "\n",
    "    # setup tracking variables\n",
    "    last = int(data[-1])\n",
    "    turn = len(data)\n",
    "\n",
    "    while True:\n",
    "        # increase the turn each iteration\n",
    "        turn += 1\n",
    "\n",
    "        # exit if turn matches requested aoc number\n",
    "        if turn == match + 1:\n",
    "            break\n",
    "\n",
    "        # if num was only just spoken\n",
    "        if len(pdict[last]) == 1:\n",
    "            pdict[0] = [pdict[0][-1], turn]\n",
    "            last = 0\n",
    "        # if num has been spoken before\n",
    "        else:\n",
    "            # calculate difference between last spoken turn and current turn\n",
    "            diff = pdict[last][-1] - pdict[last][0]\n",
    "            # if diff value not in dict add it\n",
    "            if diff not in pdict:\n",
    "                pdict[diff] = [turn]\n",
    "            # else update list for spoken num\n",
    "            else:\n",
    "                pdict[diff] = [pdict[diff][-1], turn]\n",
    "            last = diff\n",
    "\n",
    "    return last\n",
    "\n",
    "\n",
    "print(f'Part 1: {solve(2020)}')\n",
    "print(f'Part 2: {solve(30000000)}')"
   ]
  },
  {
   "cell_type": "code",
   "execution_count": null,
   "metadata": {},
   "outputs": [],
   "source": []
  }
 ],
 "metadata": {
  "kernelspec": {
   "display_name": "Python 3",
   "language": "python",
   "name": "python3"
  },
  "language_info": {
   "codemirror_mode": {
    "name": "ipython",
    "version": 3
   },
   "file_extension": ".py",
   "mimetype": "text/x-python",
   "name": "python",
   "nbconvert_exporter": "python",
   "pygments_lexer": "ipython3",
   "version": "3.8.5"
  }
 },
 "nbformat": 4,
 "nbformat_minor": 4
}
