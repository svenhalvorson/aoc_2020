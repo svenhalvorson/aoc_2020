{
 "cells": [
  {
   "cell_type": "markdown",
   "metadata": {},
   "source": [
    "## [Day 8](https://adventofcode.com/2020/day/8)\n",
    "\n",
    "Here we have a bunch of instructions for a computer where they take three different values:\n",
    "1. An `acc` which adds the argument to another variable called the accumulator\n",
    "2. A `jmp` which jumps the instructions that many lines\n",
    "2. A `nop` which does nothing\n",
    "\n",
    "We're asked to find an infinite loop and what the value of the accelerator is right before that loop restarts."
   ]
  },
  {
   "cell_type": "code",
   "execution_count": 54,
   "metadata": {},
   "outputs": [
    {
     "data": {
      "text/html": [
       "<div>\n",
       "<style scoped>\n",
       "    .dataframe tbody tr th:only-of-type {\n",
       "        vertical-align: middle;\n",
       "    }\n",
       "\n",
       "    .dataframe tbody tr th {\n",
       "        vertical-align: top;\n",
       "    }\n",
       "\n",
       "    .dataframe thead th {\n",
       "        text-align: right;\n",
       "    }\n",
       "</style>\n",
       "<table border=\"1\" class=\"dataframe\">\n",
       "  <thead>\n",
       "    <tr style=\"text-align: right;\">\n",
       "      <th></th>\n",
       "      <th>opp</th>\n",
       "      <th>arg</th>\n",
       "      <th>reached</th>\n",
       "    </tr>\n",
       "  </thead>\n",
       "  <tbody>\n",
       "    <tr>\n",
       "      <th>0</th>\n",
       "      <td>acc</td>\n",
       "      <td>42</td>\n",
       "      <td>NaN</td>\n",
       "    </tr>\n",
       "    <tr>\n",
       "      <th>1</th>\n",
       "      <td>acc</td>\n",
       "      <td>-12</td>\n",
       "      <td>NaN</td>\n",
       "    </tr>\n",
       "    <tr>\n",
       "      <th>2</th>\n",
       "      <td>nop</td>\n",
       "      <td>112</td>\n",
       "      <td>NaN</td>\n",
       "    </tr>\n",
       "    <tr>\n",
       "      <th>3</th>\n",
       "      <td>acc</td>\n",
       "      <td>47</td>\n",
       "      <td>NaN</td>\n",
       "    </tr>\n",
       "    <tr>\n",
       "      <th>4</th>\n",
       "      <td>jmp</td>\n",
       "      <td>600</td>\n",
       "      <td>NaN</td>\n",
       "    </tr>\n",
       "  </tbody>\n",
       "</table>\n",
       "</div>"
      ],
      "text/plain": [
       "   opp  arg  reached\n",
       "0  acc   42      NaN\n",
       "1  acc  -12      NaN\n",
       "2  nop  112      NaN\n",
       "3  acc   47      NaN\n",
       "4  jmp  600      NaN"
      ]
     },
     "execution_count": 54,
     "metadata": {},
     "output_type": "execute_result"
    }
   ],
   "source": [
    "import pandas as pd\n",
    "import numpy as np\n",
    "\n",
    "inst = open('../inputs/d8.txt').read().splitlines()\n",
    "\n",
    "inst = [x.replace('+', '').split(' ', maxsplit = 2) for x in inst]\n",
    "inst = pd.DataFrame(inst)\n",
    "inst.columns = ['opp', 'arg']\n",
    "inst['arg'] = inst['arg'].astype('int64')\n",
    "inst['reached'] = np.nan\n",
    "inst.head()"
   ]
  },
  {
   "cell_type": "markdown",
   "metadata": {},
   "source": [
    "So I feel like we can just run a while loop and mark the ones that have been executed?"
   ]
  },
  {
   "cell_type": "code",
   "execution_count": 55,
   "metadata": {
    "scrolled": true
   },
   "outputs": [
    {
     "name": "stdout",
     "output_type": "stream",
     "text": [
      "1859\n"
     ]
    }
   ],
   "source": [
    "accu = 0\n",
    "i = 0\n",
    "while True:\n",
    "    if inst.reached[[i]].isna()[i]:\n",
    "        inst.loc[i,'reached'] = 1\n",
    "        opp = inst.opp[i]\n",
    "\n",
    "        if opp == 'nop':\n",
    "            i += 1\n",
    "        elif opp == 'jmp':\n",
    "            i += inst.arg[i]\n",
    "        else:\n",
    "            accu += inst.arg[i]\n",
    "            i += 1\n",
    "    else:\n",
    "        print(accu)\n",
    "        break"
   ]
  },
  {
   "cell_type": "markdown",
   "metadata": {},
   "source": [
    "K  that was easy..."
   ]
  },
  {
   "cell_type": "markdown",
   "metadata": {},
   "source": [
    "### Part 2\n",
    "\n",
    "Ok so we're told now that there is one `jmp` or `nop` that is supposed to be flipped to the other in order for this to work. I think that there is probably some super smart way to figure it out but I don't see it in the few moments I've been thinking about this. I think we could make a list of candidates to shorten the search and then perform the same kinda process."
   ]
  },
  {
   "cell_type": "code",
   "execution_count": 56,
   "metadata": {},
   "outputs": [
    {
     "data": {
      "text/plain": [
       "1.0    213\n",
       "Name: reached, dtype: int64"
      ]
     },
     "execution_count": 56,
     "metadata": {},
     "output_type": "execute_result"
    }
   ],
   "source": [
    "inst.reached.value_counts()"
   ]
  },
  {
   "cell_type": "code",
   "execution_count": 58,
   "metadata": {},
   "outputs": [
    {
     "data": {
      "text/plain": [
       "(683, 3)"
      ]
     },
     "execution_count": 58,
     "metadata": {},
     "output_type": "execute_result"
    }
   ],
   "source": [
    "inst.shape"
   ]
  },
  {
   "cell_type": "code",
   "execution_count": 60,
   "metadata": {},
   "outputs": [
    {
     "data": {
      "text/html": [
       "<div>\n",
       "<style scoped>\n",
       "    .dataframe tbody tr th:only-of-type {\n",
       "        vertical-align: middle;\n",
       "    }\n",
       "\n",
       "    .dataframe tbody tr th {\n",
       "        vertical-align: top;\n",
       "    }\n",
       "\n",
       "    .dataframe thead th {\n",
       "        text-align: right;\n",
       "    }\n",
       "</style>\n",
       "<table border=\"1\" class=\"dataframe\">\n",
       "  <thead>\n",
       "    <tr style=\"text-align: right;\">\n",
       "      <th></th>\n",
       "      <th>opp</th>\n",
       "      <th>arg</th>\n",
       "      <th>reached</th>\n",
       "    </tr>\n",
       "  </thead>\n",
       "  <tbody>\n",
       "    <tr>\n",
       "      <th>2</th>\n",
       "      <td>nop</td>\n",
       "      <td>112</td>\n",
       "      <td>1.0</td>\n",
       "    </tr>\n",
       "    <tr>\n",
       "      <th>4</th>\n",
       "      <td>jmp</td>\n",
       "      <td>600</td>\n",
       "      <td>1.0</td>\n",
       "    </tr>\n",
       "    <tr>\n",
       "      <th>11</th>\n",
       "      <td>jmp</td>\n",
       "      <td>56</td>\n",
       "      <td>1.0</td>\n",
       "    </tr>\n",
       "    <tr>\n",
       "      <th>17</th>\n",
       "      <td>nop</td>\n",
       "      <td>580</td>\n",
       "      <td>1.0</td>\n",
       "    </tr>\n",
       "    <tr>\n",
       "      <th>19</th>\n",
       "      <td>jmp</td>\n",
       "      <td>112</td>\n",
       "      <td>1.0</td>\n",
       "    </tr>\n",
       "  </tbody>\n",
       "</table>\n",
       "</div>"
      ],
      "text/plain": [
       "    opp  arg  reached\n",
       "2   nop  112      1.0\n",
       "4   jmp  600      1.0\n",
       "11  jmp   56      1.0\n",
       "17  nop  580      1.0\n",
       "19  jmp  112      1.0"
      ]
     },
     "execution_count": 60,
     "metadata": {},
     "output_type": "execute_result"
    }
   ],
   "source": [
    "candidates = inst.query('reached == 1 and opp in (\"nop\", \"jmp\")')\n",
    "candidates = candidates.query('arg != 1 or opp == \"nop\"')\n",
    "candidates.head()"
   ]
  },
  {
   "cell_type": "code",
   "execution_count": 62,
   "metadata": {},
   "outputs": [
    {
     "data": {
      "text/plain": [
       "(91, 3)"
      ]
     },
     "execution_count": 62,
     "metadata": {},
     "output_type": "execute_result"
    }
   ],
   "source": [
    "candidates.shape"
   ]
  },
  {
   "cell_type": "markdown",
   "metadata": {},
   "source": [
    "Okay so that is a smaller set of values to try and change"
   ]
  },
  {
   "cell_type": "code",
   "execution_count": 66,
   "metadata": {},
   "outputs": [
    {
     "name": "stdout",
     "output_type": "stream",
     "text": [
      "1235\n"
     ]
    }
   ],
   "source": [
    "def test_index(ind):\n",
    "    \n",
    "    # Make a copy and change the one value\n",
    "    test_frame = inst.copy()\n",
    "    test_frame['reached'] = np.nan\n",
    "    if test_frame.loc[ind,'opp'] == 'jmp':\n",
    "        test_frame.loc[ind,'opp'] = 'nop'\n",
    "    else:\n",
    "        test_frame.loc[ind,'opp'] = 'jmp'\n",
    "    \n",
    "    # Now run the loop:\n",
    "    accu = 0\n",
    "    i = 0\n",
    "    while True:\n",
    "        # Add this piece where\n",
    "        if i == test_frame.shape[0]:\n",
    "            print(accu)\n",
    "            return(1)\n",
    "        if test_frame.reached[[i]].isna()[i]:\n",
    "            test_frame.loc[i,'reached'] = 1\n",
    "            opp = test_frame.opp[i]\n",
    "\n",
    "            if opp == 'nop':\n",
    "                i += 1\n",
    "            elif opp == 'jmp':\n",
    "                i += test_frame.arg[i]\n",
    "            else:\n",
    "                accu += test_frame.arg[i]\n",
    "                i += 1\n",
    "        else:\n",
    "            return(0)\n",
    "            \n",
    "for ind in candidates.index:\n",
    "    if test_index(ind) == 1:\n",
    "        break"
   ]
  },
  {
   "cell_type": "markdown",
   "metadata": {},
   "source": [
    "Welllllll that took about 15 minutes total... and the previous day took me like 4 hours lol..."
   ]
  }
 ],
 "metadata": {
  "kernelspec": {
   "display_name": "Python 3",
   "language": "python",
   "name": "python3"
  },
  "language_info": {
   "codemirror_mode": {
    "name": "ipython",
    "version": 3
   },
   "file_extension": ".py",
   "mimetype": "text/x-python",
   "name": "python",
   "nbconvert_exporter": "python",
   "pygments_lexer": "ipython3",
   "version": "3.8.5"
  }
 },
 "nbformat": 4,
 "nbformat_minor": 4
}
