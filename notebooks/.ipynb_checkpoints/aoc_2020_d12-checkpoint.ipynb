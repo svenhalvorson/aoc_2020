{
 "cells": [
  {
   "cell_type": "markdown",
   "metadata": {},
   "source": [
    "## [Day 12](https://adventofcode.com/2020/day/12)\n",
    "\n",
    "This seems like a similar problem to some in the past years where we have instructions for a moving object. This one includes both cardinal directions as well as those relative to where the boat is facing. We're asked to process all the instructions and then report the manhattan distance from the origin."
   ]
  },
  {
   "cell_type": "code",
   "execution_count": 1,
   "metadata": {},
   "outputs": [
    {
     "data": {
      "text/html": [
       "<div>\n",
       "<style scoped>\n",
       "    .dataframe tbody tr th:only-of-type {\n",
       "        vertical-align: middle;\n",
       "    }\n",
       "\n",
       "    .dataframe tbody tr th {\n",
       "        vertical-align: top;\n",
       "    }\n",
       "\n",
       "    .dataframe thead th {\n",
       "        text-align: right;\n",
       "    }\n",
       "</style>\n",
       "<table border=\"1\" class=\"dataframe\">\n",
       "  <thead>\n",
       "    <tr style=\"text-align: right;\">\n",
       "      <th></th>\n",
       "      <th>dir</th>\n",
       "      <th>val</th>\n",
       "    </tr>\n",
       "  </thead>\n",
       "  <tbody>\n",
       "    <tr>\n",
       "      <th>0</th>\n",
       "      <td>F</td>\n",
       "      <td>40</td>\n",
       "    </tr>\n",
       "    <tr>\n",
       "      <th>1</th>\n",
       "      <td>N</td>\n",
       "      <td>1</td>\n",
       "    </tr>\n",
       "    <tr>\n",
       "      <th>2</th>\n",
       "      <td>W</td>\n",
       "      <td>1</td>\n",
       "    </tr>\n",
       "    <tr>\n",
       "      <th>3</th>\n",
       "      <td>F</td>\n",
       "      <td>95</td>\n",
       "    </tr>\n",
       "    <tr>\n",
       "      <th>4</th>\n",
       "      <td>W</td>\n",
       "      <td>2</td>\n",
       "    </tr>\n",
       "  </tbody>\n",
       "</table>\n",
       "</div>"
      ],
      "text/plain": [
       "  dir  val\n",
       "0   F   40\n",
       "1   N    1\n",
       "2   W    1\n",
       "3   F   95\n",
       "4   W    2"
      ]
     },
     "execution_count": 1,
     "metadata": {},
     "output_type": "execute_result"
    }
   ],
   "source": [
    "import pandas as pd\n",
    "import numpy as np\n",
    "from math import cos, sin, pi\n",
    "\n",
    "directions = open('c:/Users/Sven/Documents/py_files/aoc_2020/inputs/d12.txt').read().splitlines()\n",
    "values = [x[1:] for x in directions]\n",
    "directions = [x[0] for x in directions]\n",
    "directions = pd.DataFrame({'dir':directions, 'val':values})\n",
    "directions.val = directions.val.astype('int32')\n",
    "directions.head()"
   ]
  },
  {
   "cell_type": "code",
   "execution_count": 2,
   "metadata": {},
   "outputs": [],
   "source": [
    "# So I gotta change those degrees to numbers of 90 turns:\n",
    "directions.loc[directions.dir.isin(['L', 'R']), 'val'] = directions.loc[directions.dir.isin(['L', 'R']), 'val']/90\n",
    "directions.loc[directions.dir.isin(['L']), 'val'] = -1*directions.loc[directions.dir.isin(['L']), 'val']\n"
   ]
  },
  {
   "cell_type": "code",
   "execution_count": 3,
   "metadata": {},
   "outputs": [],
   "source": [
    "# We know it starts facing east so let's represent that like this:\n",
    "position = np.array([0,0])\n",
    "facing = np.array([0, 1])\n",
    "turns = 0\n",
    "# Here we'll have +1 in positions be a right turn and -1 be a left\n",
    "cardinals_d = {'N':np.array([-1,0]), 'S':np.array([1,0]), 'E':np.array([0, 1]), 'W':np.array([0, -1])}\n",
    "cardinals_l = [cardinals_d['E'], cardinals_d['S'], cardinals_d['W'], cardinals_d['N']]"
   ]
  },
  {
   "cell_type": "code",
   "execution_count": 4,
   "metadata": {},
   "outputs": [
    {
     "data": {
      "text/plain": [
       "757.0"
      ]
     },
     "execution_count": 4,
     "metadata": {},
     "output_type": "execute_result"
    }
   ],
   "source": [
    "# I always do unnecessary functions:\n",
    "def get_move(d, v):\n",
    "    if d in ['N', 'S', 'E', 'W']:\n",
    "        return position + v*cardinals_d[d]\n",
    "    elif d == 'F':\n",
    "        return position + v*facing\n",
    "    else:\n",
    "        raise NameError('ya done goofed')\n",
    "        \n",
    "\n",
    "# now loop through and apply a bunch of conditional logic:\n",
    "for index, row in directions.iterrows():\n",
    "    d = row['dir']\n",
    "    v = row['val']\n",
    "    if d in ['L', 'R']:\n",
    "        turns = (turns + int(v)) % 4\n",
    "        facing = cardinals_l[turns]\n",
    "    else:\n",
    "        position = get_move(d,v)\n",
    "abs(position[0]) + abs(position[1])"
   ]
  },
  {
   "cell_type": "markdown",
   "metadata": {},
   "source": [
    "### Part 2\n",
    "\n",
    "Part 2 complicates this quite a bit. We're not just moving an object through space, we have two items: the boat and a beacon. The cardinal directions move the beacon's position *relative* to the boat and only the forward directions move the boat. The most complicated part about this is that the rotations are now rotations *about* the boat instead of turns in which direction the boat is facing."
   ]
  },
  {
   "cell_type": "code",
   "execution_count": 5,
   "metadata": {},
   "outputs": [
    {
     "data": {
      "text/plain": [
       "array([10.,  1.])"
      ]
     },
     "execution_count": 5,
     "metadata": {},
     "output_type": "execute_result"
    }
   ],
   "source": [
    "# Seems like the first thing I should do is conver the turns all into clockwise turns\n",
    "# instead of caring about left and right:\n",
    "directions.loc[directions.dir.isin(['L']), 'val'] = directions.loc[directions.dir.isin(['L']), 'val'] % 4\n",
    "\n",
    "# Change our setup a bit:\n",
    "position = np.array([0,0])\n",
    "beacon = np.array([-1, 10])\n",
    "\n",
    "def turn_beacon(b, v):\n",
    "    # funny that I'm going back to angles\n",
    "    ang = pi/2*v\n",
    "    turn_x = np.array([cos(ang), sin(ang)])\n",
    "    turn_y = np.array([-1*sin(ang), cos(ang)])\n",
    "    return np.round(np.array([(beacon*turn_x).sum(), (beacon*turn_y).sum()]))\n",
    "turn_beacon(beacon, 1)\n",
    "# I'm slightly concerned that the floating points are gonna get messed up after repeatedly doing this but let's see.\n",
    "# If we need to round it we can do that."
   ]
  },
  {
   "cell_type": "code",
   "execution_count": 6,
   "metadata": {},
   "outputs": [
    {
     "data": {
      "text/plain": [
       "51249.0"
      ]
     },
     "execution_count": 6,
     "metadata": {},
     "output_type": "execute_result"
    }
   ],
   "source": [
    "# now loop through and apply a bunch of conditional logic:\n",
    "for index, row in directions.iterrows():\n",
    "    d = row['dir']\n",
    "    v = row['val']\n",
    "    if d in ['L', 'R']:\n",
    "        beacon = turn_beacon(beacon, v)\n",
    "    elif d == 'F':\n",
    "        position = position + v*beacon\n",
    "    elif d in ['N', 'S', 'E', 'W']:\n",
    "        beacon = beacon + v*cardinals_d[d]\n",
    "    else:\n",
    "        raise NameError('ya done goofed')\n",
    "abs(position[0]) + abs(position[1])"
   ]
  }
 ],
 "metadata": {
  "kernelspec": {
   "display_name": "Python 3",
   "language": "python",
   "name": "python3"
  },
  "language_info": {
   "codemirror_mode": {
    "name": "ipython",
    "version": 3
   },
   "file_extension": ".py",
   "mimetype": "text/x-python",
   "name": "python",
   "nbconvert_exporter": "python",
   "pygments_lexer": "ipython3",
   "version": "3.8.5"
  }
 },
 "nbformat": 4,
 "nbformat_minor": 4
}
