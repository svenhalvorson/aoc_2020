{
 "cells": [
  {
   "cell_type": "markdown",
   "metadata": {},
   "source": [
    "## [Day 19](https://adventofcode.com/2020/day19)\n",
    "\n",
    "So this one has a series of instructions which we're to check if match strings in the 'messages' given. They look an awful lot like regular expressions where a pipe means 'or'. It also seems to have a tree like structure in that there are various nodes with possible branches from it.\n",
    "\n",
    "Our ultimate goal is to check each message against rule zero"
   ]
  },
  {
   "cell_type": "code",
   "execution_count": 10,
   "metadata": {},
   "outputs": [
    {
     "data": {
      "text/plain": [
       "['50: 5 18 | 61 39',\n",
       " '79: 118 18 | 125 39',\n",
       " '102: 38 39 | 19 18',\n",
       " '114: 39 38 | 18 100',\n",
       " '119: 39 103']"
      ]
     },
     "execution_count": 10,
     "metadata": {},
     "output_type": "execute_result"
    }
   ],
   "source": [
    "import pandas as pd\n",
    "import numpy as np\n",
    "import itertools, re, copy\n",
    "imp = open('../inputs/d19.txt').read().splitlines()\n",
    "instructions = imp[:imp.index('')]\n",
    "messages = imp[imp.index('')+1:]\n",
    "instructions[:5]"
   ]
  },
  {
   "cell_type": "code",
   "execution_count": 11,
   "metadata": {},
   "outputs": [
    {
     "data": {
      "text/plain": [
       "['abbbbabbbaabababaaabbaabbbbbbbba',\n",
       " 'bbbabbbbabbabbbbabbbabab',\n",
       " 'aabbababbbbababbaaabbabb',\n",
       " 'aababbaaaabbbaaaaabaabbb',\n",
       " 'aaaabaaababbbbbbbbbbabaa']"
      ]
     },
     "execution_count": 11,
     "metadata": {},
     "output_type": "execute_result"
    }
   ],
   "source": [
    "messages[:5]"
   ]
  },
  {
   "cell_type": "code",
   "execution_count": 12,
   "metadata": {
    "scrolled": true
   },
   "outputs": [
    {
     "data": {
      "text/plain": [
       "[['5', '18'], ['61', '39']]"
      ]
     },
     "execution_count": 12,
     "metadata": {},
     "output_type": "execute_result"
    }
   ],
   "source": [
    "# Okay so I think I want to turn all these instructions into lists of tuples separated by the pipes if they exist\n",
    "\n",
    "keys = [x.split(':')[0] for x in instructions]\n",
    "values = [x.split(':')[1][1:] for x in instructions]\n",
    "\n",
    "def split_to_tuple(x):\n",
    "    ret = []\n",
    "    pieces = x.split('|')\n",
    "    for piece in pieces:\n",
    "        piece = piece.strip().split(' ')\n",
    "        piece = [x.replace('\"', '') for x in piece]\n",
    "        ret.append(piece)\n",
    "    return ret\n",
    "values = [split_to_tuple(x) for x in values]\n",
    "instructions = dict(zip(keys, values))\n",
    "# save a copy\n",
    "instructions_old = copy.deepcopy(instructions)\n",
    "instructions['50']"
   ]
  },
  {
   "cell_type": "code",
   "execution_count": 13,
   "metadata": {},
   "outputs": [
    {
     "data": {
      "text/plain": [
       "{'18': 'a', '39': 'b'}"
      ]
     },
     "execution_count": 13,
     "metadata": {},
     "output_type": "execute_result"
    }
   ],
   "source": [
    "# Really struggling with whether this will be easier to start with the zero-th instruction\n",
    "# and go downwards or start with the ones that have and then move upwards....\n",
    "# I think i'll try the latter even though I'm having some doubts about whether there \n",
    "# are some situations where I'll end up with multiple 'unresolved' instructins.\n",
    "\n",
    "def flatten_list(l):\n",
    "    return [x for sublist in l for x in sublist]\n",
    "\n",
    "completed = {}\n",
    "for key in instructions.keys():\n",
    "    flat_list = flatten_list(instructions[key])\n",
    "    if flat_list in [['a'], ['b']]:\n",
    "        completed.update({key:flat_list[0]})\n",
    "completed"
   ]
  },
  {
   "cell_type": "code",
   "execution_count": 14,
   "metadata": {},
   "outputs": [
    {
     "data": {
      "text/plain": [
       "[['5', 'a'], ['61', '39']]"
      ]
     },
     "execution_count": 14,
     "metadata": {},
     "output_type": "execute_result"
    }
   ],
   "source": [
    "# This just to swap in the values of things we have done\n",
    "def replace_value(l, val):\n",
    "    l = copy.deepcopy(l)\n",
    "    for i, sublist in enumerate(l):\n",
    "        for j, x in enumerate(sublist):\n",
    "            if l[i][j] == val:\n",
    "                l[i][j] = completed[val]\n",
    "    return l\n",
    "\n",
    "replace_value(instructions['50'], '18')"
   ]
  },
  {
   "cell_type": "code",
   "execution_count": 15,
   "metadata": {},
   "outputs": [
    {
     "data": {
      "text/plain": [
       "False"
      ]
     },
     "execution_count": 15,
     "metadata": {},
     "output_type": "execute_result"
    }
   ],
   "source": [
    "# Are we done looking at this one:\n",
    "def check_done(l):\n",
    "    for x in flatten_list(l):\n",
    "        if re.match(r\"[0-9]\", x):\n",
    "            return False\n",
    "    return True\n",
    "check_done(instructions['50'])"
   ]
  },
  {
   "cell_type": "code",
   "execution_count": 16,
   "metadata": {},
   "outputs": [
    {
     "data": {
      "text/plain": [
       "True"
      ]
     },
     "execution_count": 16,
     "metadata": {},
     "output_type": "execute_result"
    }
   ],
   "source": [
    "check_done(instructions['18'])"
   ]
  },
  {
   "cell_type": "code",
   "execution_count": 17,
   "metadata": {},
   "outputs": [
    {
     "data": {
      "text/plain": [
       "'(518|6139)'"
      ]
     },
     "execution_count": 17,
     "metadata": {},
     "output_type": "execute_result"
    }
   ],
   "source": [
    "# Smoosh down the contents in to a regex:\n",
    "def regex_or(l):\n",
    "    l = [''.join(sublist) for sublist in l]\n",
    "    if len(l) > 1:\n",
    "        return '(' + '|'.join(l) + ')'\n",
    "    else:\n",
    "        return l[0]\n",
    "regex_or(instructions['50'])    "
   ]
  },
  {
   "cell_type": "code",
   "execution_count": 18,
   "metadata": {},
   "outputs": [],
   "source": [
    "# FINAL VERSION OF LOOP HERE:\n",
    "checked = []\n",
    "# And now we loop till she done:\n",
    "while not check_done(instructions['0']):\n",
    "    \n",
    "    # pick an element from the completed dict that we haven't checked yet:\n",
    "    next_key = ''\n",
    "    i = 0\n",
    "    while next_key == '':\n",
    "        if list(completed.keys())[i] in checked:\n",
    "            i += 1\n",
    "        else:\n",
    "            next_key = list(completed.keys())[i]\n",
    "    \n",
    "    # loop through the incomplete keys\n",
    "    for key in instructions.keys():\n",
    "        if key in completed.keys():\n",
    "            next\n",
    "        # If we find a match:\n",
    "        if next_key in flatten_list(instructions[key]):\n",
    "            # Replace and update\n",
    "            new_val = replace_value(instructions[key], next_key)\n",
    "            # If it's done, add it to the list\n",
    "            if check_done(new_val):\n",
    "                new_val = regex_or(new_val)\n",
    "                completed.update({key:new_val})\n",
    "            # In any case update the instructions list\n",
    "            instructions.update({key:new_val})\n",
    "    # mark this off as having been done\n",
    "    checked += [next_key]"
   ]
  },
  {
   "cell_type": "code",
   "execution_count": 19,
   "metadata": {},
   "outputs": [
    {
     "data": {
      "text/plain": [
       "233"
      ]
     },
     "execution_count": 19,
     "metadata": {},
     "output_type": "execute_result"
    }
   ],
   "source": [
    "pattern = re.compile('^' + instructions['0'] + '$')\n",
    "sol1 = 0\n",
    "for message in messages:\n",
    "    if pattern.match(message):\n",
    "        sol1 +=1\n",
    "sol1"
   ]
  },
  {
   "cell_type": "markdown",
   "metadata": {},
   "source": [
    "### Part 2\n",
    "For the second part of this question"
   ]
  },
  {
   "cell_type": "code",
   "execution_count": null,
   "metadata": {},
   "outputs": [],
   "source": [
    "messages"
   ]
  },
  {
   "cell_type": "code",
   "execution_count": null,
   "metadata": {},
   "outputs": [],
   "source": [
    "'hi'.replace('l', '')"
   ]
  },
  {
   "cell_type": "code",
   "execution_count": null,
   "metadata": {},
   "outputs": [],
   "source": [
    "?str.replace"
   ]
  },
  {
   "cell_type": "code",
   "execution_count": null,
   "metadata": {},
   "outputs": [],
   "source": [
    "?re.match"
   ]
  },
  {
   "cell_type": "code",
   "execution_count": null,
   "metadata": {},
   "outputs": [],
   "source": [
    "for i, message in enumerate(messages):\n",
    "    print(i, message, bool(re.compile('^a((aa|bb)(ab|ba)|(ab|ba)(aa|bb))b$').match(messages[i])))\n",
    "    "
   ]
  },
  {
   "cell_type": "code",
   "execution_count": null,
   "metadata": {},
   "outputs": [],
   "source": [
    "for i, message in enumerate(messages):\n",
    "    print(i, message, bool(re.compile('^' + instructions['0'] + '$').match(messages[i])))\n",
    "    "
   ]
  },
  {
   "cell_type": "code",
   "execution_count": null,
   "metadata": {},
   "outputs": [],
   "source": [
    "instructions['0']"
   ]
  },
  {
   "cell_type": "code",
   "execution_count": null,
   "metadata": {},
   "outputs": [],
   "source": [
    "?re.compile"
   ]
  },
  {
   "cell_type": "code",
   "execution_count": null,
   "metadata": {},
   "outputs": [],
   "source": []
  }
 ],
 "metadata": {
  "kernelspec": {
   "display_name": "Python 3",
   "language": "python",
   "name": "python3"
  },
  "language_info": {
   "codemirror_mode": {
    "name": "ipython",
    "version": 3
   },
   "file_extension": ".py",
   "mimetype": "text/x-python",
   "name": "python",
   "nbconvert_exporter": "python",
   "pygments_lexer": "ipython3",
   "version": "3.8.5"
  }
 },
 "nbformat": 4,
 "nbformat_minor": 4
}
