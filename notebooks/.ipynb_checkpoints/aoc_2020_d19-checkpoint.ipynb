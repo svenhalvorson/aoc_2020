{
 "cells": [
  {
   "cell_type": "markdown",
   "metadata": {},
   "source": [
    "## [Day 19](https://adventofcode.com/2020/day19)\n",
    "\n",
    "So this one has a series of instructions which we're to check if match strings in the 'messages' given. They look an awful lot like regular expressions where a pipe means 'or'. It also seems to have a tree like structure in that there are various nodes with possible branches from it.\n",
    "\n",
    "Our ultimate goal is to check each message against rule zero"
   ]
  },
  {
   "cell_type": "code",
   "execution_count": 120,
   "metadata": {},
   "outputs": [
    {
     "data": {
      "text/plain": [
       "['50: 5 18 | 61 39',\n",
       " '79: 118 18 | 125 39',\n",
       " '102: 38 39 | 19 18',\n",
       " '114: 39 38 | 18 100',\n",
       " '119: 39 103']"
      ]
     },
     "execution_count": 120,
     "metadata": {},
     "output_type": "execute_result"
    }
   ],
   "source": [
    "import pandas as pd\n",
    "import numpy as np\n",
    "import itertools, re, copy\n",
    "imp = open('../inputs/d19.txt').read().splitlines()\n",
    "instructions = imp[:imp.index('')]\n",
    "messages = imp[imp.index('')+1:]\n",
    "instructions[:5]"
   ]
  },
  {
   "cell_type": "code",
   "execution_count": 121,
   "metadata": {},
   "outputs": [
    {
     "data": {
      "text/plain": [
       "['abbbbabbbaabababaaabbaabbbbbbbba',\n",
       " 'bbbabbbbabbabbbbabbbabab',\n",
       " 'aabbababbbbababbaaabbabb',\n",
       " 'aababbaaaabbbaaaaabaabbb',\n",
       " 'aaaabaaababbbbbbbbbbabaa']"
      ]
     },
     "execution_count": 121,
     "metadata": {},
     "output_type": "execute_result"
    }
   ],
   "source": [
    "messages[:5]"
   ]
  },
  {
   "cell_type": "code",
   "execution_count": 122,
   "metadata": {
    "scrolled": true
   },
   "outputs": [
    {
     "data": {
      "text/plain": [
       "[['5', '18'], ['61', '39']]"
      ]
     },
     "execution_count": 122,
     "metadata": {},
     "output_type": "execute_result"
    }
   ],
   "source": [
    "# Okay so I think I want to turn all these instructions into lists of tuples separated by the pipes if they exist\n",
    "\n",
    "keys = [x.split(':')[0] for x in instructions]\n",
    "values = [x.split(':')[1][1:] for x in instructions]\n",
    "\n",
    "def split_to_tuple(x):\n",
    "    ret = []\n",
    "    pieces = x.split('|')\n",
    "    for piece in pieces:\n",
    "        piece = piece.strip().split(' ')\n",
    "        piece = [x.replace('\"', '') for x in piece]\n",
    "        ret.append(piece)\n",
    "    return ret\n",
    "values = [split_to_tuple(x) for x in values]\n",
    "instructions = dict(zip(keys, values))\n",
    "# save a copy\n",
    "instructions_old = copy.deepcopy(instructions)\n",
    "instructions['50']"
   ]
  },
  {
   "cell_type": "code",
   "execution_count": 123,
   "metadata": {},
   "outputs": [
    {
     "data": {
      "text/plain": [
       "{'18': 'a', '39': 'b'}"
      ]
     },
     "execution_count": 123,
     "metadata": {},
     "output_type": "execute_result"
    }
   ],
   "source": [
    "# Really struggling with whether this will be easier to start with the zero-th instruction\n",
    "# and go downwards or start with the ones that have and then move upwards....\n",
    "# I think i'll try the latter even though I'm having some doubts about whether there \n",
    "# are some situations where I'll end up with multiple 'unresolved' instructins.\n",
    "\n",
    "def flatten_list(l):\n",
    "    return [x for sublist in l for x in sublist]\n",
    "\n",
    "completed = {}\n",
    "for key in instructions.keys():\n",
    "    flat_list = flatten_list(instructions[key])\n",
    "    if flat_list in [['a'], ['b']]:\n",
    "        completed.update({key:flat_list[0]})\n",
    "completed"
   ]
  },
  {
   "cell_type": "code",
   "execution_count": 124,
   "metadata": {},
   "outputs": [
    {
     "data": {
      "text/plain": [
       "[['5', 'a'], ['61', '39']]"
      ]
     },
     "execution_count": 124,
     "metadata": {},
     "output_type": "execute_result"
    }
   ],
   "source": [
    "# This just to swap in the values of things we have done\n",
    "def replace_value(l, val):\n",
    "    l = copy.deepcopy(l)\n",
    "    for i, sublist in enumerate(l):\n",
    "        for j, x in enumerate(sublist):\n",
    "            if l[i][j] == val:\n",
    "                l[i][j] = completed[val]\n",
    "    return l\n",
    "\n",
    "replace_value(instructions['50'], '18')"
   ]
  },
  {
   "cell_type": "code",
   "execution_count": 125,
   "metadata": {},
   "outputs": [
    {
     "data": {
      "text/plain": [
       "False"
      ]
     },
     "execution_count": 125,
     "metadata": {},
     "output_type": "execute_result"
    }
   ],
   "source": [
    "# Are we done looking at this one:\n",
    "def check_done(l):\n",
    "    for x in flatten_list(l):\n",
    "        if re.match(r\"[0-9]\", x):\n",
    "            return False\n",
    "    return True\n",
    "check_done(instructions['50'])"
   ]
  },
  {
   "cell_type": "code",
   "execution_count": 126,
   "metadata": {},
   "outputs": [
    {
     "data": {
      "text/plain": [
       "True"
      ]
     },
     "execution_count": 126,
     "metadata": {},
     "output_type": "execute_result"
    }
   ],
   "source": [
    "check_done(instructions['18'])"
   ]
  },
  {
   "cell_type": "code",
   "execution_count": 127,
   "metadata": {},
   "outputs": [
    {
     "data": {
      "text/plain": [
       "'(518|6139)'"
      ]
     },
     "execution_count": 127,
     "metadata": {},
     "output_type": "execute_result"
    }
   ],
   "source": [
    "# Smoosh down the contents in to a regex:\n",
    "def regex_or(l):\n",
    "    l = [''.join(sublist) for sublist in l]\n",
    "    if len(l) > 1:\n",
    "        return '(' + '|'.join(l) + ')'\n",
    "    else:\n",
    "        return l[0]\n",
    "regex_or(instructions['50'])    "
   ]
  },
  {
   "cell_type": "code",
   "execution_count": 128,
   "metadata": {},
   "outputs": [],
   "source": [
    "# FINAL VERSION OF LOOP HERE:\n",
    "checked = []\n",
    "# And now we loop till she done:\n",
    "while not check_done(instructions['0']):\n",
    "    \n",
    "    # pick an element from the completed dict that we haven't checked yet:\n",
    "    next_key = ''\n",
    "    i = 0\n",
    "    while next_key == '':\n",
    "        if list(completed.keys())[i] in checked:\n",
    "            i += 1\n",
    "        else:\n",
    "            next_key = list(completed.keys())[i]\n",
    "    \n",
    "    # loop through the incomplete keys\n",
    "    for key in instructions.keys():\n",
    "        if key in completed.keys():\n",
    "            continue\n",
    "        # If we find a match:\n",
    "        if next_key in flatten_list(instructions[key]):\n",
    "            # Replace and update\n",
    "            new_val = replace_value(instructions[key], next_key)\n",
    "            # If it's done, add it to the list\n",
    "            if check_done(new_val):\n",
    "                new_val = regex_or(new_val)\n",
    "                completed.update({key:new_val})\n",
    "            # In any case update the instructions list\n",
    "            instructions.update({key:new_val})\n",
    "    # mark this off as having been done\n",
    "    checked += [next_key]"
   ]
  },
  {
   "cell_type": "code",
   "execution_count": 129,
   "metadata": {},
   "outputs": [
    {
     "data": {
      "text/plain": [
       "233"
      ]
     },
     "execution_count": 129,
     "metadata": {},
     "output_type": "execute_result"
    }
   ],
   "source": [
    "pattern = re.compile('^' + instructions['0'] + '$')\n",
    "sol1 = 0\n",
    "for message in messages:\n",
    "    if pattern.match(message):\n",
    "        sol1 +=1\n",
    "sol1"
   ]
  },
  {
   "cell_type": "markdown",
   "metadata": {},
   "source": [
    "### Part 2\n",
    "For the second part of this question we're asked to change two of the instructions and repeat the process. The catch is that there is a loop involved in the instructions now. We're also cautioned against trying to find a generalized solution to the problems but instead we should look to figure out the exact issues with this substitution. \n",
    "\n",
    "This is the subsitution:  \n",
    "8: 42 | 42 8  \n",
    "11: 42 31 | 42 11 31"
   ]
  },
  {
   "cell_type": "code",
   "execution_count": 130,
   "metadata": {},
   "outputs": [],
   "source": [
    "# Ok we add this to the dictionary:\n",
    "instructions_pt2 = copy.deepcopy(instructions_old)\n",
    "instructions_pt2.update({'8': [['42'], ['42', '8']], '11': [['42', '31'], ['42', '11', '31']]})\n",
    "# So the issues are that when we have an '8' in the expresssion, it could be like this (42)*8\n",
    "# and the same with 11 ~ 42*11\n",
    "\n",
    "# Unfortunately, my method of programming this did not actually place the individual numbers in there "
   ]
  },
  {
   "cell_type": "code",
   "execution_count": 131,
   "metadata": {},
   "outputs": [
    {
     "data": {
      "text/plain": [
       "[['42'], ['42', '8']]"
      ]
     },
     "execution_count": 131,
     "metadata": {},
     "output_type": "execute_result"
    }
   ],
   "source": [
    "instructions_pt2['8']"
   ]
  },
  {
   "cell_type": "code",
   "execution_count": 132,
   "metadata": {},
   "outputs": [
    {
     "data": {
      "text/plain": [
       "[['42', '31'], ['42', '11', '31']]"
      ]
     },
     "execution_count": 132,
     "metadata": {},
     "output_type": "execute_result"
    }
   ],
   "source": [
    "instructions_pt2['11']"
   ]
  },
  {
   "cell_type": "code",
   "execution_count": 133,
   "metadata": {},
   "outputs": [
    {
     "data": {
      "text/plain": [
       "[['8', '11']]"
      ]
     },
     "execution_count": 133,
     "metadata": {},
     "output_type": "execute_result"
    }
   ],
   "source": [
    "instructions_pt2['0']"
   ]
  },
  {
   "cell_type": "code",
   "execution_count": 134,
   "metadata": {},
   "outputs": [],
   "source": [
    "# Again make a list of the completed key value pairs\n",
    "completed2 = {}\n",
    "for key in instructions_pt2.keys():\n",
    "    flat_list = flatten_list(instructions_pt2[key])\n",
    "    if flat_list in [['a'], ['b']]:\n",
    "        completed2.update({key:flat_list[0]})"
   ]
  },
  {
   "cell_type": "code",
   "execution_count": 135,
   "metadata": {},
   "outputs": [],
   "source": [
    "# And.... loop\n",
    "checked2 = []\n",
    "# And now we loop till she done:\n",
    "while not check_done(instructions_pt2['0']):\n",
    "    \n",
    "    # I think we'll just add in a little break here to fix the\n",
    "    # two problem children of the house.\n",
    "    if '42' in completed2.keys():\n",
    "        completed2.update({'8':completed2['42'] + '+'})\n",
    "        instructions_pt2.update({'8':completed2['42'] + '+'})\n",
    "        if '31' in completed2.keys():\n",
    "            break;\n",
    "    \n",
    "    # pick an element from the completed dict that we haven't checked yet:\n",
    "    next_key = ''\n",
    "    i = 0\n",
    "    while next_key == '':\n",
    "        if list(completed2.keys())[i] in checked2:\n",
    "            i += 1\n",
    "        else:\n",
    "            next_key = list(completed2.keys())[i]\n",
    "    \n",
    "    # loop through the incomplete keys\n",
    "    for key in instructions_pt2.keys():\n",
    "        if key in completed2.keys():\n",
    "            continue\n",
    "        # If we find a match:\n",
    "        if next_key in flatten_list(instructions_pt2[key]):\n",
    "            # Replace and update\n",
    "            new_val = replace_value(instructions_pt2[key], next_key)\n",
    "            # If it's done, add it to the list\n",
    "            if check_done(new_val):\n",
    "                new_val = regex_or(new_val)\n",
    "                completed2.update({key:new_val})\n",
    "            # In any case update the instructions list\n",
    "            instructions_pt2.update({key:new_val})\n",
    "    # mark this off as having been done\n",
    "    checked2 += [next_key]"
   ]
  },
  {
   "cell_type": "code",
   "execution_count": 138,
   "metadata": {},
   "outputs": [
    {
     "data": {
      "text/plain": [
       "[['8', '11']]"
      ]
     },
     "execution_count": 138,
     "metadata": {},
     "output_type": "execute_result"
    }
   ],
   "source": [
    "instructions_pt2['0']"
   ]
  },
  {
   "cell_type": "code",
   "execution_count": 143,
   "metadata": {},
   "outputs": [
    {
     "data": {
      "text/plain": [
       "'((((a(b(baa|((a|b)b|ba)b)|a(a(bb|aa)|b(aa|ba)))|b((a(bb|a(a|b))|b(a|b)(a|b))b|(a(aa|ba)|b(bb|aa))a))a|(b(a(aba|(bb|aa)b)|b(((a|b)b|ba)a|(bb|aa)b))|a(a(ab|aa)(a|b)|b(b(bb|a(a|b))|a(ab|(a|b)a))))b)a|((a(((ba|ab)b|baa)b|((aa|b(a|b))a|(bb|a(a|b))b)a)|b(((ab|(a|b)a)b|(bb|aa)a)a|(bba|a(bb|ab))b))a|(b(a(a(aa|ba)|bab)|baba)|a((((a|b)b|ba)b|(bb|aa)a)a|(b(ab|(a|b)a)|a(bb|ba))b))b)b)a|(b(b(b((aba|b(a|b)(a|b))a|((bb|ba)b|(aa|b(a|b))a)b)|a(a(baa|(bb|ba)b)|b(aba|bba)))|a(b(b(b(ab|aa)|a(aa|ba))|a(aaa|b(aa|b(a|b))))|a(a(baa|(aa|ba)b)|b(b(a|b)(a|b)|a(bb|aa)))))|a((a(((aa|ba)a|aab)b|(aaa|(bb|ab)b)a)|b(b((a|b)b|ba)a|(bb|ab)bb))b|(a(a(aba|b(a|b)(a|b))|b(a(bb|ab)|b(bb|aa)))|b(bbab|(a(bb|a(a|b))|b(a|b)(a|b))a))a))b)'"
      ]
     },
     "execution_count": 143,
     "metadata": {},
     "output_type": "execute_result"
    }
   ],
   "source": [
    "instructions_pt2['31']"
   ]
  },
  {
   "cell_type": "code",
   "execution_count": 148,
   "metadata": {},
   "outputs": [
    {
     "data": {
      "text/plain": [
       "347"
      ]
     },
     "execution_count": 148,
     "metadata": {},
     "output_type": "execute_result"
    }
   ],
   "source": [
    "# Now the issue is that we want something like this 'a{n}b{n}' but I don't know how to hold that number\n",
    "# constant in a regular expression. I guess we can just keep doing it till we reach the max string length...\n",
    "max_len = max([len(x) for x in messages])\n",
    "new_messages = messages.copy()\n",
    "for i in range(1, max_len):\n",
    "    new_pattern = instructions_pt2['8'] + '(' + instructions_pt2['42'] +'{' + str(i) + '}?' + instructions_pt2['31'] +'{' + str(i) + '}?)'\n",
    "    new_pattern = re.compile('^' + new_pattern + '$')\n",
    "    for message in new_messages:\n",
    "        if pattern2.match(message):\n",
    "            new_messages.remove(message)\n",
    "len(messages) - len(new_messages)"
   ]
  },
  {
   "cell_type": "code",
   "execution_count": 146,
   "metadata": {},
   "outputs": [
    {
     "data": {
      "text/plain": [
       "'(a(a(b((a(ab|(a|b)a)b|((a|b)(a|b)b|(bb|ab)a)a)a|((bab|(bb|a(a|b))a)a|(((a|b)b|ba)b|(ab|(a|b)a)a)b)b)|a(a((bab|(bb|a(a|b))a)b|(baa|(bb|ba)b)a)|b((bb|a(a|b))bb|(a(bb|aa)|b(bb|ab))a)))|b(a(b(a(a(a|b)(a|b)|b(bb|ab))|b((ba|ab)b|baa))|a(((a|b)(a|b)b|(bb|ab)a)b|(a(bb|aa)|baa)a))|b(((aaa|(ab|(a|b)a)b)b|(bb|a(a|b))ba)b|((b(bb|ba)|aba)b|(bab|baa)a)a)))|b(((b(b((bb|ba)a|(a|b)(a|b)b)|a(b(bb|ba)|a(a|b)(a|b)))|a((baa|(aa|ba)b)a|((bb|ba)a|(bb|a(a|b))b)b))b|(a((a(bb|aa)|b(ab|(a|b)a))b|(b(ba|ab)|aba)a)|b((aaa|(ba|ab)b)b|(baa|aba)a))a)a|((a(a(baa|a(bb|ab))|b(b(bb|a(a|b))|a(ab|(a|b)a)))|b(a(b(a|b)(a|b)|a(ab|aa))|b((ab|aa)b|aba)))b|((((a|b)(a|b)a|aab)a|(a(bb|aa)|b(aa|ba))b)b|((b(ab|(a|b)a)|aaa)a|babb)a)a)b))+(a(a(b((a(ab|(a|b)a)b|((a|b)(a|b)b|(bb|ab)a)a)a|((bab|(bb|a(a|b))a)a|(((a|b)b|ba)b|(ab|(a|b)a)a)b)b)|a(a((bab|(bb|a(a|b))a)b|(baa|(bb|ba)b)a)|b((bb|a(a|b))bb|(a(bb|aa)|b(bb|ab))a)))|b(a(b(a(a(a|b)(a|b)|b(bb|ab))|b((ba|ab)b|baa))|a(((a|b)(a|b)b|(bb|ab)a)b|(a(bb|aa)|baa)a))|b(((aaa|(ab|(a|b)a)b)b|(bb|a(a|b))ba)b|((b(bb|ba)|aba)b|(bab|baa)a)a)))|b(((b(b((bb|ba)a|(a|b)(a|b)b)|a(b(bb|ba)|a(a|b)(a|b)))|a((baa|(aa|ba)b)a|((bb|ba)a|(bb|a(a|b))b)b))b|(a((a(bb|aa)|b(ab|(a|b)a))b|(b(ba|ab)|aba)a)|b((aaa|(ba|ab)b)b|(baa|aba)a))a)a|((a(a(baa|a(bb|ab))|b(b(bb|a(a|b))|a(ab|(a|b)a)))|b(a(b(a|b)(a|b)|a(ab|aa))|b((ab|aa)b|aba)))b|((((a|b)(a|b)a|aab)a|(a(bb|aa)|b(aa|ba))b)b|((b(ab|(a|b)a)|aaa)a|babb)a)a)b)){1}((((a(b(baa|((a|b)b|ba)b)|a(a(bb|aa)|b(aa|ba)))|b((a(bb|a(a|b))|b(a|b)(a|b))b|(a(aa|ba)|b(bb|aa))a))a|(b(a(aba|(bb|aa)b)|b(((a|b)b|ba)a|(bb|aa)b))|a(a(ab|aa)(a|b)|b(b(bb|a(a|b))|a(ab|(a|b)a))))b)a|((a(((ba|ab)b|baa)b|((aa|b(a|b))a|(bb|a(a|b))b)a)|b(((ab|(a|b)a)b|(bb|aa)a)a|(bba|a(bb|ab))b))a|(b(a(a(aa|ba)|bab)|baba)|a((((a|b)b|ba)b|(bb|aa)a)a|(b(ab|(a|b)a)|a(bb|ba))b))b)b)a|(b(b(b((aba|b(a|b)(a|b))a|((bb|ba)b|(aa|b(a|b))a)b)|a(a(baa|(bb|ba)b)|b(aba|bba)))|a(b(b(b(ab|aa)|a(aa|ba))|a(aaa|b(aa|b(a|b))))|a(a(baa|(aa|ba)b)|b(b(a|b)(a|b)|a(bb|aa)))))|a((a(((aa|ba)a|aab)b|(aaa|(bb|ab)b)a)|b(b((a|b)b|ba)a|(bb|ab)bb))b|(a(a(aba|b(a|b)(a|b))|b(a(bb|ab)|b(bb|aa)))|b(bbab|(a(bb|a(a|b))|b(a|b)(a|b))a))a))b){1}'"
      ]
     },
     "execution_count": 146,
     "metadata": {},
     "output_type": "execute_result"
    }
   ],
   "source": [
    "i = 1\n",
    "instructions_pt2['8'] + instructions_pt2['42'] +'{' + str(i) + '}' + instructions_pt2['31'] +'{' + str(i) + '}'"
   ]
  },
  {
   "cell_type": "code",
   "execution_count": 78,
   "metadata": {},
   "outputs": [
    {
     "data": {
      "text/plain": [
       "347"
      ]
     },
     "execution_count": 78,
     "metadata": {},
     "output_type": "execute_result"
    }
   ],
   "source": [
    "\n",
    "sol2 = 0\n",
    "for message in messages:\n",
    "    pattern2 = instructions_pt2['8'] + instructions_pt2['42'] +'{', + i + '}' instructions_pt2['31'] +'{', + i + '}'\n",
    "    pattern2 = re.compile('^' + pattern2 + '$')\n",
    "    if pattern2.match(message):\n",
    "        sol2 +=1\n",
    "sol2"
   ]
  },
  {
   "cell_type": "code",
   "execution_count": 98,
   "metadata": {},
   "outputs": [
    {
     "name": "stdout",
     "output_type": "stream",
     "text": [
      "1\n",
      "2\n"
     ]
    }
   ],
   "source": [
    "for i in range(1,3):\n",
    "    print(i)"
   ]
  },
  {
   "cell_type": "code",
   "execution_count": null,
   "metadata": {},
   "outputs": [],
   "source": []
  }
 ],
 "metadata": {
  "kernelspec": {
   "display_name": "Python 3",
   "language": "python",
   "name": "python3"
  },
  "language_info": {
   "codemirror_mode": {
    "name": "ipython",
    "version": 3
   },
   "file_extension": ".py",
   "mimetype": "text/x-python",
   "name": "python",
   "nbconvert_exporter": "python",
   "pygments_lexer": "ipython3",
   "version": "3.8.5"
  }
 },
 "nbformat": 4,
 "nbformat_minor": 4
}
