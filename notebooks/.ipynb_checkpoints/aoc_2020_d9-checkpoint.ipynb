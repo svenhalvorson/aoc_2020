{
 "cells": [
  {
   "cell_type": "markdown",
   "metadata": {},
   "source": [
    "## [Day 9](https://adventofcode.com/2020/day/9)\n",
    "\n",
    "Here we have a series of numbers where we're told that each number, after the first 25, should be the sum of at exactly two numbers in the previous 25.\n"
   ]
  },
  {
   "cell_type": "code",
   "execution_count": 1,
   "metadata": {},
   "outputs": [
    {
     "data": {
      "text/plain": [
       "[42, 27, 23, 19, 4, 26, 31, 29, 11, 49]"
      ]
     },
     "execution_count": 1,
     "metadata": {},
     "output_type": "execute_result"
    }
   ],
   "source": [
    "import pandas as pd\n",
    "import numpy as np\n",
    "import itertools\n",
    "\n",
    "xmas = np.genfromtxt('../inputs/d9.txt', dtype = 'int64')\n",
    "xmas = xmas.tolist()\n",
    "xmas[:10]"
   ]
  },
  {
   "cell_type": "code",
   "execution_count": 2,
   "metadata": {},
   "outputs": [
    {
     "data": {
      "text/plain": [
       "1000"
      ]
     },
     "execution_count": 2,
     "metadata": {},
     "output_type": "execute_result"
    }
   ],
   "source": [
    "len(xmas)"
   ]
  },
  {
   "cell_type": "markdown",
   "metadata": {},
   "source": [
    "So.... this seems like it's going to be very slow to brute force through...\n",
    "I'm not quite sure what kinds of things I can do to optimize this. One I idea I have is to perhaps not sum every combination again."
   ]
  },
  {
   "cell_type": "code",
   "execution_count": 3,
   "metadata": {},
   "outputs": [
    {
     "data": {
      "text/plain": [
       "[69, 65, 61, 46, 68]"
      ]
     },
     "execution_count": 3,
     "metadata": {},
     "output_type": "execute_result"
    }
   ],
   "source": [
    "def tupe_sum(x):\n",
    "    if x[0] == x[1]:\n",
    "        return 0.5\n",
    "    else:\n",
    "        return x[0] + x[1]\n",
    "\n",
    "tupes = itertools.permutations(xmas[:25], 2)\n",
    "sums = [tupe_sum(x) for x in tupes]\n",
    "curr = xmas[:25]\n",
    "sums[:5]"
   ]
  },
  {
   "cell_type": "code",
   "execution_count": 4,
   "metadata": {},
   "outputs": [
    {
     "name": "stdout",
     "output_type": "stream",
     "text": [
      "138879426\n"
     ]
    }
   ],
   "source": [
    "i = 25\n",
    "\n",
    "while True:\n",
    "    if xmas[i] in sums:\n",
    "        # Remove the sums we computed and the first in the list\n",
    "        del sums[:24]\n",
    "        curr.pop(0)\n",
    "        \n",
    "        # add the new sums\n",
    "        sums += [tupe_sum((x,xmas[i])) for x in curr]\n",
    "        curr.append(xmas[i])\n",
    "        i+= 1\n",
    "    else:\n",
    "        pt1_sol = xmas[i]\n",
    "        print(pt1_sol)\n",
    "        break        "
   ]
  },
  {
   "cell_type": "markdown",
   "metadata": {},
   "source": [
    "### Part 2\n",
    "For part 2 we're asked to find a sequence of values that sum to the previous solution and then give the sum of the smallest and largest. Seems like time was not a factor on that last one so let's just do it in a one by one case again:"
   ]
  },
  {
   "cell_type": "code",
   "execution_count": 8,
   "metadata": {},
   "outputs": [
    {
     "data": {
      "text/plain": [
       "23761694"
      ]
     },
     "execution_count": 8,
     "metadata": {},
     "output_type": "execute_result"
    }
   ],
   "source": [
    "i = 0\n",
    "while True:\n",
    "    j = 0\n",
    "    curr = xmas[i]\n",
    "    while curr < pt1_sol:\n",
    "        j += 1\n",
    "        curr += xmas[i+j]\n",
    "    if curr == pt1_sol:\n",
    "        break        \n",
    "    i += 1\n",
    "\n",
    "min(xmas[i:(i+j+1)]) + max(xmas[i:(i+j+1)])"
   ]
  },
  {
   "cell_type": "code",
   "execution_count": 9,
   "metadata": {},
   "outputs": [
    {
     "data": {
      "text/plain": [
       "138879426"
      ]
     },
     "execution_count": 9,
     "metadata": {},
     "output_type": "execute_result"
    }
   ],
   "source": [
    "sum(xmas[i:(i+j+1)])"
   ]
  }
 ],
 "metadata": {
  "kernelspec": {
   "display_name": "Python 3",
   "language": "python",
   "name": "python3"
  },
  "language_info": {
   "codemirror_mode": {
    "name": "ipython",
    "version": 3
   },
   "file_extension": ".py",
   "mimetype": "text/x-python",
   "name": "python",
   "nbconvert_exporter": "python",
   "pygments_lexer": "ipython3",
   "version": "3.8.5"
  }
 },
 "nbformat": 4,
 "nbformat_minor": 4
}
