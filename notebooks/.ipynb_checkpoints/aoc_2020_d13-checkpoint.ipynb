{
 "cells": [
  {
   "cell_type": "markdown",
   "metadata": {},
   "source": [
    "## [Day 13](https://adventofcode.com/2020/day/13)\n",
    "\n",
    "Hmm so this problem has to do with a number of busses departing and we're asked to find which number bus line comes soonest after the first specified number....\n",
    "\n",
    "This seems really simple and I'm kinda wondering if I missing anything here... I'm sure the x's will come back to be meaningful in part 2. "
   ]
  },
  {
   "cell_type": "code",
   "execution_count": 1,
   "metadata": {},
   "outputs": [
    {
     "data": {
      "text/plain": [
       "['1004098', '67,7,x,59,61']"
      ]
     },
     "execution_count": 1,
     "metadata": {},
     "output_type": "execute_result"
    }
   ],
   "source": [
    "import pandas as pd\n",
    "import numpy as np\n",
    "import math\n",
    "\n",
    "busses = open('../inputs/d13_check2.txt').read().splitlines()\n",
    "busses"
   ]
  },
  {
   "cell_type": "code",
   "execution_count": 2,
   "metadata": {},
   "outputs": [
    {
     "data": {
      "text/plain": [
       "[67, 7, 59, 61]"
      ]
     },
     "execution_count": 2,
     "metadata": {},
     "output_type": "execute_result"
    }
   ],
   "source": [
    "dept_time = int(busses[0])\n",
    "busses = busses[1].split(',')\n",
    "routes = [int(x) for x in busses if x != 'x']\n",
    "routes[:5]"
   ]
  },
  {
   "cell_type": "markdown",
   "metadata": {},
   "source": [
    "So now I'm going to make the departure time negative and take remainders by the routes."
   ]
  },
  {
   "cell_type": "code",
   "execution_count": 3,
   "metadata": {},
   "outputs": [
    {
     "data": {
      "text/plain": [
       "[31, 3, 23, 23]"
      ]
     },
     "execution_count": 3,
     "metadata": {},
     "output_type": "execute_result"
    }
   ],
   "source": [
    "waits = [-1*dept_time % x for x in routes]\n",
    "waits"
   ]
  },
  {
   "cell_type": "code",
   "execution_count": 4,
   "metadata": {},
   "outputs": [
    {
     "data": {
      "text/plain": [
       "21"
      ]
     },
     "execution_count": 4,
     "metadata": {},
     "output_type": "execute_result"
    }
   ],
   "source": [
    "position = waits.index(min(waits))\n",
    "waits[position]*routes[position]"
   ]
  },
  {
   "cell_type": "markdown",
   "metadata": {},
   "source": [
    "Hmmm that was about as easy as I expected..."
   ]
  },
  {
   "cell_type": "markdown",
   "metadata": {},
   "source": [
    "### Part 2\n",
    "\n",
    "So this just looks like a Chinese remainder theorem problem. The modulo for those  is their position within the original list. We basically need to find the value x such that\n",
    "\n",
    "$$ x\\text{ mod 23 }= 0$$\n",
    "$$ x\\text{ mod 41 }= -13$$\n",
    "\n",
    "Ect."
   ]
  },
  {
   "cell_type": "code",
   "execution_count": 5,
   "metadata": {},
   "outputs": [
    {
     "data": {
      "text/plain": [
       "[0, -1, -3, -4]"
      ]
     },
     "execution_count": 5,
     "metadata": {},
     "output_type": "execute_result"
    }
   ],
   "source": [
    "# So we'll start with finding those indexes:\n",
    "remainders = [-1*busses.index(str(x)) for x in routes]\n",
    "remainders"
   ]
  },
  {
   "cell_type": "markdown",
   "metadata": {},
   "source": [
    "What took me a while is to think of this with the negative signs. Instead of how far from when the bus comes, we're looking for how from from time $t$.\n",
    "\n",
    "I more or less remember this from school so I'll just go ahead and try to solve it using the [steps here](https://brilliant.org/wiki/chinese-remainder-theorem/)."
   ]
  },
  {
   "cell_type": "code",
   "execution_count": 6,
   "metadata": {},
   "outputs": [
    {
     "data": {
      "text/plain": [
       "[67, 7, 59, 61]"
      ]
     },
     "execution_count": 6,
     "metadata": {},
     "output_type": "execute_result"
    }
   ],
   "source": [
    "# first thing we do is check that all the divisors are pairwise coprime\n",
    "# Writing a function for this seems.... tedious so I just visually looked it over\n",
    "# and can see that we have only primes in the list\n",
    "routes"
   ]
  },
  {
   "cell_type": "code",
   "execution_count": 7,
   "metadata": {},
   "outputs": [
    {
     "data": {
      "text/plain": [
       "1.0"
      ]
     },
     "execution_count": 7,
     "metadata": {},
     "output_type": "execute_result"
    }
   ],
   "source": [
    "# next we compute the product of all the modulos:\n",
    "mod_prod = pd.Series(routes).product()\n",
    "\n",
    "# Now we compute the division of this by each elemen\n",
    "y_i = [mod_prod/x for x in routes]\n",
    "\n",
    "# Then the multiplicative inverses of each of these y_i mod route\n",
    "inverses = []\n",
    "for i in range(len(routes)):\n",
    "    \n",
    "    for val in range(routes[i]):\n",
    "        if (val*y_i[i]) % routes[i] == 1:\n",
    "            inverses.append(val)\n",
    "            break\n",
    "\n",
    "# test one:\n",
    "inverses[0]*y_i[0] % routes[0]"
   ]
  },
  {
   "cell_type": "code",
   "execution_count": 8,
   "metadata": {},
   "outputs": [
    {
     "data": {
      "text/plain": [
       "1261476.0"
      ]
     },
     "execution_count": 8,
     "metadata": {},
     "output_type": "execute_result"
    }
   ],
   "source": [
    "# now the solution we can do with vectorized series:\n",
    "sol = (pd.Series(remainders)*pd.Series(y_i)*pd.Series(inverses)).sum()\n",
    "sol % mod_prod"
   ]
  },
  {
   "cell_type": "code",
   "execution_count": 9,
   "metadata": {},
   "outputs": [
    {
     "data": {
      "text/plain": [
       "[67, 7, 59, 61]"
      ]
     },
     "execution_count": 9,
     "metadata": {},
     "output_type": "execute_result"
    }
   ],
   "source": [
    "routes"
   ]
  }
 ],
 "metadata": {
  "kernelspec": {
   "display_name": "Python 3",
   "language": "python",
   "name": "python3"
  },
  "language_info": {
   "codemirror_mode": {
    "name": "ipython",
    "version": 3
   },
   "file_extension": ".py",
   "mimetype": "text/x-python",
   "name": "python",
   "nbconvert_exporter": "python",
   "pygments_lexer": "ipython3",
   "version": "3.8.5"
  }
 },
 "nbformat": 4,
 "nbformat_minor": 4
}
