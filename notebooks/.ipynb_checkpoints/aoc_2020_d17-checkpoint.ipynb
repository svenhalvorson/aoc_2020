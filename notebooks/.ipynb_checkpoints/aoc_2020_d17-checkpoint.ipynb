{
 "cells": [
  {
   "cell_type": "markdown",
   "metadata": {},
   "source": [
    "## [Day 17](https://adventofcode.com/2020/day17)\n",
    "\n",
    "Here we have another geometric style puzzle where we have a 3D space full of nodes. At each node, we can have the state on (#) or off (.). At each cyle, the nodes consider the 1 unit cube (26 values) around them.. The rules about changing each node are:\n",
    "1. If the node is active and 2 or 3 of their neighbors are active, it stays active. Otherwise it goes inactive.\n",
    "2. If the node is inactive and three of their neighbors are active, it becomes active. Otherwise, it becomes inactive.\n",
    "\n",
    "We're asked to run this process 6 times on the initial input and then count the number of active nodes.\n",
    "\n",
    "The challange for this seems that the space is infinite so we're going to come up with a way of not going 'out of bounds' on our indices."
   ]
  },
  {
   "cell_type": "code",
   "execution_count": 1,
   "metadata": {},
   "outputs": [],
   "source": [
    "import pandas as pd\n",
    "import numpy as np\n",
    "import itertools\n",
    "nodes = open('../inputs/d17.txt').read().splitlines()\n",
    "nodes"
   ]
  },
  {
   "cell_type": "markdown",
   "metadata": {},
   "source": [
    "So I think this will be easiest to store as a dictionary with triplets (tuples) as the keys and the active status as the value. Let's initialize our dictionary with the puzzle input. I don't really care that much about maintaining the visual aspect of this (since I'm bad at that kind of thing anyways) so let's just have downward along the list be y increasing."
   ]
  },
  {
   "cell_type": "code",
   "execution_count": 2,
   "metadata": {},
   "outputs": [],
   "source": [
    "space = {}\n",
    "for y, row in enumerate(nodes):\n",
    "    for x, value in enumerate(row):\n",
    "        space.update({(x,y,0):(value)})"
   ]
  },
  {
   "cell_type": "code",
   "execution_count": 3,
   "metadata": {},
   "outputs": [],
   "source": [
    "space"
   ]
  },
  {
   "cell_type": "markdown",
   "metadata": {},
   "source": [
    "Now how about a function to add a 'skin' to the space. I need to be able to expand the space when we need more room to place values. We could do this just from knowing the initial dimensions but I kind of want to program this in a way that doesn't care about magic numbers."
   ]
  },
  {
   "cell_type": "code",
   "execution_count": 4,
   "metadata": {},
   "outputs": [],
   "source": [
    "def add_skin(cycle):\n",
    "    # Get the mins and maxes of each dimension:\n",
    "    xs = [key[0] for key in cycle.keys()]\n",
    "    ys = [key[1] for key in cycle.keys()]\n",
    "    zs = [key[2] for key in cycle.keys()]\n",
    "    xmin, xmax = min(xs), max(xs)\n",
    "    ymin, ymax = min(ys), max(ys)\n",
    "    zmin, zmax = min(zs), max(zs)\n",
    "    # Then the range of value\n",
    "    xrange = list(range(xmin-1, xmax+2))\n",
    "    yrange = list(range(ymin-1, ymax+2))\n",
    "    zrange = list(range(zmin-1, zmax+2))\n",
    "    # now we just loop through. Adding the tuples is kind of interesting\n",
    "    # If you write something like (x,) then python knows this is a 1-tuple\n",
    "    for tupe in itertools.product(xrange, yrange):\n",
    "        cycle.update({tupe+(zmin-1,) : '.', tupe+(zmax+1,) : '.'})\n",
    "    for tupe in itertools.product(xrange, zrange):\n",
    "        cycle.update({tupe[:1]+(ymin-1,)+tupe[-1:] : '.', tupe[:1]+(ymax+1,)+tupe[-1:] : '.'})    \n",
    "    for tupe in itertools.product(yrange, zrange):\n",
    "        cycle.update({(xmin-1,)+tupe : '.', (xmax+1,)+tupe : '.'})\n",
    "    return cycle"
   ]
  },
  {
   "cell_type": "markdown",
   "metadata": {},
   "source": [
    "Now a function to get the neighbors of a given location:"
   ]
  },
  {
   "cell_type": "code",
   "execution_count": 5,
   "metadata": {},
   "outputs": [],
   "source": [
    "def get_neighbs(tupe):\n",
    "    x, y, z = tupe[0], tupe[1], tupe[2]\n",
    "    neighbors = list(itertools.product([x-1, x, x+1], [y-1, y, y+1], [z-1, z, z+1]))\n",
    "    neighbors = [tuple(x) for x in neighbors]\n",
    "    neighbors.remove(tupe)\n",
    "    tot = 0\n",
    "    for neighbor in neighbors:\n",
    "        if neighbor in space:\n",
    "            tot += space[neighbor] == '#'\n",
    "    return tot"
   ]
  },
  {
   "cell_type": "code",
   "execution_count": 6,
   "metadata": {},
   "outputs": [],
   "source": [
    "space[(0, 1, 0)]"
   ]
  },
  {
   "cell_type": "markdown",
   "metadata": {},
   "source": [
    "Finally, we run through some iterations:"
   ]
  },
  {
   "cell_type": "code",
   "execution_count": 7,
   "metadata": {},
   "outputs": [],
   "source": [
    "for i in range(6):\n",
    "    # Add a new skin outwards\n",
    "    space = add_skin(space)\n",
    "    # make a copy to store the next round in:\n",
    "    next_space = space.copy()\n",
    "    # Iterate through the last dictionary and save to the new:\n",
    "    for loc in space:\n",
    "        neighbs = get_neighbs(loc)\n",
    "        if space[loc] == '#':\n",
    "            if neighbs not in [2,3]:\n",
    "                next_space.update({loc: '.'})\n",
    "        else:\n",
    "            if neighbs == 3:\n",
    "                next_space.update({loc:'#'})\n",
    "    # reset\n",
    "    space = next_space\n"
   ]
  },
  {
   "cell_type": "code",
   "execution_count": 8,
   "metadata": {},
   "outputs": [
    {
     "data": {
      "text/plain": [
       "375"
      ]
     },
     "execution_count": 8,
     "metadata": {},
     "output_type": "execute_result"
    }
   ],
   "source": [
    "sol1 = 0\n",
    "for loc in space:\n",
    "    if space[loc] == '#':\n",
    "        sol1 += 1\n",
    "sol1        "
   ]
  },
  {
   "cell_type": "code",
   "execution_count": null,
   "metadata": {},
   "outputs": [],
   "source": [
    "##"
   ]
  }
 ],
 "metadata": {
  "kernelspec": {
   "display_name": "Python 3",
   "language": "python",
   "name": "python3"
  },
  "language_info": {
   "codemirror_mode": {
    "name": "ipython",
    "version": 3
   },
   "file_extension": ".py",
   "mimetype": "text/x-python",
   "name": "python",
   "nbconvert_exporter": "python",
   "pygments_lexer": "ipython3",
   "version": "3.8.5"
  }
 },
 "nbformat": 4,
 "nbformat_minor": 4
}
