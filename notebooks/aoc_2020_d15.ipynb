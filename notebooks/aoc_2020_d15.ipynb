{
 "cells": [
  {
   "cell_type": "markdown",
   "metadata": {},
   "source": [
    "## [Day 15](https://adventofcode.com/2020/day/15)\n",
    "\n",
    "Here we have some sort of game that involves adding numbers to a sequence. Our goal is to figure out what the 2020th number in the sequence is. The rules of which are:\n",
    "1. We begin with a string of starting numbers\n",
    "2. If the previous number has never ocurred before (the previous position)\n",
    "3. If the previous number has ocurred before, we list the distance to the last ocurrance"
   ]
  },
  {
   "cell_type": "code",
   "execution_count": 1,
   "metadata": {},
   "outputs": [],
   "source": [
    "import pandas as pd\n",
    "import numpy as np\n",
    "\n",
    "start_list = [1,20,8,12,0,14]\n"
   ]
  },
  {
   "cell_type": "markdown",
   "metadata": {},
   "source": [
    "The general strategy for this is:\n",
    "1. Initialize a dictionary of the values that we have EXCEPT the last one and note their positions\n",
    "2. Look at the last element in the list and see if it's in our dictionary\n",
    "4. If it's in the dictionary, we compute the distance to it, update the last value to the dictionary, then add the distance to the list\n",
    "5. Otherwise, we just update the last value in the list then add zero to it."
   ]
  },
  {
   "cell_type": "code",
   "execution_count": 2,
   "metadata": {},
   "outputs": [
    {
     "data": {
      "text/plain": [
       "492"
      ]
     },
     "execution_count": 2,
     "metadata": {},
     "output_type": "execute_result"
    }
   ],
   "source": [
    "# So... I can see that my input has no duplicates but if it did I would \n",
    "# go through something else to initialize this:\n",
    "game_list = start_list.copy()\n",
    "visited = dict(zip(game_list[:-1], list(range(len(game_list[:-1])))))\n",
    "\n",
    "for i in range(2020-len(start_list)):  \n",
    "    # first extract the previous value:\n",
    "    prev = game_list[-1]\n",
    "    \n",
    "    # Now we wonder if we have seen this value before:\n",
    "    if prev in visited.keys():\n",
    "        dist = len(game_list) - visited[prev] - 1\n",
    "    else:\n",
    "        dist = 0\n",
    "    \n",
    "    visited.update({prev:len(game_list)-1})\n",
    "    game_list += [dist]\n",
    "    \n",
    "game_list[-1]    "
   ]
  },
  {
   "cell_type": "markdown",
   "metadata": {},
   "source": [
    "There was some mental hangup on this one that made it quite hard althoug the actual solution I came up with was very short. I think there was something in my head that made me want to record the location of the last element in the list although that made it hard in ways I'm having difficulty explaining now."
   ]
  },
  {
   "cell_type": "markdown",
   "metadata": {},
   "source": [
    "### Part 2\n",
    "\n",
    "Now we're just asked to give the 30,000,000th number... I hope this isn't some kind of wild efficiency test that I'm going to fail at. The only thing that I did consciously to speed  this up is have it look through the dictionary keys instead of the list which should save some time since those are unique."
   ]
  },
  {
   "cell_type": "code",
   "execution_count": 4,
   "metadata": {},
   "outputs": [
    {
     "data": {
      "text/plain": [
       "63644"
      ]
     },
     "execution_count": 4,
     "metadata": {},
     "output_type": "execute_result"
    }
   ],
   "source": [
    "game_list = start_list.copy()\n",
    "visited = dict(zip(game_list[:-1], list(range(len(game_list[:-1])))))\n",
    "\n",
    "for i in range(30000000-len(start_list)):  \n",
    "    # first extract the previous value:\n",
    "    prev = game_list[-1]\n",
    "    \n",
    "    # Now we wonder if we have seen this value before:\n",
    "    if prev in visited.keys():\n",
    "        dist = len(game_list) - visited[prev] - 1\n",
    "    else:\n",
    "        dist = 0\n",
    "    \n",
    "    visited.update({prev:len(game_list)-1})\n",
    "    game_list += [dist]\n",
    "    \n",
    "game_list[-1]    "
   ]
  },
  {
   "cell_type": "markdown",
   "metadata": {},
   "source": [
    "Well that takes about a whole minute but not too bad!"
   ]
  }
 ],
 "metadata": {
  "kernelspec": {
   "display_name": "Python 3",
   "language": "python",
   "name": "python3"
  },
  "language_info": {
   "codemirror_mode": {
    "name": "ipython",
    "version": 3
   },
   "file_extension": ".py",
   "mimetype": "text/x-python",
   "name": "python",
   "nbconvert_exporter": "python",
   "pygments_lexer": "ipython3",
   "version": "3.8.5"
  }
 },
 "nbformat": 4,
 "nbformat_minor": 4
}
